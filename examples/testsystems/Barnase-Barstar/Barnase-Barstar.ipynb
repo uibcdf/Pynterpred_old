{
 "cells": [
  {
   "cell_type": "code",
   "execution_count": 1,
   "metadata": {},
   "outputs": [
    {
     "ename": "ModuleNotFoundError",
     "evalue": "No module named 'MolLabTools'",
     "output_type": "error",
     "traceback": [
      "\u001b[0;31m---------------------------------------------------------------------------\u001b[0m",
      "\u001b[0;31mModuleNotFoundError\u001b[0m                       Traceback (most recent call last)",
      "\u001b[0;32m<ipython-input-1-994ecbc2ce3f>\u001b[0m in \u001b[0;36m<module>\u001b[0;34m()\u001b[0m\n\u001b[1;32m      2\u001b[0m \u001b[0msys\u001b[0m\u001b[0;34m.\u001b[0m\u001b[0mpath\u001b[0m\u001b[0;34m.\u001b[0m\u001b[0mappend\u001b[0m\u001b[0;34m(\u001b[0m\u001b[0;34m'/home/diego/Myusr/src/UIBCDFGitHub/LabTools'\u001b[0m\u001b[0;34m)\u001b[0m\u001b[0;34m\u001b[0m\u001b[0m\n\u001b[1;32m      3\u001b[0m \u001b[0;34m\u001b[0m\u001b[0m\n\u001b[0;32m----> 4\u001b[0;31m \u001b[0;32mimport\u001b[0m \u001b[0mMolLabTools\u001b[0m \u001b[0;32mas\u001b[0m \u001b[0mMolLab\u001b[0m\u001b[0;34m\u001b[0m\u001b[0m\n\u001b[0m\u001b[1;32m      5\u001b[0m \u001b[0;32mimport\u001b[0m \u001b[0mMDLabTools\u001b[0m  \u001b[0;32mas\u001b[0m \u001b[0mMDLab\u001b[0m\u001b[0;34m\u001b[0m\u001b[0m\n\u001b[1;32m      6\u001b[0m \u001b[0;34m\u001b[0m\u001b[0m\n",
      "\u001b[0;31mModuleNotFoundError\u001b[0m: No module named 'MolLabTools'"
     ]
    }
   ],
   "source": [
    "import sys\n",
    "sys.path.append('/home/diego/Myusr/src/UIBCDFGitHub/LabTools')\n",
    "\n",
    "import MolLabTools as MolLab\n",
    "import MDLabTools  as MDLab\n",
    "\n",
    "from copy import deepcopy\n",
    "import numpy as np\n",
    "from pdbfixer import PDBFixer\n",
    "from simtk import openmm, unit\n",
    "from simtk.openmm import app\n",
    "import mdtraj\n",
    "import nglview"
   ]
  },
  {
   "cell_type": "markdown",
   "metadata": {},
   "source": [
    "# Getting the test system Barnase-Barstar"
   ]
  },
  {
   "cell_type": "markdown",
   "metadata": {},
   "source": [
    "## Introduction\n",
    "\n",
    "The complex Barnase Barstar is one of the main workhorses when protein-protein interactions methods needs to be tested. Thereby, the system has being widely studied. Maybe one the last hits in the computational literature regarding this system is the paper REF where the binding kinetics is unveiled using an adaptive sampling approach comined with TRAM.\n",
    "\n",
    "The Barnase-Barstar used here as a bench test system will be the same used in REF: the monomer Barstar A coming from the pdb 1BRS and the monomer Barnase F fitted by Barstar B from the same pdb."
   ]
  },
  {
   "cell_type": "markdown",
   "metadata": {},
   "source": [
    "## Extracting molecules from 1brs.pdb"
   ]
  },
  {
   "cell_type": "markdown",
   "metadata": {},
   "source": [
    "Getting the 1BRS pdb (downloaded to be stored in pdbs/)"
   ]
  },
  {
   "cell_type": "code",
   "execution_count": null,
   "metadata": {},
   "outputs": [],
   "source": [
    "pdbs_dir=\"pdbs/\""
   ]
  },
  {
   "cell_type": "code",
   "execution_count": null,
   "metadata": {},
   "outputs": [],
   "source": [
    "MolLab.Tools.get_pdb_file('1brs',destination=pdbs_dir)"
   ]
  },
  {
   "cell_type": "markdown",
   "metadata": {},
   "source": [
    "The pdb is loaded"
   ]
  },
  {
   "cell_type": "code",
   "execution_count": null,
   "metadata": {},
   "outputs": [],
   "source": [
    "fix_1brs=PDBFixer(pdbs_dir+\"1brs.pdb\")"
   ]
  },
  {
   "cell_type": "markdown",
   "metadata": {},
   "source": [
    "Lets check de number of chains. Crystal waters attached to each protein has the same chain id and they have to be removed. (this can be probably done easier)"
   ]
  },
  {
   "cell_type": "code",
   "execution_count": null,
   "metadata": {},
   "outputs": [],
   "source": [
    "for chain in fix_1brs.topology.chains():\n",
    "    print(\"Chain index {} with pdb id {}\".format(chain.id,chain.index))"
   ]
  },
  {
   "cell_type": "code",
   "execution_count": null,
   "metadata": {},
   "outputs": [],
   "source": [
    "fix_1brs.removeChains([6,7,8,9,10,11])"
   ]
  },
  {
   "cell_type": "markdown",
   "metadata": {},
   "source": [
    "The proteins in the pdb need to be fixed. They have missed atoms and residues."
   ]
  },
  {
   "cell_type": "code",
   "execution_count": null,
   "metadata": {},
   "outputs": [],
   "source": [
    "chains = list(fix_1brs.topology.chains())\n",
    "num_chains = len(chains)"
   ]
  },
  {
   "cell_type": "code",
   "execution_count": null,
   "metadata": {},
   "outputs": [],
   "source": [
    "fix_1brs.findMissingResidues()\n",
    "fix_1brs.findNonstandardResidues()\n",
    "fix_1brs.findMissingAtoms()"
   ]
  },
  {
   "cell_type": "code",
   "execution_count": null,
   "metadata": {},
   "outputs": [],
   "source": [
    "#print(fix_1brs.missingResidues)\n",
    "#print(fix_1brs.nonstandardResidues)\n",
    "#print(fix_1brs.missingAtoms)"
   ]
  },
  {
   "cell_type": "code",
   "execution_count": null,
   "metadata": {},
   "outputs": [],
   "source": [
    "fix_1brs.addMissingAtoms()"
   ]
  },
  {
   "cell_type": "markdown",
   "metadata": {},
   "source": [
    "Each chain corresponding to Barnase (A, B or C) and Barstar (D, E, or F) is written in a separate pdb in the same pdbs directory"
   ]
  },
  {
   "cell_type": "code",
   "execution_count": null,
   "metadata": {},
   "outputs": [],
   "source": [
    "aux_dict={}\n",
    "aux_dict[\"Barnase_A\"]=0\n",
    "aux_dict[\"Barnase_B\"]=1\n",
    "aux_dict[\"Barnase_C\"]=2\n",
    "aux_dict[\"Barstar_D\"]=3\n",
    "aux_dict[\"Barstar_E\"]=4\n",
    "aux_dict[\"Barstar_F\"]=5"
   ]
  },
  {
   "cell_type": "code",
   "execution_count": null,
   "metadata": {},
   "outputs": [],
   "source": [
    "for molecule_name in aux_dict.keys():\n",
    "    chain_in=aux_dict[molecule_name]\n",
    "    chains_out=list(range(num_chains))\n",
    "    chains_out.remove(chain_in)\n",
    "    globals()[molecule_name]= deepcopy(fix_1brs)\n",
    "    aux_1brs=globals()[molecule_name]\n",
    "    aux_1brs.removeChains(chains_out)\n",
    "    pdbfilename = '1brs_'+molecule_name+'_fixed.pdb'\n",
    "    outfile = open(pdbs_dir+pdbfilename, 'w')\n",
    "    app.PDBFile.writeFile(aux_1brs.topology, aux_1brs.positions, outfile)\n",
    "    outfile.close()\n",
    "    del(aux_1brs,chain_in,chains_out,outfile)"
   ]
  },
  {
   "cell_type": "markdown",
   "metadata": {},
   "source": [
    "### Viewing structures coming from 1brs.pdb"
   ]
  },
  {
   "cell_type": "markdown",
   "metadata": {},
   "source": [
    "In case the previous section was already run we can just load the pdbs corresponding to Barnase (A, B and C) and Barstar(D, E and F)."
   ]
  },
  {
   "cell_type": "code",
   "execution_count": null,
   "metadata": {},
   "outputs": [],
   "source": [
    "# With this cell the molecular systems already written in pdbs can be loaded (there is no need to execute previous block).\n",
    "# Nothing will happen in case the notebook was run from the beginning.\n",
    "\n",
    "pdbs_dir=\"pdbs/\"\n",
    "molecule_names=[\"Barnase_A\",\"Barnase_B\",\"Barnase_C\",\"Barstar_D\",\"Barstar_E\",\"Barstar_F\"]\n",
    "\n",
    "for molecule_name in molecule_names:\n",
    "    if molecule_name not in globals():\n",
    "        pdbfilename = '1brs_'+molecule_name+'_fixed.pdb'\n",
    "        globals()[molecule_name]=app.PDBFile(pdbs_dir+pdbfilename)"
   ]
  },
  {
   "cell_type": "markdown",
   "metadata": {},
   "source": [
    "Lets define an auxilary function to visualize the proteins:"
   ]
  },
  {
   "cell_type": "code",
   "execution_count": null,
   "metadata": {},
   "outputs": [],
   "source": [
    "def make_view(mol_system=None,positions=None):\n",
    "    topology=mol_system.getTopology()\n",
    "    if not positions:\n",
    "        positions=mol_system.getPositions()\n",
    "    mdtraj_aux_topology = mdtraj.Topology.from_openmm(topology)\n",
    "    traj_aux = mdtraj.Trajectory(positions/unit.nanometers, mdtraj_aux_topology)\n",
    "    view = nglview.show_mdtraj(traj_aux)\n",
    "    view.center()\n",
    "    return view"
   ]
  },
  {
   "cell_type": "markdown",
   "metadata": {},
   "source": [
    "The 1BRS pdb has 3 Barnase-Barstar molecular complexes which can be visualized separately:"
   ]
  },
  {
   "cell_type": "code",
   "execution_count": null,
   "metadata": {},
   "outputs": [],
   "source": [
    "receptor = Barnase_A\n",
    "ligand   = Barstar_D\n",
    "heterodimer_AD=app.Modeller(receptor.topology, receptor.positions)\n",
    "heterodimer_AD.add(ligand.topology, ligand.positions)\n",
    "\n",
    "view_AD=make_view(heterodimer_AD)\n",
    "view_AD.clear()\n",
    "view_AD.add_cartoon(selection=\":A\", color='green')\n",
    "view_AD.add_surface(selection=\":A\", opacity=0.1)\n",
    "view_AD.add_cartoon(selection=\":B\", color='orange')\n",
    "view_AD.add_surface(selection=\":B\", opacity=0.1)\n",
    "\n",
    "view_AD"
   ]
  },
  {
   "cell_type": "code",
   "execution_count": null,
   "metadata": {},
   "outputs": [],
   "source": [
    "receptor = Barnase_B\n",
    "ligand   = Barstar_E\n",
    "heterodimer_BE=app.Modeller(receptor.topology, receptor.positions)\n",
    "heterodimer_BE.add(ligand.topology, ligand.positions)\n",
    "\n",
    "view_BE=make_view(heterodimer_BE)\n",
    "view_BE.clear()\n",
    "view_BE.add_cartoon(selection=\":A\", color='purple')\n",
    "view_BE.add_surface(selection=\":A\", opacity=0.1)\n",
    "view_BE.add_cartoon(selection=\":B\", color='blue')\n",
    "view_BE.add_surface(selection=\":B\", opacity=0.1)\n",
    "\n",
    "view_BE"
   ]
  },
  {
   "cell_type": "code",
   "execution_count": null,
   "metadata": {},
   "outputs": [],
   "source": [
    "receptor = Barnase_C\n",
    "ligand   = Barstar_F\n",
    "heterodimer_CF=app.Modeller(receptor.topology, receptor.positions)\n",
    "heterodimer_CF.add(ligand.topology, ligand.positions)\n",
    "\n",
    "view_CF=make_view(heterodimer_CF)\n",
    "view_CF.clear()\n",
    "view_CF.add_cartoon(selection=\":A\", color='red')\n",
    "view_CF.add_surface(selection=\":A\", opacity=0.1)\n",
    "view_CF.add_cartoon(selection=\":B\", color='yellow')\n",
    "view_CF.add_surface(selection=\":B\", opacity=0.1)\n",
    "\n",
    "view_CF"
   ]
  },
  {
   "cell_type": "markdown",
   "metadata": {},
   "source": [
    "Or together as they were solved in the unit cell:"
   ]
  },
  {
   "cell_type": "code",
   "execution_count": null,
   "metadata": {},
   "outputs": [],
   "source": [
    "tri_heterodimer_pdb=app.Modeller(Barnase_A.topology,Barnase_A.positions)\n",
    "tri_heterodimer_pdb.add(Barnase_B.topology, Barnase_B.positions)\n",
    "tri_heterodimer_pdb.add(Barnase_C.topology, Barnase_C.positions)\n",
    "tri_heterodimer_pdb.add(Barstar_D.topology, Barstar_D.positions)\n",
    "tri_heterodimer_pdb.add(Barstar_E.topology, Barstar_E.positions)\n",
    "tri_heterodimer_pdb.add(Barstar_F.topology, Barstar_F.positions)\n",
    "\n",
    "\n",
    "view_tri=make_view(tri_heterodimer_pdb)\n",
    "view_tri.clear()\n",
    "view_tri.add_cartoon(selection=\":A\", color='green')\n",
    "view_tri.add_surface(selection=\":A\", opacity=0.1)\n",
    "view_tri.add_cartoon(selection=\":B\", color='purple')\n",
    "view_tri.add_surface(selection=\":B\", opacity=0.1)\n",
    "view_tri.add_cartoon(selection=\":C\", color='red')\n",
    "view_tri.add_surface(selection=\":C\", opacity=0.1)\n",
    "view_tri.add_cartoon(selection=\":D\", color='orange')\n",
    "view_tri.add_surface(selection=\":D\", opacity=0.1)\n",
    "view_tri.add_cartoon(selection=\":E\", color='blue')\n",
    "view_tri.add_surface(selection=\":E\", opacity=0.1)\n",
    "view_tri.add_cartoon(selection=\":F\", color='yellow')\n",
    "view_tri.add_surface(selection=\":F\", opacity=0.1)\n",
    "\n",
    "view_tri"
   ]
  },
  {
   "cell_type": "markdown",
   "metadata": {},
   "source": [
    "### Selecting Barnase and Barstar chains to work with"
   ]
  },
  {
   "cell_type": "markdown",
   "metadata": {},
   "source": [
    "In case the previous section was already run we can just load the pdbs corresponding to Barnase (A, B and C) and Barstar(D, E and F)."
   ]
  },
  {
   "cell_type": "code",
   "execution_count": null,
   "metadata": {},
   "outputs": [],
   "source": [
    "# With this cell the molecular systems already written in pdbs can be loaded (there is no need to execute previous block).\n",
    "# Nothing will happen in case the notebook was run from the beginning.\n",
    "\n",
    "pdbs_dir=\"pdbs/\"\n",
    "molecule_names=[\"Barnase_A\",\"Barnase_B\",\"Barnase_C\",\"Barstar_D\",\"Barstar_E\",\"Barstar_F\"]\n",
    "\n",
    "for molecule_name in molecule_names:\n",
    "    if molecule_name not in globals():\n",
    "        pdbfilename = '1brs_'+molecule_name+'_fixed.pdb'\n",
    "        globals()[molecule_name]=app.PDBFile(pdbs_dir+pdbfilename)"
   ]
  },
  {
   "cell_type": "markdown",
   "metadata": {},
   "source": [
    "Lets fit all barnases over Barnase_A. And the same with the barstars taking the monomer B as reference."
   ]
  },
  {
   "cell_type": "code",
   "execution_count": null,
   "metadata": {},
   "outputs": [],
   "source": [
    "MDLab.Tools.OpenMM.LeastRMSDFit(system_ref=Barnase_A, system=Barnase_B, selection='name CA',pbc=False)\n",
    "MDLab.Tools.OpenMM.LeastRMSDFit(system_ref=Barnase_A, system=Barnase_C, selection='name CA',pbc=False)\n",
    "\n",
    "MDLab.Tools.OpenMM.LeastRMSDFit(system_ref=Barstar_D, system=Barstar_E, selection='name CA',pbc=False)\n",
    "MDLab.Tools.OpenMM.LeastRMSDFit(system_ref=Barstar_D, system=Barstar_F, selection='name CA',pbc=False)"
   ]
  },
  {
   "cell_type": "code",
   "execution_count": null,
   "metadata": {},
   "outputs": [],
   "source": [
    "receptors = app.Modeller(Barnase_A.topology, Barnase_A.positions)\n",
    "receptors.add(Barnase_B.topology, Barnase_B.positions)\n",
    "receptors.add(Barnase_C.topology, Barnase_C.positions)\n",
    "\n",
    "view_receptors=make_view(receptors)\n",
    "view_receptors.clear()\n",
    "view_receptors.add_cartoon(selection=\":A\", color='green')\n",
    "view_receptors.add_cartoon(selection=\":B\", color='purple')\n",
    "view_receptors.add_cartoon(selection=\":C\", color='red')\n",
    "view_receptors"
   ]
  },
  {
   "cell_type": "code",
   "execution_count": null,
   "metadata": {},
   "outputs": [],
   "source": [
    "ligands = app.Modeller(Barstar_D.topology, Barstar_D.positions)\n",
    "ligands.add(Barstar_E.topology, Barstar_E.positions)\n",
    "ligands.add(Barstar_F.topology, Barstar_F.positions)\n",
    "\n",
    "view_receptors=make_view(receptors)\n",
    "view_receptors.clear()\n",
    "view_receptors.add_cartoon(selection=\":A\", color='green')\n",
    "view_receptors.add_cartoon(selection=\":B\", color='purple')\n",
    "view_receptors.add_cartoon(selection=\":C\", color='red')\n",
    "view_receptors"
   ]
  },
  {
   "cell_type": "markdown",
   "metadata": {},
   "source": [
    "Finally, the chains A and F are written as the pdbs `pdbs/Barnase.pdb` and `pdbs/Barstar.pdb` for future use in pynterpred tests."
   ]
  },
  {
   "cell_type": "code",
   "execution_count": null,
   "metadata": {},
   "outputs": [],
   "source": [
    "Barnase = Barnase_A\n",
    "Barstar = Barstar_F"
   ]
  },
  {
   "cell_type": "code",
   "execution_count": null,
   "metadata": {},
   "outputs": [],
   "source": [
    "pdbfilename = 'Barnase.pdb'\n",
    "outfile = open(pdbs_dir+pdbfilename, 'w')\n",
    "app.PDBFile.writeFile(Barnase.topology, Barnase.positions, outfile)\n",
    "\n",
    "pdbfilename = 'Barstar.pdb'\n",
    "outfile = open(pdbs_dir+pdbfilename, 'w')\n",
    "app.PDBFile.writeFile(Barstar.topology, Barstar.positions, outfile)"
   ]
  },
  {
   "cell_type": "markdown",
   "metadata": {},
   "source": [
    "Before finishing, lets visualize the complex selected."
   ]
  },
  {
   "cell_type": "code",
   "execution_count": null,
   "metadata": {},
   "outputs": [],
   "source": [
    "Barnase_Barstar = app.Modeller(Barnase.topology, Barnase.positions)\n",
    "Barnase_Barstar.add(Barstar.topology, Barstar.positions)\n",
    "\n",
    "\n",
    "view=make_view(Barnase_Barstar)\n",
    "view.clear()\n",
    "view.add_cartoon(selection=\":A\", color='green')\n",
    "view.add_surface(selection=\":A\", opacity=0.1)\n",
    "view.add_cartoon(selection=\":B\", color='yellow')\n",
    "view.add_surface(selection=\":B\", opacity=0.1)\n",
    "view"
   ]
  },
  {
   "cell_type": "code",
   "execution_count": null,
   "metadata": {},
   "outputs": [],
   "source": []
  }
 ],
 "metadata": {
  "anaconda-cloud": {},
  "kernelspec": {
   "display_name": "Python [conda env:pynterpred]",
   "language": "python",
   "name": "conda-env-pynterpred-py"
  },
  "language_info": {
   "codemirror_mode": {
    "name": "ipython",
    "version": 3
   },
   "file_extension": ".py",
   "mimetype": "text/x-python",
   "name": "python",
   "nbconvert_exporter": "python",
   "pygments_lexer": "ipython3",
   "version": "3.6.5"
  }
 },
 "nbformat": 4,
 "nbformat_minor": 2
}
