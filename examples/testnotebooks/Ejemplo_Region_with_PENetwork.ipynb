{
 "cells": [
  {
   "cell_type": "code",
   "execution_count": 1,
   "metadata": {},
   "outputs": [],
   "source": [
    "%load_ext autoreload\n",
    "%autoreload 2\n",
    "%matplotlib notebook"
   ]
  },
  {
   "cell_type": "code",
   "execution_count": 2,
   "metadata": {},
   "outputs": [],
   "source": [
    "import sys\n",
    "sys.path.append('/home/diego/Projects/Pynterpred_devel/')\n",
    "import time\n",
    "import pynterpred as pnt\n",
    "import numpy as np\n",
    "from matplotlib import pyplot as plt"
   ]
  },
  {
   "cell_type": "code",
   "execution_count": 3,
   "metadata": {},
   "outputs": [],
   "source": [
    "Barnase     = '/home/diego/Projects/Pynterpred_devel/pynterpred/testsystems/Barnase-Barstar/pdbs/Barnase.pdb'\n",
    "Barstar     = '/home/diego/Projects/Pynterpred_devel/pynterpred/testsystems/Barnase-Barstar/pdbs/Barstar.pdb'\n",
    "force_field = 'amber14-all.xml'\n",
    "pH          = 7.0"
   ]
  },
  {
   "cell_type": "code",
   "execution_count": 6,
   "metadata": {},
   "outputs": [
    {
     "name": "stdout",
     "output_type": "stream",
     "text": [
      "Setting up the mechanical molecular context... 3.02 secs\n",
      "Setting up the evaluation region... "
     ]
    },
    {
     "name": "stderr",
     "output_type": "stream",
     "text": [
      "\r",
      "  0%|          | 0/374 [00:00<?, ?it/s]"
     ]
    },
    {
     "name": "stdout",
     "output_type": "stream",
     "text": [
      "5.23 secs\n",
      "Evaluation of 71808 different relative orientations started...\n"
     ]
    },
    {
     "name": "stderr",
     "output_type": "stream",
     "text": [
      "100%|██████████| 374/374 [03:08<00:00,  1.99it/s]"
     ]
    },
    {
     "name": "stdout",
     "output_type": "stream",
     "text": [
      "188.05 secs\n",
      "Done\n"
     ]
    },
    {
     "name": "stderr",
     "output_type": "stream",
     "text": [
      "\n"
     ]
    },
    {
     "ename": "AttributeError",
     "evalue": "'MMContext' object has no attribute 'potential_energy_uncoupled'",
     "output_type": "error",
     "traceback": [
      "\u001b[0;31m---------------------------------------------------------------------------\u001b[0m",
      "\u001b[0;31mAttributeError\u001b[0m                            Traceback (most recent call last)",
      "\u001b[0;32m<ipython-input-6-ac87ce315f88>\u001b[0m in \u001b[0;36m<module>\u001b[0;34m()\u001b[0m\n\u001b[0;32m----> 1\u001b[0;31m \u001b[0mdocker\u001b[0m \u001b[0;34m=\u001b[0m \u001b[0mpnt\u001b[0m\u001b[0;34m.\u001b[0m\u001b[0mpredict\u001b[0m\u001b[0;34m(\u001b[0m\u001b[0mBarnase\u001b[0m\u001b[0;34m,\u001b[0m \u001b[0mBarstar\u001b[0m\u001b[0;34m,\u001b[0m \u001b[0mforce_field\u001b[0m\u001b[0;34m,\u001b[0m \u001b[0mpH\u001b[0m\u001b[0;34m,\u001b[0m \u001b[0mdelta_x\u001b[0m \u001b[0;34m=\u001b[0m \u001b[0;36m0.8\u001b[0m\u001b[0;34m,\u001b[0m \u001b[0mnside\u001b[0m \u001b[0;34m=\u001b[0m \u001b[0;36m4\u001b[0m\u001b[0;34m,\u001b[0m \u001b[0mverbose\u001b[0m \u001b[0;34m=\u001b[0m \u001b[0;32mTrue\u001b[0m\u001b[0;34m)\u001b[0m\u001b[0;34m\u001b[0m\u001b[0m\n\u001b[0m\u001b[1;32m      2\u001b[0m \u001b[0;34m\u001b[0m\u001b[0m\n\u001b[1;32m      3\u001b[0m \u001b[0;31m#receptor = pnt.Receptor(Barstar, force_field, pH)\u001b[0m\u001b[0;34m\u001b[0m\u001b[0;34m\u001b[0m\u001b[0m\n\u001b[1;32m      4\u001b[0m \u001b[0;31m#ligand   = pnt.Ligand(Barnase, force_field, pH)\u001b[0m\u001b[0;34m\u001b[0m\u001b[0;34m\u001b[0m\u001b[0m\n\u001b[1;32m      5\u001b[0m \u001b[0;31m#context  = pnt.MMContext(receptor, ligand)\u001b[0m\u001b[0;34m\u001b[0m\u001b[0;34m\u001b[0m\u001b[0m\n",
      "\u001b[0;32m~/Projects/Pynterpred_devel/pynterpred/main.py\u001b[0m in \u001b[0;36mpredict\u001b[0;34m(receptor_pdb_file, ligand_pdb_file, forcefield, pH, delta_x, nside, mpi_comm, verbose)\u001b[0m\n\u001b[1;32m    332\u001b[0m         \u001b[0mprint\u001b[0m\u001b[0;34m(\u001b[0m\u001b[0;34m\"Done\"\u001b[0m\u001b[0;34m)\u001b[0m\u001b[0;34m\u001b[0m\u001b[0m\n\u001b[1;32m    333\u001b[0m         print(\"Complex at infinite distance with Potential Energy:\",\n\u001b[0;32m--> 334\u001b[0;31m               tmp_context.potential_energy_uncoupled)\n\u001b[0m\u001b[1;32m    335\u001b[0m         print(\"Best relative orientation with Potential Energy:\",\n\u001b[1;32m    336\u001b[0m               tmp_docker.potential_energies.min())\n",
      "\u001b[0;31mAttributeError\u001b[0m: 'MMContext' object has no attribute 'potential_energy_uncoupled'"
     ]
    }
   ],
   "source": [
    "docker = pnt.predict(Barnase, Barstar, force_field, pH, delta_x = 0.8, nside = 4, verbose = True)\n",
    "\n",
    "#receptor = pnt.Receptor(Barstar, force_field, pH)\n",
    "#ligand   = pnt.Ligand(Barnase, force_field, pH)\n",
    "#context  = pnt.MMContext(receptor, ligand)\n",
    "#region   = pnt.Region(receptor, ligand, delta_x=0.8, nside=4)\n",
    "#docker   = pnt.Docker(context,region)\n",
    "#docker.evaluation(verbose=True)"
   ]
  },
  {
   "cell_type": "code",
   "execution_count": null,
   "metadata": {},
   "outputs": [],
   "source": [
    "xx, pes = docker.get_potential_energy_1D_landscape()\n",
    "pe_uncoupled = docker.potential_energy_uncoupled"
   ]
  },
  {
   "cell_type": "code",
   "execution_count": null,
   "metadata": {},
   "outputs": [],
   "source": [
    "plt.scatter(xx, (pes-pe_uncoupled)._value, get_energy_._value, 0.1, label=\"Bb\")\n",
    "plt.xlim([-10000,10000])\n",
    "plt.ylim([4000,8000])"
   ]
  },
  {
   "cell_type": "code",
   "execution_count": null,
   "metadata": {},
   "outputs": [],
   "source": [
    "docker = pnt.predict(Barnase, Barstar, force_field, pH, delta_x = 0.5, nside = 5, verbose = True)\n",
    "\n",
    "xx1, pes1 = docking.get_potential_energy_1D_landscape()\n",
    "del(docker)"
   ]
  },
  {
   "cell_type": "code",
   "execution_count": null,
   "metadata": {},
   "outputs": [],
   "source": [
    "docking = pnt.pynterpred(Barnase, Barnase, force_field, pH, delta_x = 0.5, nside = 5, mpi_comm = comm)\n",
    "xx2, pes2 = docking.get_potential_energy_1D_landscape()\n",
    "del(docking)"
   ]
  },
  {
   "cell_type": "code",
   "execution_count": null,
   "metadata": {},
   "outputs": [],
   "source": [
    "docking = pnt.pynterpred(Barstar, Barstar, force_field, pH, delta_x = 0.5, nside = 5, mpi_comm = comm)\n",
    "xx3, pes3 = docking.get_potential_energy_1D_landscape()\n",
    "del(docking)"
   ]
  },
  {
   "cell_type": "code",
   "execution_count": null,
   "metadata": {},
   "outputs": [],
   "source": [
    "plt.scatter(xx1,pes1,0.1,label=\"Bb\")\n",
    "plt.scatter(xx2,pes2,0.1,label=\"BB\")\n",
    "plt.scatter(xx3,pes3,0.1,label=\"bb\")\n",
    "plt.legend()\n",
    "\n",
    "plt.xlim([-10000,10000])\n",
    "plt.ylim([-2000,4000])\n"
   ]
  },
  {
   "cell_type": "code",
   "execution_count": null,
   "metadata": {},
   "outputs": [],
   "source": []
  },
  {
   "cell_type": "code",
   "execution_count": null,
   "metadata": {},
   "outputs": [],
   "source": []
  }
 ],
 "metadata": {
  "kernelspec": {
   "display_name": "Python 3",
   "language": "python",
   "name": "python3"
  },
  "language_info": {
   "codemirror_mode": {
    "name": "ipython",
    "version": 3
   },
   "file_extension": ".py",
   "mimetype": "text/x-python",
   "name": "python",
   "nbconvert_exporter": "python",
   "pygments_lexer": "ipython3",
   "version": "3.6.5"
  }
 },
 "nbformat": 4,
 "nbformat_minor": 2
}
