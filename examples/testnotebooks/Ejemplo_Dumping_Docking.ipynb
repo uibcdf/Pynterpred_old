{
 "cells": [
  {
   "cell_type": "code",
   "execution_count": null,
   "metadata": {},
   "outputs": [],
   "source": [
    "%load_ext autoreload\n",
    "%autoreload 2\n",
    "%matplotlib notebook"
   ]
  },
  {
   "cell_type": "code",
   "execution_count": null,
   "metadata": {},
   "outputs": [],
   "source": [
    "import sys\n",
    "sys.path.append('/home/diego/Projects/Pynterpred_devel/')\n",
    "import time\n",
    "import pynterpred as pnt\n",
    "import numpy as np\n",
    "from matplotlib import pyplot as plt\n",
    "import dill as pickle"
   ]
  },
  {
   "cell_type": "code",
   "execution_count": null,
   "metadata": {},
   "outputs": [],
   "source": [
    "Receptor    = '/home/diego/Projects/Pynterpred_devel/pynterpred/testsystems/Barnase-Barstar/pdbs/Barnase.pdb'\n",
    "Ligand      = '/home/diego/Projects/Pynterpred_devel/pynterpred/testsystems/Barnase-Barstar/pdbs/Barstar.pdb'\n",
    "\n",
    "#Receptor    = '/home/diego/Projects/Pynterpred_devel/pynterpred/testsystems/E9034A_ETEC/pdbs/longus_E9034A_ETEC.pdb'\n",
    "#Ligand      = '/home/diego/Projects/Pynterpred_devel/pynterpred/testsystems/E9034A_ETEC/pdbs/longus_E9034A_ETEC.pdb'\n",
    "\n",
    "#Receptor    = '/home/diego/Projects/Pynterpred_devel/pynterpred/testsystems/Fab_5C8/pdbs/Fab_5C8_A.pdb'\n",
    "#Ligand      = '/home/diego/Projects/Pynterpred_devel/pynterpred/testsystems/Fab_5C8/pdbs/Fab_5C8_B.pdb'\n",
    "\n",
    "#Receptor    = '/home/diego/Projects/Pynterpred_devel/pynterpred/testsystems/hGH/pdbs/hGH_A.pdb'\n",
    "#Ligand      = '/home/diego/Projects/Pynterpred_devel/pynterpred/testsystems/hGH/pdbs/hGH_B.pdb'\n",
    "\n",
    "force_field = 'amber14-all.xml'\n",
    "pH          = 7.0"
   ]
  },
  {
   "cell_type": "code",
   "execution_count": null,
   "metadata": {},
   "outputs": [],
   "source": [
    "docker = pnt.predict(Receptor, Ligand, force_field, pH, delta_x = 0.5, nside = 5, verbose = True)\n",
    "\n",
    "#receptor = pnt.Receptor(Barstar, force_field, pH)\n",
    "#ligand   = pnt.Ligand(Barnase, force_field, pH)\n",
    "#context  = pnt.MMContext(receptor, ligand)\n",
    "#region   = pnt.Region(receptor, ligand, delta_x=0.5, nside=5)\n",
    "#docker   = pnt.Docker(context,region)\n",
    "#docker.evaluation(verbose=True)"
   ]
  },
  {
   "cell_type": "code",
   "execution_count": null,
   "metadata": {},
   "outputs": [],
   "source": [
    "docker.save('docker_5_5.dpkl')"
   ]
  },
  {
   "cell_type": "code",
   "execution_count": null,
   "metadata": {},
   "outputs": [],
   "source": [
    "del(docker)"
   ]
  },
  {
   "cell_type": "code",
   "execution_count": null,
   "metadata": {},
   "outputs": [],
   "source": [
    "docker_loaded = pnt.load('docker_5_5.dpkl')"
   ]
  },
  {
   "cell_type": "code",
   "execution_count": null,
   "metadata": {},
   "outputs": [],
   "source": [
    "xx, pes = docker_loaded.get_potential_energy_1D_landscape()\n",
    "pe_uncoupled = docker_loaded.potential_energy_uncoupled"
   ]
  },
  {
   "cell_type": "code",
   "execution_count": null,
   "metadata": {},
   "outputs": [],
   "source": [
    "plt.scatter(xx, (pes-pe_uncoupled)._value, 0.1)\n",
    "plt.xlim([-15000,15000])\n",
    "plt.ylim([-2000,2000])"
   ]
  },
  {
   "cell_type": "code",
   "execution_count": null,
   "metadata": {},
   "outputs": [],
   "source": []
  }
 ],
 "metadata": {
  "kernelspec": {
   "display_name": "Python 3",
   "language": "python",
   "name": "python3"
  },
  "language_info": {
   "codemirror_mode": {
    "name": "ipython",
    "version": 3
   },
   "file_extension": ".py",
   "mimetype": "text/x-python",
   "name": "python",
   "nbconvert_exporter": "python",
   "pygments_lexer": "ipython3",
   "version": "3.6.6"
  },
  "latex_envs": {
   "LaTeX_envs_menu_present": true,
   "autoclose": false,
   "autocomplete": true,
   "bibliofile": "biblio.bib",
   "cite_by": "apalike",
   "current_citInitial": 1,
   "eqLabelWithNumbers": true,
   "eqNumInitial": 1,
   "hotkeys": {
    "equation": "Ctrl-E",
    "itemize": "Ctrl-I"
   },
   "labels_anchors": false,
   "latex_user_defs": false,
   "report_style_numbering": false,
   "user_envs_cfg": false
  }
 },
 "nbformat": 4,
 "nbformat_minor": 2
}
