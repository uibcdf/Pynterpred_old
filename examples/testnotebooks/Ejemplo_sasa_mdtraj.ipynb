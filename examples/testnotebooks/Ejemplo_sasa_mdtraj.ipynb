{
 "cells": [
  {
   "cell_type": "code",
   "execution_count": 1,
   "metadata": {},
   "outputs": [],
   "source": [
    "import sys\n",
    "sys.path.append('/home/diego/Trabajo/Proyectos/Pynterpred_devel/')\n",
    "import numpy as np\n",
    "import mdtraj\n",
    "import pynterpred as pnt\n",
    "from simtk import unit\n",
    "import nglview"
   ]
  },
  {
   "cell_type": "code",
   "execution_count": 2,
   "metadata": {},
   "outputs": [],
   "source": [
    "receptor=pnt.receptor('testsystems/Barnase-Barstar/pdbs/Barnase.pdb','amber14-all.xml',pH=7.0)\n",
    "ligand  =pnt.ligand('testsystems/Barnase-Barstar/pdbs/Barstar.pdb','amber14-all.xml',pH=7.0)"
   ]
  },
  {
   "cell_type": "code",
   "execution_count": 3,
   "metadata": {},
   "outputs": [
    {
     "name": "stdout",
     "output_type": "stream",
     "text": [
      "986 2.423647425871908\n",
      "312 0.6373317885554662\n"
     ]
    }
   ],
   "source": [
    "sasa=pnt.utils.sasa_atoms(receptor)\n",
    "furthest_atom_id, furthest_dist = pnt.utils.furthest_accessible_atom_to_center(receptor)\n",
    "closest_atom_id, closest_dist   = pnt.utils.closest_accessible_atom_to_center(receptor)\n",
    "\n",
    "print(furthest_atom_id, furthest_dist)\n",
    "print(closest_atom_id, closest_dist)"
   ]
  },
  {
   "cell_type": "code",
   "execution_count": 4,
   "metadata": {},
   "outputs": [
    {
     "name": "stdout",
     "output_type": "stream",
     "text": [
      "480 de 1727\n"
     ]
    },
    {
     "data": {
      "application/vnd.jupyter.widget-view+json": {
       "model_id": "b84c3a3645b94182bb37505c181a79b3",
       "version_major": 2,
       "version_minor": 0
      },
      "text/plain": [
       "NGLWidget()"
      ]
     },
     "metadata": {},
     "output_type": "display_data"
    }
   ],
   "source": [
    "list_atoms_exposed=np.nonzero(sasa>=0.01)[1]\n",
    "print(len(list_atoms_exposed),'de',sasa.shape[1])\n",
    "sel_atoms_exposed='@'\n",
    "for atom_index in list_atoms_exposed:\n",
    "    sel_atoms_exposed+=str(atom_index)+','\n",
    "sel_atoms_exposed=sel_atoms_exposed[:-1]\n",
    "    \n",
    "view = pnt.utils.make_view(receptor)\n",
    "view.clear()\n",
    "view.add_cartoon()\n",
    "view.add_ball_and_stick(color=\"orange\",opacity=0.3)\n",
    "view.add_ball_and_stick(color=\"red\",selection=sel_atoms_exposed[:-1])\n",
    "view.add_ball_and_stick(color=\"green\",selection='@'+str(furthest_atom_id))\n",
    "view.add_ball_and_stick(color=\"green\",selection='@'+str(closest_atom_id))\n",
    "view.center()\n",
    "view"
   ]
  },
  {
   "cell_type": "code",
   "execution_count": 5,
   "metadata": {},
   "outputs": [
    {
     "name": "stdout",
     "output_type": "stream",
     "text": [
      "186 2.068495127788926\n",
      "304 0.8541218264361113\n"
     ]
    }
   ],
   "source": [
    "sasa=pnt.utils.sasa_atoms(ligand)\n",
    "furthest_atom_id, furthest_dist = pnt.utils.furthest_accessible_atom_to_center(ligand)\n",
    "closest_atom_id, closest_dist   = pnt.utils.closest_accessible_atom_to_center(ligand)\n",
    "\n",
    "print(furthest_atom_id, furthest_dist)\n",
    "print(closest_atom_id, closest_dist)"
   ]
  },
  {
   "cell_type": "code",
   "execution_count": 6,
   "metadata": {},
   "outputs": [
    {
     "name": "stdout",
     "output_type": "stream",
     "text": [
      "381 de 1432\n"
     ]
    },
    {
     "data": {
      "application/vnd.jupyter.widget-view+json": {
       "model_id": "9829ebdc319145cd99bfb8ac7a459596",
       "version_major": 2,
       "version_minor": 0
      },
      "text/plain": [
       "NGLWidget()"
      ]
     },
     "metadata": {},
     "output_type": "display_data"
    }
   ],
   "source": [
    "list_atoms_exposed=np.nonzero(sasa>=0.01)[1]\n",
    "print(len(list_atoms_exposed),'de',sasa.shape[1])\n",
    "sel_atoms_exposed='@'\n",
    "for atom_index in list_atoms_exposed:\n",
    "    sel_atoms_exposed+=str(atom_index)+','\n",
    "sel_atoms_exposed=sel_atoms_exposed[:-1]\n",
    "    \n",
    "view = pnt.utils.make_view(ligand)\n",
    "view.clear()\n",
    "view.add_cartoon()\n",
    "view.add_ball_and_stick(color=\"orange\",opacity=0.3)\n",
    "view.add_ball_and_stick(color=\"red\",selection=sel_atoms_exposed[:-1])\n",
    "view.add_ball_and_stick(color=\"green\",selection='@'+str(furthest_atom_id))\n",
    "view.add_ball_and_stick(color=\"green\",selection='@'+str(closest_atom_id))\n",
    "view.center()\n",
    "view"
   ]
  },
  {
   "cell_type": "code",
   "execution_count": null,
   "metadata": {},
   "outputs": [],
   "source": []
  },
  {
   "cell_type": "code",
   "execution_count": null,
   "metadata": {},
   "outputs": [],
   "source": []
  },
  {
   "cell_type": "code",
   "execution_count": null,
   "metadata": {},
   "outputs": [],
   "source": []
  }
 ],
 "metadata": {
  "kernelspec": {
   "display_name": "Python 3",
   "language": "python",
   "name": "python3"
  },
  "language_info": {
   "codemirror_mode": {
    "name": "ipython",
    "version": 3
   },
   "file_extension": ".py",
   "mimetype": "text/x-python",
   "name": "python",
   "nbconvert_exporter": "python",
   "pygments_lexer": "ipython3",
   "version": "3.6.5"
  }
 },
 "nbformat": 4,
 "nbformat_minor": 2
}
