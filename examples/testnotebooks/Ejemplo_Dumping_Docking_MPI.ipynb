{
 "cells": [
  {
   "cell_type": "code",
   "execution_count": 1,
   "metadata": {},
   "outputs": [
    {
     "name": "stdout",
     "output_type": "stream",
     "text": [
      "%autopx enabled\n"
     ]
    },
    {
     "name": "stderr",
     "output_type": "stream",
     "text": [
      "/home/diego/Myopt/Miniconda/miniconda3/envs/UIBCDFLab_dev/lib/python3.6/site-packages/ipyparallel/client/client.py:459: RuntimeWarning: \n",
      "            Controller appears to be listening on localhost, but not on this machine.\n",
      "            If this is true, you should specify Client(...,sshserver='you@nauta')\n",
      "            or instruct your controller to listen on an external IP.\n",
      "  RuntimeWarning)\n"
     ]
    }
   ],
   "source": [
    "# ipcluster start -n 12 --engines=MPIEngineSetLauncher\n",
    "import ipyparallel as ipp\n",
    "client = ipp.Client(profile=\"default\")\n",
    "%autopx"
   ]
  },
  {
   "cell_type": "code",
   "execution_count": 2,
   "metadata": {},
   "outputs": [],
   "source": [
    "%load_ext autoreload\n",
    "%autoreload 2\n",
    "%matplotlib inline"
   ]
  },
  {
   "cell_type": "code",
   "execution_count": 3,
   "metadata": {},
   "outputs": [],
   "source": [
    "import sys\n",
    "sys.path.append('/home/diego/Projects/Pynterpred_devel/')\n",
    "import time\n",
    "import pynterpred as pnt\n",
    "import numpy as np\n",
    "from matplotlib import pyplot as plt\n",
    "import dill as pickle"
   ]
  },
  {
   "cell_type": "code",
   "execution_count": 4,
   "metadata": {},
   "outputs": [],
   "source": [
    "from mpi4py import MPI\n",
    "comm = MPI.COMM_WORLD"
   ]
  },
  {
   "cell_type": "code",
   "execution_count": 5,
   "metadata": {},
   "outputs": [],
   "source": [
    "Receptor    = '/home/diego/Projects/Pynterpred_devel/pynterpred/testsystems/Barnase-Barstar/pdbs/Barnase.pdb'\n",
    "Ligand      = '/home/diego/Projects/Pynterpred_devel/pynterpred/testsystems/Barnase-Barstar/pdbs/Barstar.pdb'\n",
    "\n",
    "#Receptor    = '/home/diego/Projects/Pynterpred_devel/pynterpred/testsystems/E9034A_ETEC/pdbs/longus_E9034A_ETEC.pdb'\n",
    "#Ligand      = '/home/diego/Projects/Pynterpred_devel/pynterpred/testsystems/E9034A_ETEC/pdbs/longus_E9034A_ETEC.pdb'\n",
    "\n",
    "#Receptor    = '/home/diego/Projects/Pynterpred_devel/pynterpred/testsystems/Fab_5C8/pdbs/Fab_5C8_A.pdb'\n",
    "#Ligand      = '/home/diego/Projects/Pynterpred_devel/pynterpred/testsystems/Fab_5C8/pdbs/Fab_5C8_B.pdb'\n",
    "\n",
    "#Receptor    = '/home/diego/Projects/Pynterpred_devel/pynterpred/testsystems/hGH/pdbs/hGH_A.pdb'\n",
    "#Ligand      = '/home/diego/Projects/Pynterpred_devel/pynterpred/testsystems/hGH/pdbs/hGH_B.pdb'\n",
    "\n",
    "force_field = 'amber14-all.xml'\n",
    "pH          = 7.0"
   ]
  },
  {
   "cell_type": "code",
   "execution_count": 6,
   "metadata": {},
   "outputs": [
    {
     "name": "stdout",
     "output_type": "stream",
     "text": [
      "[stdout:0] \n",
      "Setting up the mechanical molecular context... 7.32 secs\n",
      "Setting up the evaluation region... 8.1 secs\n",
      "Evaluation of 462000 different relative orientations started...\n",
      "In mpi rank 0 centers from 0 to 128 in 327.84 seconds ( 0.39  its/sec)\n",
      "Time to collect potential energies: 0.024862\n",
      "... done in 334.99 secs\n",
      "--- FINISHED ---\n",
      "Complex at infinite distance with Potential Energy: 7606.5654296875 kJ/mol\n",
      "Best relative orientation with Potential Energy: 5564.8740234375 kJ/mol\n",
      "[stdout:1] In mpi rank 1 centers from 129 to 257 in 332.67 seconds ( 0.38  its/sec)\n",
      "[stdout:2] In mpi rank 2 centers from 258 to 386 in 327.67 seconds ( 0.39  its/sec)\n",
      "[stdout:3] In mpi rank 3 centers from 387 to 515 in 330.5 seconds ( 0.39  its/sec)\n",
      "[stdout:4] In mpi rank 4 centers from 516 to 643 in 331.73 seconds ( 0.38  its/sec)\n",
      "[stdout:5] In mpi rank 5 centers from 644 to 771 in 332.1 seconds ( 0.38  its/sec)\n",
      "[stdout:6] In mpi rank 6 centers from 772 to 899 in 326.34 seconds ( 0.39  its/sec)\n",
      "[stdout:7] In mpi rank 7 centers from 900 to 1027 in 326.27 seconds ( 0.39  its/sec)\n",
      "[stdout:8] In mpi rank 8 centers from 1028 to 1155 in 326.1 seconds ( 0.39  its/sec)\n",
      "[stdout:9] In mpi rank 9 centers from 1156 to 1283 in 326.68 seconds ( 0.39  its/sec)\n",
      "[stdout:10] In mpi rank 10 centers from 1284 to 1411 in 327.76 seconds ( 0.39  its/sec)\n",
      "[stdout:11] In mpi rank 11 centers from 1412 to 1539 in 326.32 seconds ( 0.39  its/sec)\n"
     ]
    }
   ],
   "source": [
    "docker = pnt.predict(Receptor, Ligand, force_field, pH, delta_x = 0.5, nside = 5, \n",
    "                     mpi_comm = comm, verbose = True)"
   ]
  },
  {
   "cell_type": "code",
   "execution_count": 7,
   "metadata": {},
   "outputs": [],
   "source": [
    "if comm.Get_rank() == 0:\n",
    "    docker.save('docker_5_5.dpkl')"
   ]
  },
  {
   "cell_type": "code",
   "execution_count": 8,
   "metadata": {},
   "outputs": [],
   "source": [
    "del(docker)"
   ]
  },
  {
   "cell_type": "code",
   "execution_count": 9,
   "metadata": {},
   "outputs": [],
   "source": [
    "if comm.Get_rank() == 0:\n",
    "    docker_loaded = pnt.load('docker_5_5.dpkl')\n",
    "    xx, pes = docker_loaded.get_potential_energy_1D_landscape()\n",
    "    pe_uncoupled = docker_loaded.potential_energy_uncoupled "
   ]
  },
  {
   "cell_type": "code",
   "execution_count": 22,
   "metadata": {},
   "outputs": [
    {
     "data": {
      "text/plain": [
       "[output:0]"
      ]
     },
     "metadata": {},
     "output_type": "display_data"
    },
    {
     "data": {
      "image/png": "[encoded data removed]",
      "text/plain": [
       "<Figure size 432x288 with 1 Axes>"
      ]
     },
     "metadata": {
      "engine": 0
     },
     "output_type": "display_data"
    }
   ],
   "source": [
    "if comm.Get_rank() == 0:\n",
    "    plt.scatter(xx, (pes-pe_uncoupled)._value, 0.1)\n",
    "    plt.xlim([-130000,130000])\n",
    "    plt.ylim([-2500,500])"
   ]
  },
  {
   "cell_type": "code",
   "execution_count": null,
   "metadata": {},
   "outputs": [],
   "source": []
  }
 ],
 "metadata": {
  "kernelspec": {
   "display_name": "Python 3",
   "language": "python",
   "name": "python3"
  },
  "language_info": {
   "codemirror_mode": {
    "name": "ipython",
    "version": 3
   },
   "file_extension": ".py",
   "mimetype": "text/x-python",
   "name": "python",
   "nbconvert_exporter": "python",
   "pygments_lexer": "ipython3",
   "version": "3.6.5"
  }
 },
 "nbformat": 4,
 "nbformat_minor": 2
}
