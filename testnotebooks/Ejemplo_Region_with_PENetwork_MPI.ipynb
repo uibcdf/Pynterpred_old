{
 "cells": [
  {
   "cell_type": "code",
   "execution_count": null,
   "metadata": {},
   "outputs": [],
   "source": [
    "# ipcluster start -n 8 --engines=MPIEngineSetLauncher\n",
    "import ipyparallel as ipp\n",
    "client = ipp.Client(profile=\"default\")\n",
    "%autopx"
   ]
  },
  {
   "cell_type": "code",
   "execution_count": null,
   "metadata": {},
   "outputs": [],
   "source": [
    "%load_ext autoreload\n",
    "%autoreload 2\n",
    "%matplotlib inline   # with ipyparallel %matplotlib notebook does not work"
   ]
  },
  {
   "cell_type": "code",
   "execution_count": null,
   "metadata": {},
   "outputs": [],
   "source": [
    "import sys\n",
    "sys.path.append('/home/diego/Projects/Pynterpred_devel/')\n",
    "import time\n",
    "import pynterpred as pnt\n",
    "import numpy as np\n",
    "from matplotlib import pyplot as plt"
   ]
  },
  {
   "cell_type": "code",
   "execution_count": null,
   "metadata": {},
   "outputs": [],
   "source": [
    "from mpi4py import MPI\n",
    "comm = MPI.COMM_WORLD"
   ]
  },
  {
   "cell_type": "code",
   "execution_count": null,
   "metadata": {},
   "outputs": [],
   "source": [
    "Receptor    = '/home/diego/Projects/Pynterpred_devel/pynterpred/testsystems/Barnase-Barstar/pdbs/Barnase.pdb'\n",
    "Ligand      = '/home/diego/Projects/Pynterpred_devel/pynterpred/testsystems/Barnase-Barstar/pdbs/Barstar.pdb'\n",
    "\n",
    "#Receptor    = '/home/diego/Projects/Pynterpred_devel/pynterpred/testsystems/hGH/pdbs/hGH_A.pdb'\n",
    "#Ligand      = '/home/diego/Projects/Pynterpred_devel/pynterpred/testsystems/hGH/pdbs/hGH_B.pdb'\n",
    "\n",
    "#Receptor    = '/home/diego/Projects/Pynterpred_devel/pynterpred/testsystems/Fab_5C8/pdbs/Fab_5C8_A.pdb'\n",
    "#Ligand      = '/home/diego/Projects/Pynterpred_devel/pynterpred/testsystems/Fab_5C8/pdbs/Fab_5C8_B.pdb'\n",
    "\n",
    "#Receptor    = '/home/diego/Projects/Pynterpred_devel/pynterpred/testsystems/E9034A_ETEC/pdbs/longus_E9034A_ETEC.pdb'\n",
    "#Ligand      = '/home/diego/Projects/Pynterpred_devel/pynterpred/testsystems/E9034A_ETEC/pdbs/longus_E9034A_ETEC.pdb'\n",
    "\n",
    "force_field = 'amber14-all.xml'\n",
    "pH          = 7.0"
   ]
  },
  {
   "cell_type": "code",
   "execution_count": null,
   "metadata": {
    "scrolled": true
   },
   "outputs": [],
   "source": [
    "docking = pnt.predict(Receptor, Ligand, force_field, pH, delta_x = 1.0, nside = 3,\n",
    "                      mpi_comm = comm, verbose = True)"
   ]
  },
  {
   "cell_type": "code",
   "execution_count": null,
   "metadata": {},
   "outputs": [],
   "source": [
    "docking.region.rotations"
   ]
  },
  {
   "cell_type": "code",
   "execution_count": null,
   "metadata": {},
   "outputs": [],
   "source": [
    "if comm.Get_rank() == 0:\n",
    "    import dill as pickle\n",
    "    with open('docking_10_3.pkl', 'wb') as file:\n",
    "        pickle.dump(docking, file)"
   ]
  },
  {
   "cell_type": "code",
   "execution_count": null,
   "metadata": {},
   "outputs": [],
   "source": [
    "if comm.Get_rank() == 0:\n",
    "    xx, pes = docking.get_potential_energy_1D_landscape()"
   ]
  },
  {
   "cell_type": "code",
   "execution_count": null,
   "metadata": {},
   "outputs": [],
   "source": [
    "if comm.Get_rank() == 0:\n",
    "    %matplotlib inline\n",
    "    plt.scatter(xx,pes._value,0.1)\n",
    "    #plt.xlim([-60000,60000])\n",
    "    plt.ylim([6000,7700])\n",
    "    plt.xlim([-5000,5000])"
   ]
  },
  {
   "cell_type": "code",
   "execution_count": null,
   "metadata": {},
   "outputs": [],
   "source": []
  },
  {
   "cell_type": "code",
   "execution_count": null,
   "metadata": {},
   "outputs": [],
   "source": []
  },
  {
   "cell_type": "code",
   "execution_count": null,
   "metadata": {},
   "outputs": [],
   "source": []
  },
  {
   "cell_type": "code",
   "execution_count": null,
   "metadata": {},
   "outputs": [],
   "source": []
  },
  {
   "cell_type": "code",
   "execution_count": null,
   "metadata": {},
   "outputs": [],
   "source": [
    "if comm.Get_rank() == 0:\n",
    "    xx1, pes1 = docking.get_potential_energy_1D_landscape()"
   ]
  },
  {
   "cell_type": "code",
   "execution_count": null,
   "metadata": {},
   "outputs": [],
   "source": [
    "if comm.Get_rank() == 0:\n",
    "    print(docking.PotentialEnergyNetwork)"
   ]
  },
  {
   "cell_type": "code",
   "execution_count": null,
   "metadata": {},
   "outputs": [],
   "source": [
    "docking = pnt.pynterpred(Barnase, Barstar, force_field, pH, delta_x = 0.5, nside = 5,\n",
    "                         mpi_comm = comm, verbose = True)\n",
    "\n",
    "xx1, pes1 = docking.get_potential_energy_1D_landscape()\n",
    "del(docking)"
   ]
  },
  {
   "cell_type": "code",
   "execution_count": null,
   "metadata": {},
   "outputs": [],
   "source": [
    "docking = pnt.pynterpred(Barnase, Barnase, force_field, pH, delta_x = 0.5, nside = 5, mpi_comm = comm)\n",
    "xx2, pes2 = docking.get_potential_energy_1D_landscape()\n",
    "del(docking)"
   ]
  },
  {
   "cell_type": "code",
   "execution_count": null,
   "metadata": {},
   "outputs": [],
   "source": [
    "docking = pnt.pynterpred(Barstar, Barstar, force_field, pH, delta_x = 0.5, nside = 5, mpi_comm = comm)\n",
    "xx3, pes3 = docking.get_potential_energy_1D_landscape()\n",
    "del(docking)"
   ]
  },
  {
   "cell_type": "code",
   "execution_count": null,
   "metadata": {},
   "outputs": [],
   "source": [
    "plt.scatter(xx1,pes1,0.1,label=\"Bb\")\n",
    "plt.scatter(xx2,pes2,0.1,label=\"BB\")\n",
    "plt.scatter(xx3,pes3,0.1,label=\"bb\")\n",
    "plt.legend()\n",
    "\n",
    "plt.xlim([-10000,10000])\n",
    "plt.ylim([-2000,4000])\n"
   ]
  },
  {
   "cell_type": "code",
   "execution_count": null,
   "metadata": {},
   "outputs": [],
   "source": []
  },
  {
   "cell_type": "code",
   "execution_count": null,
   "metadata": {},
   "outputs": [],
   "source": []
  }
 ],
 "metadata": {
  "kernelspec": {
   "display_name": "Python 3",
   "language": "python",
   "name": "python3"
  },
  "language_info": {
   "codemirror_mode": {
    "name": "ipython",
    "version": 3
   },
   "file_extension": ".py",
   "mimetype": "text/x-python",
   "name": "python",
   "nbconvert_exporter": "python",
   "pygments_lexer": "ipython3",
   "version": "3.6.5"
  }
 },
 "nbformat": 4,
 "nbformat_minor": 2
}
