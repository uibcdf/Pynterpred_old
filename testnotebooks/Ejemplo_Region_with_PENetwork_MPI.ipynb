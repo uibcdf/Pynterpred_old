{
 "cells": [
  {
   "cell_type": "code",
   "execution_count": 1,
   "metadata": {},
   "outputs": [
    {
     "name": "stdout",
     "output_type": "stream",
     "text": [
      "%autopx enabled\n"
     ]
    },
    {
     "name": "stderr",
     "output_type": "stream",
     "text": [
      "/home/diego/Myopt/Miniconda/miniconda3/envs/UIBCDFLab_dev/lib/python3.6/site-packages/ipyparallel/client/client.py:459: RuntimeWarning: \n",
      "            Controller appears to be listening on localhost, but not on this machine.\n",
      "            If this is true, you should specify Client(...,sshserver='you@nauta')\n",
      "            or instruct your controller to listen on an external IP.\n",
      "  RuntimeWarning)\n"
     ]
    }
   ],
   "source": [
    "# ipcluster start -n 8 --engines=MPIEngineSetLauncher\n",
    "import ipyparallel as ipp\n",
    "client = ipp.Client(profile=\"default\")\n",
    "%autopx"
   ]
  },
  {
   "cell_type": "code",
   "execution_count": 2,
   "metadata": {},
   "outputs": [],
   "source": [
    "%load_ext autoreload\n",
    "%autoreload 2\n",
    "%matplotlib notebook"
   ]
  },
  {
   "cell_type": "code",
   "execution_count": 3,
   "metadata": {},
   "outputs": [],
   "source": [
    "import sys\n",
    "sys.path.append('/home/diego/Projects/Pynterpred_devel/')\n",
    "import time\n",
    "import pynterpred as pnt\n",
    "import numpy as np\n",
    "from matplotlib import pyplot as plt"
   ]
  },
  {
   "cell_type": "code",
   "execution_count": 4,
   "metadata": {},
   "outputs": [],
   "source": [
    "from mpi4py import MPI\n",
    "comm = MPI.COMM_WORLD"
   ]
  },
  {
   "cell_type": "code",
   "execution_count": 5,
   "metadata": {},
   "outputs": [],
   "source": [
    "Barnase     = '/home/diego/Projects/Pynterpred_devel/pynterpred/testsystems/Barnase-Barstar/pdbs/Barnase.pdb'\n",
    "Barstar     = '/home/diego/Projects/Pynterpred_devel/pynterpred/testsystems/Barnase-Barstar/pdbs/Barstar.pdb'\n",
    "force_field = 'amber14-all.xml'\n",
    "pH          = 7.0"
   ]
  },
  {
   "cell_type": "code",
   "execution_count": 6,
   "metadata": {},
   "outputs": [
    {
     "name": "stdout",
     "output_type": "stream",
     "text": [
      "[stdout:0] \n",
      "Setting up the mechanical molecular context... 4.78 secs\n",
      "Setting up the evaluation region... 4.95 secs\n",
      "Evaluation of 39960 different relative orientations started...\n",
      "In mpi rank 0 centers from 0 to 46 in 30.71 seconds ( 1.5  its/sec)\n",
      "Time to collect potential energies: 0.001814\n",
      "31.41 secs\n",
      "Done\n",
      "Complex at infinite distance with Potential Energy: 7374.3515625 kJ/mol\n",
      "Best relative orientation with Potential Energy: 5532.796875 kJ/mol\n",
      "[stdout:1] In mpi rank 1 centers from 46 to 91 in 30.35 seconds ( 1.48  its/sec)\n",
      "[stdout:2] In mpi rank 2 centers from 94 to 140 in 30.68 seconds ( 1.5  its/sec)\n",
      "[stdout:3] In mpi rank 3 centers from 143 to 189 in 30.74 seconds ( 1.5  its/sec)\n",
      "[stdout:4] In mpi rank 4 centers from 186 to 231 in 30.03 seconds ( 1.5  its/sec)\n",
      "[stdout:5] In mpi rank 5 centers from 240 to 287 in 31.03 seconds ( 1.51  its/sec)\n",
      "[stdout:6] In mpi rank 6 centers from 282 to 327 in 30.19 seconds ( 1.49  its/sec)\n",
      "[stdout:7] In mpi rank 7 centers from 324 to 369 in 30.33 seconds ( 1.48  its/sec)\n"
     ]
    }
   ],
   "source": [
    "docking = pnt.predict(Barnase, Barstar, force_field, pH, delta_x = 0.8, nside = 3,\n",
    "                      mpi_comm = comm, verbose = True)"
   ]
  },
  {
   "cell_type": "code",
   "execution_count": null,
   "metadata": {},
   "outputs": [],
   "source": [
    "if comm.Get_rank() == 0:\n",
    "    xx1, pes1 = docking.get_potential_energy_1D_landscape()"
   ]
  },
  {
   "cell_type": "code",
   "execution_count": null,
   "metadata": {},
   "outputs": [],
   "source": [
    "if comm.Get_rank() == 0:\n",
    "    print(docking.PotentialEnergyNetwork)"
   ]
  },
  {
   "cell_type": "code",
   "execution_count": null,
   "metadata": {},
   "outputs": [],
   "source": [
    "docking = pnt.pynterpred(Barnase, Barstar, force_field, pH, delta_x = 0.5, nside = 5,\n",
    "                         mpi_comm = comm, verbose = True)\n",
    "\n",
    "xx1, pes1 = docking.get_potential_energy_1D_landscape()\n",
    "del(docking)"
   ]
  },
  {
   "cell_type": "code",
   "execution_count": null,
   "metadata": {},
   "outputs": [],
   "source": [
    "docking = pnt.pynterpred(Barnase, Barnase, force_field, pH, delta_x = 0.5, nside = 5, mpi_comm = comm)\n",
    "xx2, pes2 = docking.get_potential_energy_1D_landscape()\n",
    "del(docking)"
   ]
  },
  {
   "cell_type": "code",
   "execution_count": null,
   "metadata": {},
   "outputs": [],
   "source": [
    "docking = pnt.pynterpred(Barstar, Barstar, force_field, pH, delta_x = 0.5, nside = 5, mpi_comm = comm)\n",
    "xx3, pes3 = docking.get_potential_energy_1D_landscape()\n",
    "del(docking)"
   ]
  },
  {
   "cell_type": "code",
   "execution_count": null,
   "metadata": {},
   "outputs": [],
   "source": [
    "plt.scatter(xx1,pes1,0.1,label=\"Bb\")\n",
    "plt.scatter(xx2,pes2,0.1,label=\"BB\")\n",
    "plt.scatter(xx3,pes3,0.1,label=\"bb\")\n",
    "plt.legend()\n",
    "\n",
    "plt.xlim([-10000,10000])\n",
    "plt.ylim([-2000,4000])\n"
   ]
  },
  {
   "cell_type": "code",
   "execution_count": null,
   "metadata": {},
   "outputs": [],
   "source": []
  },
  {
   "cell_type": "code",
   "execution_count": null,
   "metadata": {},
   "outputs": [],
   "source": []
  }
 ],
 "metadata": {
  "kernelspec": {
   "display_name": "Python 3",
   "language": "python",
   "name": "python3"
  },
  "language_info": {
   "codemirror_mode": {
    "name": "ipython",
    "version": 3
   },
   "file_extension": ".py",
   "mimetype": "text/x-python",
   "name": "python",
   "nbconvert_exporter": "python",
   "pygments_lexer": "ipython3",
   "version": "3.6.5"
  }
 },
 "nbformat": 4,
 "nbformat_minor": 2
}
