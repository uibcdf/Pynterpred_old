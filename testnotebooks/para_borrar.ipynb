{
 "cells": [
  {
   "cell_type": "code",
   "execution_count": 1,
   "metadata": {},
   "outputs": [
    {
     "name": "stdout",
     "output_type": "stream",
     "text": [
      "%autopx enabled\n"
     ]
    },
    {
     "name": "stderr",
     "output_type": "stream",
     "text": [
      "/home/diego/Myopt/Miniconda/miniconda3/envs/UIBCDFLab_dev/lib/python3.6/site-packages/ipyparallel/client/client.py:459: RuntimeWarning: \n",
      "            Controller appears to be listening on localhost, but not on this machine.\n",
      "            If this is true, you should specify Client(...,sshserver='you@nauta')\n",
      "            or instruct your controller to listen on an external IP.\n",
      "  RuntimeWarning)\n"
     ]
    }
   ],
   "source": [
    "# ipcluster start -n 8 --engines=MPIEngineSetLauncher\n",
    "import ipyparallel as ipp\n",
    "client = ipp.Client(profile=\"default\")\n",
    "%autopx"
   ]
  },
  {
   "cell_type": "code",
   "execution_count": 2,
   "metadata": {},
   "outputs": [],
   "source": [
    "%load_ext autoreload\n",
    "%autoreload 2\n",
    "%matplotlib notebook"
   ]
  },
  {
   "cell_type": "code",
   "execution_count": 7,
   "metadata": {},
   "outputs": [],
   "source": [
    "import sys\n",
    "sys.path.append('/home/diego/Projects/Pynterpred_devel/')\n",
    "import time\n",
    "import pynterpred as pnt\n",
    "import numpy as np\n",
    "from matplotlib import pyplot as plt"
   ]
  },
  {
   "cell_type": "code",
   "execution_count": 4,
   "metadata": {},
   "outputs": [],
   "source": [
    "from mpi4py import MPI\n",
    "comm = MPI.COMM_WORLD"
   ]
  },
  {
   "cell_type": "code",
   "execution_count": 5,
   "metadata": {},
   "outputs": [],
   "source": [
    "Barnase     = '/home/diego/Projects/Pynterpred_devel/pynterpred/testsystems/Barnase-Barstar/pdbs/Barnase.pdb'\n",
    "Barstar     = '/home/diego/Projects/Pynterpred_devel/pynterpred/testsystems/Barnase-Barstar/pdbs/Barstar.pdb'\n",
    "force_field = 'amber14-all.xml'\n",
    "pH          = 7.0"
   ]
  },
  {
   "cell_type": "code",
   "execution_count": 12,
   "metadata": {},
   "outputs": [
    {
     "name": "stdout",
     "output_type": "stream",
     "text": [
      "[stdout:0] \n",
      "va\n",
      "Setting up the mechanical molecular context... 5.778419494628906 secs\n",
      "Setting up the evaluation region... 4.805249452590942 secs\n",
      "Potential Energy evaluation of 20736 different relative orientations started...\n",
      "15.57195234298706 secs\n",
      "Done\n",
      "Complex at infinite distance with Potential Energy: 5581.529296875\n",
      "Best orientation evaluated with Potential Energy: 5581.529296875\n",
      "[stdout:1] va\n",
      "[stdout:2] va\n",
      "[stdout:3] va\n",
      "[stdout:4] va\n",
      "[stdout:5] va\n",
      "[stdout:6] va\n",
      "[stdout:7] va\n"
     ]
    }
   ],
   "source": [
    "receptor_pdb_file = Barnase\n",
    "ligand_pdb_file = Barstar\n",
    "forcefield = force_field\n",
    "pH = pH\n",
    "delta_x = 1.0\n",
    "nside = 3\n",
    "mpi_comm = comm\n",
    "verbose = True\n",
    "\n",
    "###\n",
    "\n",
    "i_am_logger_out = False\n",
    "if verbose:\n",
    "    print('va',flush=True)\n",
    "    if mpi_comm is None:\n",
    "        i_am_logger_out = True\n",
    "    elif (mpi_comm.Get_rank() == 0):\n",
    "        i_am_logger_out = True\n",
    "\n",
    "sys.stdout.flush()\n",
    "        \n",
    "if i_am_logger_out:\n",
    "    print(\"Setting up the mechanical molecular context... \", end=\"\", flush=True)\n",
    "    time_start = time.time()\n",
    "\n",
    "sys.stdout.flush()\n",
    "comm.Barrier()\n",
    "tmp_receptor = pnt.Receptor(receptor_pdb_file,forcefield,pH,mpi_comm)\n",
    "tmp_ligand   = pnt.Ligand(ligand_pdb_file,forcefield,pH,mpi_comm)\n",
    "tmp_context  = pnt.MMContext(tmp_receptor,tmp_ligand)\n",
    "\n",
    "if i_am_logger_out:\n",
    "    print(time.time()-time_start,'secs')\n",
    "    time_start = time.time()\n",
    "    print(\"Setting up the evaluation region... \", end=\"\", flush=True)\n",
    "\n",
    "tmp_region   = pnt.Region(tmp_receptor, tmp_ligand, delta_x=delta_x, nside=nside)\n",
    "tmp_docking  = pnt.Docker(tmp_context,tmp_region,mpi_comm)\n",
    "\n",
    "if i_am_logger_out:\n",
    "    print(time.time()-time_start,'secs')\n",
    "    time_start = time.time()\n",
    "    print(\"Potential Energy evaluation of\", tmp_region.num_centers*tmp_region.num_rotations , \"different relative orientations started...\")\n",
    "tmp_docking.evaluation()\n",
    "\n",
    "if i_am_logger_out:\n",
    "    print(time.time()-time_start,'secs')\n",
    "    time_start = time.time()\n",
    "    print(\"Done\")\n",
    "    print(\"Complex at infinite distance with Potential Energy:\", tmp_docking.potential_energies.min())\n",
    "    print(\"Best orientation evaluated with Potential Energy:\", tmp_docking.potential_energies.min())\n",
    "\n",
    "del(tmp_receptor, tmp_ligand, tmp_context, tmp_region)\n",
    "\n",
    "\n"
   ]
  },
  {
   "cell_type": "code",
   "execution_count": null,
   "metadata": {},
   "outputs": [],
   "source": [
    "docking = pnt.predict(Barnase, Barstar, force_field, pH, delta_x = 1.0, nside = 3, mpi_comm = comm, verbose = True)"
   ]
  },
  {
   "cell_type": "code",
   "execution_count": null,
   "metadata": {},
   "outputs": [],
   "source": [
    "docking = pnt.pynterpred(Barnase, Barstar, force_field, pH, delta_x = 0.5, nside = 5, mpi_comm = comm)\n",
    "xx1, pes1 = docking.get_potential_energy_1D_landscape()\n",
    "del(docking)"
   ]
  },
  {
   "cell_type": "code",
   "execution_count": null,
   "metadata": {},
   "outputs": [],
   "source": [
    "docking = pnt.pynterpred(Barnase, Barnase, force_field, pH, delta_x = 0.5, nside = 5, mpi_comm = comm)\n",
    "xx2, pes2 = docking.get_potential_energy_1D_landscape()\n",
    "del(docking)"
   ]
  },
  {
   "cell_type": "code",
   "execution_count": null,
   "metadata": {},
   "outputs": [],
   "source": [
    "docking = pnt.pynterpred(Barstar, Barstar, force_field, pH, delta_x = 0.5, nside = 5, mpi_comm = comm)\n",
    "xx3, pes3 = docking.get_potential_energy_1D_landscape()\n",
    "del(docking)"
   ]
  },
  {
   "cell_type": "code",
   "execution_count": null,
   "metadata": {},
   "outputs": [],
   "source": [
    "plt.scatter(xx1,pes1,0.1,label=\"Bb\")\n",
    "plt.scatter(xx2,pes2,0.1,label=\"BB\")\n",
    "plt.scatter(xx3,pes3,0.1,label=\"bb\")\n",
    "plt.legend()\n",
    "\n",
    "plt.xlim([-10000,10000])\n",
    "plt.ylim([-2000,4000])\n"
   ]
  },
  {
   "cell_type": "code",
   "execution_count": null,
   "metadata": {},
   "outputs": [],
   "source": []
  },
  {
   "cell_type": "code",
   "execution_count": null,
   "metadata": {},
   "outputs": [],
   "source": []
  }
 ],
 "metadata": {
  "kernelspec": {
   "display_name": "Python 3",
   "language": "python",
   "name": "python3"
  },
  "language_info": {
   "codemirror_mode": {
    "name": "ipython",
    "version": 3
   },
   "file_extension": ".py",
   "mimetype": "text/x-python",
   "name": "python",
   "nbconvert_exporter": "python",
   "pygments_lexer": "ipython3",
   "version": "3.6.5"
  }
 },
 "nbformat": 4,
 "nbformat_minor": 2
}
