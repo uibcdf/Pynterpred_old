{
 "cells": [
  {
   "cell_type": "code",
   "execution_count": 1,
   "metadata": {},
   "outputs": [
    {
     "name": "stdout",
     "output_type": "stream",
     "text": [
      "%autopx enabled\n"
     ]
    },
    {
     "name": "stderr",
     "output_type": "stream",
     "text": [
      "/home/diego/Myusr/opt/miniconda3/envs/UIBCDFLab_dev/lib/python3.6/site-packages/ipyparallel/client/client.py:459: RuntimeWarning: \n",
      "            Controller appears to be listening on localhost, but not on this machine.\n",
      "            If this is true, you should specify Client(...,sshserver='you@aleph')\n",
      "            or instruct your controller to listen on an external IP.\n",
      "  RuntimeWarning)\n"
     ]
    }
   ],
   "source": [
    "import ipyparallel as ipp\n",
    "client = ipp.Client(profile=\"default\")\n",
    "%autopx"
   ]
  },
  {
   "cell_type": "code",
   "execution_count": 2,
   "metadata": {},
   "outputs": [],
   "source": [
    "%load_ext autoreload\n",
    "%autoreload 2\n",
    "%matplotlib notebook"
   ]
  },
  {
   "cell_type": "code",
   "execution_count": 3,
   "metadata": {},
   "outputs": [],
   "source": [
    "from mpi4py import MPI\n",
    "comm = MPI.COMM_WORLD"
   ]
  },
  {
   "cell_type": "code",
   "execution_count": 4,
   "metadata": {},
   "outputs": [
    {
     "name": "stdout",
     "output_type": "stream",
     "text": [
      "[stdout:0] 0\n",
      "[stdout:1] 1\n",
      "[stdout:2] 2\n",
      "[stdout:3] 3\n"
     ]
    }
   ],
   "source": [
    "my_rank = comm.Get_rank()\n",
    "print(my_rank)"
   ]
  },
  {
   "cell_type": "code",
   "execution_count": 5,
   "metadata": {},
   "outputs": [],
   "source": [
    "import sys\n",
    "sys.path.append('/home/diego/Trabajo/Proyectos/Pynterpred_devel/')\n",
    "import pynterpred as pnt"
   ]
  },
  {
   "cell_type": "code",
   "execution_count": 6,
   "metadata": {},
   "outputs": [],
   "source": [
    "# In every single node\n",
    "\n",
    "receptor = pnt.Receptor('testsystems/Barnase-Barstar/pdbs/Barnase.pdb','amber14-all.xml',pH=7.0)\n",
    "ligand   = pnt.Ligand('testsystems/Barnase-Barstar/pdbs/Barstar.pdb','amber14-all.xml',pH=7.0)\n",
    "context  = pnt.MMContext(receptor,ligand)\n"
   ]
  },
  {
   "cell_type": "code",
   "execution_count": 7,
   "metadata": {},
   "outputs": [
    {
     "data": {
      "text/plain": [
       "\u001b[0;31mOut[0:58]: \u001b[0mQuantity(value=-1847.604736328125, unit=kilojoule/mole)"
      ]
     },
     "metadata": {
      "after": [],
      "completed": "2018-07-26T05:52:02.081126",
      "data": {},
      "engine_id": 0,
      "engine_uuid": "01068a16-8c1667cc916e9bfeb1d18e36",
      "error": null,
      "execute_input": "context.get_potential_energy_ligand()",
      "execute_result": {
       "data": {
        "text/plain": "Quantity(value=-1847.604736328125, unit=kilojoule/mole)"
       },
       "execution_count": 58,
       "metadata": {}
      },
      "follow": [],
      "msg_id": "5059bce1-5bfdeb818cfb4956ea624010",
      "outputs": [],
      "received": "2018-07-26T05:52:02.084923",
      "started": "2018-07-26T05:52:00.408479",
      "status": "ok",
      "stderr": "",
      "stdout": "",
      "submitted": "2018-07-26T05:52:00.399007"
     },
     "output_type": "display_data"
    },
    {
     "data": {
      "text/plain": [
       "\u001b[0;31mOut[1:58]: \u001b[0mQuantity(value=-1963.40185546875, unit=kilojoule/mole)"
      ]
     },
     "metadata": {
      "after": [],
      "completed": "2018-07-26T05:52:02.055288",
      "data": {},
      "engine_id": 1,
      "engine_uuid": "7875fcf3-554004f090d020653dd28bb6",
      "error": null,
      "execute_input": "context.get_potential_energy_ligand()",
      "execute_result": {
       "data": {
        "text/plain": "Quantity(value=-1963.40185546875, unit=kilojoule/mole)"
       },
       "execution_count": 58,
       "metadata": {}
      },
      "follow": [],
      "msg_id": "375914fd-cb142fb8667db4e89829b4da",
      "outputs": [],
      "received": "2018-07-26T05:52:02.060561",
      "started": "2018-07-26T05:52:00.413354",
      "status": "ok",
      "stderr": "",
      "stdout": "",
      "submitted": "2018-07-26T05:52:00.401724"
     },
     "output_type": "display_data"
    },
    {
     "data": {
      "text/plain": [
       "\u001b[0;31mOut[2:58]: \u001b[0mQuantity(value=-1836.37939453125, unit=kilojoule/mole)"
      ]
     },
     "metadata": {
      "after": [],
      "completed": "2018-07-26T05:52:02.040672",
      "data": {},
      "engine_id": 2,
      "engine_uuid": "2ab89f5a-d88543d448475b893ce002cd",
      "error": null,
      "execute_input": "context.get_potential_energy_ligand()",
      "execute_result": {
       "data": {
        "text/plain": "Quantity(value=-1836.37939453125, unit=kilojoule/mole)"
       },
       "execution_count": 58,
       "metadata": {}
      },
      "follow": [],
      "msg_id": "efdfd70b-a29d15d4f0e7ca818545803b",
      "outputs": [],
      "received": "2018-07-26T05:52:02.046066",
      "started": "2018-07-26T05:52:00.420955",
      "status": "ok",
      "stderr": "",
      "stdout": "",
      "submitted": "2018-07-26T05:52:00.403321"
     },
     "output_type": "display_data"
    },
    {
     "data": {
      "text/plain": [
       "\u001b[0;31mOut[3:58]: \u001b[0mQuantity(value=-1814.6923828125, unit=kilojoule/mole)"
      ]
     },
     "metadata": {
      "after": [],
      "completed": "2018-07-26T05:52:02.110339",
      "data": {},
      "engine_id": 3,
      "engine_uuid": "680e8103-22f0314a0bce9b1f9cf29e80",
      "error": null,
      "execute_input": "context.get_potential_energy_ligand()",
      "execute_result": {
       "data": {
        "text/plain": "Quantity(value=-1814.6923828125, unit=kilojoule/mole)"
       },
       "execution_count": 58,
       "metadata": {}
      },
      "follow": [],
      "msg_id": "96cd7f08-5ac263cf21e008057917992f",
      "outputs": [],
      "received": "2018-07-26T05:52:02.112757",
      "started": "2018-07-26T05:52:00.421075",
      "status": "ok",
      "stderr": "",
      "stdout": "",
      "submitted": "2018-07-26T05:52:00.404046"
     },
     "output_type": "display_data"
    }
   ],
   "source": [
    "context.get_potential_energy_ligand()"
   ]
  },
  {
   "cell_type": "code",
   "execution_count": 8,
   "metadata": {},
   "outputs": [
    {
     "data": {
      "text/plain": [
       "\u001b[0;31mOut[0:59]: \u001b[0mQuantity(value=-4558.0546875, unit=kilojoule/mole)"
      ]
     },
     "metadata": {
      "after": [],
      "completed": "2018-07-26T05:52:05.243739",
      "data": {},
      "engine_id": 0,
      "engine_uuid": "01068a16-8c1667cc916e9bfeb1d18e36",
      "error": null,
      "execute_input": "context.get_potential_energy_receptor()",
      "execute_result": {
       "data": {
        "text/plain": "Quantity(value=-4558.0546875, unit=kilojoule/mole)"
       },
       "execution_count": 59,
       "metadata": {}
      },
      "follow": [],
      "msg_id": "fb0b536e-de968a31188d7b2242e75ef8",
      "outputs": [],
      "received": "2018-07-26T05:52:05.246599",
      "started": "2018-07-26T05:52:03.402516",
      "status": "ok",
      "stderr": "",
      "stdout": "",
      "submitted": "2018-07-26T05:52:03.384484"
     },
     "output_type": "display_data"
    },
    {
     "data": {
      "text/plain": [
       "\u001b[0;31mOut[1:59]: \u001b[0mQuantity(value=-5855.47265625, unit=kilojoule/mole)"
      ]
     },
     "metadata": {
      "after": [],
      "completed": "2018-07-26T05:52:05.011131",
      "data": {},
      "engine_id": 1,
      "engine_uuid": "7875fcf3-554004f090d020653dd28bb6",
      "error": null,
      "execute_input": "context.get_potential_energy_receptor()",
      "execute_result": {
       "data": {
        "text/plain": "Quantity(value=-5855.47265625, unit=kilojoule/mole)"
       },
       "execution_count": 59,
       "metadata": {}
      },
      "follow": [],
      "msg_id": "7776ddb1-1e4f33a51d4476db8c17aacd",
      "outputs": [],
      "received": "2018-07-26T05:52:05.019489",
      "started": "2018-07-26T05:52:03.404439",
      "status": "ok",
      "stderr": "",
      "stdout": "",
      "submitted": "2018-07-26T05:52:03.386807"
     },
     "output_type": "display_data"
    },
    {
     "data": {
      "text/plain": [
       "\u001b[0;31mOut[2:59]: \u001b[0mQuantity(value=-5228.943359375, unit=kilojoule/mole)"
      ]
     },
     "metadata": {
      "after": [],
      "completed": "2018-07-26T05:52:05.265965",
      "data": {},
      "engine_id": 2,
      "engine_uuid": "2ab89f5a-d88543d448475b893ce002cd",
      "error": null,
      "execute_input": "context.get_potential_energy_receptor()",
      "execute_result": {
       "data": {
        "text/plain": "Quantity(value=-5228.943359375, unit=kilojoule/mole)"
       },
       "execution_count": 59,
       "metadata": {}
      },
      "follow": [],
      "msg_id": "0ebc5c12-64b512b4b39439087d529447",
      "outputs": [],
      "received": "2018-07-26T05:52:05.269607",
      "started": "2018-07-26T05:52:03.412811",
      "status": "ok",
      "stderr": "",
      "stdout": "",
      "submitted": "2018-07-26T05:52:03.387399"
     },
     "output_type": "display_data"
    },
    {
     "data": {
      "text/plain": [
       "\u001b[0;31mOut[3:59]: \u001b[0mQuantity(value=-5315.39697265625, unit=kilojoule/mole)"
      ]
     },
     "metadata": {
      "after": [],
      "completed": "2018-07-26T05:52:04.924473",
      "data": {},
      "engine_id": 3,
      "engine_uuid": "680e8103-22f0314a0bce9b1f9cf29e80",
      "error": null,
      "execute_input": "context.get_potential_energy_receptor()",
      "execute_result": {
       "data": {
        "text/plain": "Quantity(value=-5315.39697265625, unit=kilojoule/mole)"
       },
       "execution_count": 59,
       "metadata": {}
      },
      "follow": [],
      "msg_id": "275a5ea3-01316126bd25fcea96db1776",
      "outputs": [],
      "received": "2018-07-26T05:52:04.929726",
      "started": "2018-07-26T05:52:03.415752",
      "status": "ok",
      "stderr": "",
      "stdout": "",
      "submitted": "2018-07-26T05:52:03.388356"
     },
     "output_type": "display_data"
    }
   ],
   "source": [
    "context.get_potential_energy_receptor()"
   ]
  },
  {
   "cell_type": "code",
   "execution_count": 9,
   "metadata": {},
   "outputs": [
    {
     "ename": "CompositeError",
     "evalue": "one or more exceptions from call to method: execute\n[0:execute]: TypeError: __init__() got an unexpected keyword argument 'with_network'\n[1:execute]: TypeError: __init__() got an unexpected keyword argument 'with_network'\n[2:execute]: TypeError: __init__() got an unexpected keyword argument 'with_network'\n[3:execute]: TypeError: __init__() got an unexpected keyword argument 'with_network'",
     "output_type": "error",
     "traceback": [
      "[0:execute]: ",
      "\u001b[0;31m---------------------------------------------------------------------------\u001b[0m\u001b[0;31mTypeError\u001b[0m                                 Traceback (most recent call last)\u001b[0;32m<ipython-input-60-fb6875022b3f>\u001b[0m in \u001b[0;36m<module>\u001b[0;34m()\u001b[0m",
      "\u001b[0;32m----> 1\u001b[0;31m \u001b[0mregion\u001b[0m   \u001b[0;34m=\u001b[0m \u001b[0mpnt\u001b[0m\u001b[0;34m.\u001b[0m\u001b[0mRegion\u001b[0m\u001b[0;34m(\u001b[0m\u001b[0mreceptor\u001b[0m\u001b[0;34m,\u001b[0m \u001b[0mligand\u001b[0m\u001b[0;34m,\u001b[0m \u001b[0mdelta_x\u001b[0m\u001b[0;34m=\u001b[0m\u001b[0;36m0.5\u001b[0m\u001b[0;34m,\u001b[0m \u001b[0mnside\u001b[0m\u001b[0;34m=\u001b[0m\u001b[0;36m5\u001b[0m\u001b[0;34m,\u001b[0m \u001b[0mwith_network\u001b[0m\u001b[0;34m=\u001b[0m\u001b[0;32mFalse\u001b[0m\u001b[0;34m)\u001b[0m\u001b[0;34m\u001b[0m\u001b[0m",
      "\u001b[0m\u001b[0;31mTypeError\u001b[0m: __init__() got an unexpected keyword argument 'with_network'",
      "",
      "[1:execute]: ",
      "\u001b[0;31m---------------------------------------------------------------------------\u001b[0m\u001b[0;31mTypeError\u001b[0m                                 Traceback (most recent call last)\u001b[0;32m<ipython-input-60-fb6875022b3f>\u001b[0m in \u001b[0;36m<module>\u001b[0;34m()\u001b[0m",
      "\u001b[0;32m----> 1\u001b[0;31m \u001b[0mregion\u001b[0m   \u001b[0;34m=\u001b[0m \u001b[0mpnt\u001b[0m\u001b[0;34m.\u001b[0m\u001b[0mRegion\u001b[0m\u001b[0;34m(\u001b[0m\u001b[0mreceptor\u001b[0m\u001b[0;34m,\u001b[0m \u001b[0mligand\u001b[0m\u001b[0;34m,\u001b[0m \u001b[0mdelta_x\u001b[0m\u001b[0;34m=\u001b[0m\u001b[0;36m0.5\u001b[0m\u001b[0;34m,\u001b[0m \u001b[0mnside\u001b[0m\u001b[0;34m=\u001b[0m\u001b[0;36m5\u001b[0m\u001b[0;34m,\u001b[0m \u001b[0mwith_network\u001b[0m\u001b[0;34m=\u001b[0m\u001b[0;32mFalse\u001b[0m\u001b[0;34m)\u001b[0m\u001b[0;34m\u001b[0m\u001b[0m",
      "\u001b[0m\u001b[0;31mTypeError\u001b[0m: __init__() got an unexpected keyword argument 'with_network'",
      "",
      "[2:execute]: ",
      "\u001b[0;31m---------------------------------------------------------------------------\u001b[0m\u001b[0;31mTypeError\u001b[0m                                 Traceback (most recent call last)\u001b[0;32m<ipython-input-60-fb6875022b3f>\u001b[0m in \u001b[0;36m<module>\u001b[0;34m()\u001b[0m",
      "\u001b[0;32m----> 1\u001b[0;31m \u001b[0mregion\u001b[0m   \u001b[0;34m=\u001b[0m \u001b[0mpnt\u001b[0m\u001b[0;34m.\u001b[0m\u001b[0mRegion\u001b[0m\u001b[0;34m(\u001b[0m\u001b[0mreceptor\u001b[0m\u001b[0;34m,\u001b[0m \u001b[0mligand\u001b[0m\u001b[0;34m,\u001b[0m \u001b[0mdelta_x\u001b[0m\u001b[0;34m=\u001b[0m\u001b[0;36m0.5\u001b[0m\u001b[0;34m,\u001b[0m \u001b[0mnside\u001b[0m\u001b[0;34m=\u001b[0m\u001b[0;36m5\u001b[0m\u001b[0;34m,\u001b[0m \u001b[0mwith_network\u001b[0m\u001b[0;34m=\u001b[0m\u001b[0;32mFalse\u001b[0m\u001b[0;34m)\u001b[0m\u001b[0;34m\u001b[0m\u001b[0m",
      "\u001b[0m\u001b[0;31mTypeError\u001b[0m: __init__() got an unexpected keyword argument 'with_network'",
      "",
      "[3:execute]: ",
      "\u001b[0;31m---------------------------------------------------------------------------\u001b[0m\u001b[0;31mTypeError\u001b[0m                                 Traceback (most recent call last)\u001b[0;32m<ipython-input-60-fb6875022b3f>\u001b[0m in \u001b[0;36m<module>\u001b[0;34m()\u001b[0m",
      "\u001b[0;32m----> 1\u001b[0;31m \u001b[0mregion\u001b[0m   \u001b[0;34m=\u001b[0m \u001b[0mpnt\u001b[0m\u001b[0;34m.\u001b[0m\u001b[0mRegion\u001b[0m\u001b[0;34m(\u001b[0m\u001b[0mreceptor\u001b[0m\u001b[0;34m,\u001b[0m \u001b[0mligand\u001b[0m\u001b[0;34m,\u001b[0m \u001b[0mdelta_x\u001b[0m\u001b[0;34m=\u001b[0m\u001b[0;36m0.5\u001b[0m\u001b[0;34m,\u001b[0m \u001b[0mnside\u001b[0m\u001b[0;34m=\u001b[0m\u001b[0;36m5\u001b[0m\u001b[0;34m,\u001b[0m \u001b[0mwith_network\u001b[0m\u001b[0;34m=\u001b[0m\u001b[0;32mFalse\u001b[0m\u001b[0;34m)\u001b[0m\u001b[0;34m\u001b[0m\u001b[0m",
      "\u001b[0m\u001b[0;31mTypeError\u001b[0m: __init__() got an unexpected keyword argument 'with_network'",
      ""
     ]
    }
   ],
   "source": [
    "region   = pnt.Region(receptor, ligand, delta_x=0.5, nside=5, with_network=False)"
   ]
  },
  {
   "cell_type": "code",
   "execution_count": null,
   "metadata": {},
   "outputs": [],
   "source": [
    "pnt.__file__"
   ]
  },
  {
   "cell_type": "code",
   "execution_count": null,
   "metadata": {},
   "outputs": [],
   "source": [
    "region   = pnt.Region(receptor, ligand, delta_x=0.6, nside=2)"
   ]
  },
  {
   "cell_type": "code",
   "execution_count": null,
   "metadata": {},
   "outputs": [],
   "source": [
    "regions_list=region.split_in_subregions(20)"
   ]
  },
  {
   "cell_type": "code",
   "execution_count": null,
   "metadata": {},
   "outputs": [],
   "source": [
    "my_region=regions_list[comm.Get_rank()]"
   ]
  },
  {
   "cell_type": "code",
   "execution_count": null,
   "metadata": {},
   "outputs": [],
   "source": [
    "aa=pnt.docking(context,my_region)"
   ]
  },
  {
   "cell_type": "code",
   "execution_count": null,
   "metadata": {},
   "outputs": [],
   "source": [
    "print(aa)"
   ]
  },
  {
   "cell_type": "code",
   "execution_count": null,
   "metadata": {},
   "outputs": [],
   "source": []
  },
  {
   "cell_type": "code",
   "execution_count": null,
   "metadata": {},
   "outputs": [],
   "source": []
  },
  {
   "cell_type": "code",
   "execution_count": null,
   "metadata": {},
   "outputs": [],
   "source": []
  },
  {
   "cell_type": "code",
   "execution_count": null,
   "metadata": {},
   "outputs": [],
   "source": []
  },
  {
   "cell_type": "code",
   "execution_count": null,
   "metadata": {},
   "outputs": [],
   "source": []
  },
  {
   "cell_type": "code",
   "execution_count": null,
   "metadata": {},
   "outputs": [],
   "source": []
  },
  {
   "cell_type": "code",
   "execution_count": null,
   "metadata": {},
   "outputs": [],
   "source": []
  },
  {
   "cell_type": "code",
   "execution_count": null,
   "metadata": {},
   "outputs": [],
   "source": []
  },
  {
   "cell_type": "code",
   "execution_count": null,
   "metadata": {},
   "outputs": [],
   "source": []
  },
  {
   "cell_type": "code",
   "execution_count": null,
   "metadata": {},
   "outputs": [],
   "source": []
  },
  {
   "cell_type": "code",
   "execution_count": null,
   "metadata": {},
   "outputs": [],
   "source": []
  },
  {
   "cell_type": "code",
   "execution_count": null,
   "metadata": {},
   "outputs": [],
   "source": []
  },
  {
   "cell_type": "code",
   "execution_count": null,
   "metadata": {},
   "outputs": [],
   "source": []
  },
  {
   "cell_type": "code",
   "execution_count": null,
   "metadata": {},
   "outputs": [],
   "source": []
  },
  {
   "cell_type": "code",
   "execution_count": null,
   "metadata": {},
   "outputs": [],
   "source": []
  },
  {
   "cell_type": "code",
   "execution_count": null,
   "metadata": {},
   "outputs": [],
   "source": [
    "\n",
    "\n"
   ]
  },
  {
   "cell_type": "code",
   "execution_count": null,
   "metadata": {},
   "outputs": [],
   "source": []
  },
  {
   "cell_type": "code",
   "execution_count": null,
   "metadata": {},
   "outputs": [],
   "source": []
  },
  {
   "cell_type": "code",
   "execution_count": null,
   "metadata": {},
   "outputs": [],
   "source": []
  },
  {
   "cell_type": "code",
   "execution_count": null,
   "metadata": {},
   "outputs": [],
   "source": []
  },
  {
   "cell_type": "code",
   "execution_count": null,
   "metadata": {},
   "outputs": [],
   "source": []
  }
 ],
 "metadata": {
  "kernelspec": {
   "display_name": "Python 3",
   "language": "python",
   "name": "python3"
  },
  "language_info": {
   "codemirror_mode": {
    "name": "ipython",
    "version": 3
   },
   "file_extension": ".py",
   "mimetype": "text/x-python",
   "name": "python",
   "nbconvert_exporter": "python",
   "pygments_lexer": "ipython3",
   "version": "3.6.5"
  }
 },
 "nbformat": 4,
 "nbformat_minor": 2
}
