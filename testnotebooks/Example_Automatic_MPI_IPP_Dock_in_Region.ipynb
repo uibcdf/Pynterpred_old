{
 "cells": [
  {
   "cell_type": "code",
   "execution_count": 1,
   "metadata": {},
   "outputs": [],
   "source": [
    "%load_ext autoreload\n",
    "%autoreload 2\n",
    "%matplotlib notebook"
   ]
  },
  {
   "cell_type": "code",
   "execution_count": 2,
   "metadata": {},
   "outputs": [
    {
     "name": "stdout",
     "output_type": "stream",
     "text": [
      "%autopx enabled\n"
     ]
    },
    {
     "name": "stderr",
     "output_type": "stream",
     "text": [
      "/home/diego/Myopt/Miniconda/miniconda3/envs/pynterpred/lib/python3.6/site-packages/ipyparallel/client/client.py:458: RuntimeWarning: \n",
      "            Controller appears to be listening on localhost, but not on this machine.\n",
      "            If this is true, you should specify Client(...,sshserver='you@nauta')\n",
      "            or instruct your controller to listen on an external IP.\n",
      "  RuntimeWarning)\n"
     ]
    }
   ],
   "source": [
    "import ipyparallel as ipp\n",
    "client = ipp.Client(profile=\"default\")\n",
    "%autopx"
   ]
  },
  {
   "cell_type": "code",
   "execution_count": 3,
   "metadata": {},
   "outputs": [],
   "source": [
    "import os\n",
    "import sys\n",
    "sys.path.append('/home/diego/Trabajo/Proyectos/Pynterpred_devel/')\n",
    "import numpy as np\n",
    "import mdtraj\n",
    "import pynterpred as pnt\n",
    "import nglview\n",
    "import tqdm\n",
    "import matplotlib.pyplot as plt\n",
    "\n",
    "from simtk import openmm, unit\n",
    "from simtk.openmm import app"
   ]
  },
  {
   "cell_type": "code",
   "execution_count": 4,
   "metadata": {},
   "outputs": [],
   "source": [
    "from mpi4py import MPI\n",
    "comm = MPI.COMM_WORLD"
   ]
  },
  {
   "cell_type": "code",
   "execution_count": 5,
   "metadata": {},
   "outputs": [],
   "source": [
    "os.chdir('/home/diego/Trabajo/Proyectos/Pynterpred_devel/pynterpred/testnotebooks')"
   ]
  },
  {
   "cell_type": "code",
   "execution_count": 6,
   "metadata": {},
   "outputs": [
    {
     "ename": "CompositeError",
     "evalue": "one or more exceptions from call to method: execute\n[1:execute]: Exception: Error uploading array periodicTorsionParams: clEnqueueWriteBuffer (-4)\n[9:execute]: Exception: Error compiling kernel: \n",
     "output_type": "error",
     "traceback": [
      "[1:execute]: ",
      "\u001b[0;31m---------------------------------------------------------------------------\u001b[0m\u001b[0;31mException\u001b[0m                                 Traceback (most recent call last)\u001b[0;32m<ipython-input-60-69bd3b53d512>\u001b[0m in \u001b[0;36m<module>\u001b[0;34m()\u001b[0m",
      "\u001b[1;32m      1\u001b[0m \u001b[0mreceptor\u001b[0m \u001b[0;34m=\u001b[0m \u001b[0mpnt\u001b[0m\u001b[0;34m.\u001b[0m\u001b[0mReceptor\u001b[0m\u001b[0;34m(\u001b[0m\u001b[0;34m'../testsystems/Barnase-Barstar/pdbs/Barnase.pdb'\u001b[0m\u001b[0;34m,\u001b[0m\u001b[0;34m'amber14-all.xml'\u001b[0m\u001b[0;34m,\u001b[0m\u001b[0mpH\u001b[0m\u001b[0;34m=\u001b[0m\u001b[0;36m7.0\u001b[0m\u001b[0;34m)\u001b[0m\u001b[0;34m\u001b[0m\u001b[0m",
      "\u001b[0;32m----> 2\u001b[0;31m \u001b[0mligand\u001b[0m   \u001b[0;34m=\u001b[0m \u001b[0mpnt\u001b[0m\u001b[0;34m.\u001b[0m\u001b[0mLigand\u001b[0m\u001b[0;34m(\u001b[0m\u001b[0;34m'../testsystems/Barnase-Barstar/pdbs/Barstar.pdb'\u001b[0m\u001b[0;34m,\u001b[0m\u001b[0;34m'amber14-all.xml'\u001b[0m\u001b[0;34m,\u001b[0m\u001b[0mpH\u001b[0m\u001b[0;34m=\u001b[0m\u001b[0;36m7.0\u001b[0m\u001b[0;34m)\u001b[0m\u001b[0;34m\u001b[0m\u001b[0m",
      "\u001b[0m\u001b[1;32m      3\u001b[0m \u001b[0mcontext\u001b[0m  \u001b[0;34m=\u001b[0m \u001b[0mpnt\u001b[0m\u001b[0;34m.\u001b[0m\u001b[0mMMContext\u001b[0m\u001b[0;34m(\u001b[0m\u001b[0mreceptor\u001b[0m\u001b[0;34m,\u001b[0m\u001b[0mligand\u001b[0m\u001b[0;34m)\u001b[0m\u001b[0;34m\u001b[0m\u001b[0m",
      "\u001b[1;32m      4\u001b[0m \u001b[0mregion\u001b[0m   \u001b[0;34m=\u001b[0m \u001b[0mpnt\u001b[0m\u001b[0;34m.\u001b[0m\u001b[0mRegion\u001b[0m\u001b[0;34m(\u001b[0m\u001b[0mreceptor\u001b[0m\u001b[0;34m,\u001b[0m \u001b[0mligand\u001b[0m\u001b[0;34m,\u001b[0m \u001b[0mdelta_x\u001b[0m\u001b[0;34m=\u001b[0m\u001b[0;36m0.6\u001b[0m\u001b[0;34m,\u001b[0m \u001b[0mnside\u001b[0m\u001b[0;34m=\u001b[0m\u001b[0;36m2\u001b[0m\u001b[0;34m)\u001b[0m\u001b[0;34m\u001b[0m\u001b[0m",
      "\u001b[0;32m~/Trabajo/Proyectos/Pynterpred_devel/pynterpred/main.py\u001b[0m in \u001b[0;36m__init__\u001b[0;34m(self, pdb_file, forcefield, pH, addHs, center)\u001b[0m",
      "\u001b[1;32m     52\u001b[0m             \u001b[0mself\u001b[0m\u001b[0;34m.\u001b[0m\u001b[0mpH\u001b[0m         \u001b[0;34m=\u001b[0m \u001b[0mpH\u001b[0m\u001b[0;34m\u001b[0m\u001b[0m",
      "\u001b[1;32m     53\u001b[0m             \u001b[0;32mif\u001b[0m \u001b[0maddHs\u001b[0m\u001b[0;34m:\u001b[0m\u001b[0;34m\u001b[0m\u001b[0m",
      "\u001b[0;32m---> 54\u001b[0;31m                 \u001b[0mself\u001b[0m\u001b[0;34m.\u001b[0m\u001b[0m__addHs_log\u001b[0m \u001b[0;34m=\u001b[0m \u001b[0mself\u001b[0m\u001b[0;34m.\u001b[0m\u001b[0mmodeller\u001b[0m\u001b[0;34m.\u001b[0m\u001b[0maddHydrogens\u001b[0m\u001b[0;34m(\u001b[0m\u001b[0mself\u001b[0m\u001b[0;34m.\u001b[0m\u001b[0mforcefield\u001b[0m\u001b[0;34m,\u001b[0m \u001b[0mpH\u001b[0m\u001b[0;34m=\u001b[0m\u001b[0mself\u001b[0m\u001b[0;34m.\u001b[0m\u001b[0mpH\u001b[0m\u001b[0;34m)\u001b[0m\u001b[0;34m\u001b[0m\u001b[0m",
      "\u001b[0m\u001b[1;32m     55\u001b[0m             \u001b[0mself\u001b[0m\u001b[0;34m.\u001b[0m\u001b[0mtopology\u001b[0m  \u001b[0;34m=\u001b[0m \u001b[0mself\u001b[0m\u001b[0;34m.\u001b[0m\u001b[0mmodeller\u001b[0m\u001b[0;34m.\u001b[0m\u001b[0mgetTopology\u001b[0m\u001b[0;34m(\u001b[0m\u001b[0;34m)\u001b[0m\u001b[0;34m\u001b[0m\u001b[0m",
      "\u001b[1;32m     56\u001b[0m             \u001b[0mself\u001b[0m\u001b[0;34m.\u001b[0m\u001b[0mpositions\u001b[0m \u001b[0;34m=\u001b[0m \u001b[0mself\u001b[0m\u001b[0;34m.\u001b[0m\u001b[0mmodeller\u001b[0m\u001b[0;34m.\u001b[0m\u001b[0mgetPositions\u001b[0m\u001b[0;34m(\u001b[0m\u001b[0;34m)\u001b[0m\u001b[0;34m\u001b[0m\u001b[0m",
      "\u001b[0;32m~/Myopt/Miniconda/miniconda3/envs/pynterpred/lib/python3.6/site-packages/simtk/openmm/app/modeller.py\u001b[0m in \u001b[0;36maddHydrogens\u001b[0;34m(self, forcefield, pH, variants, platform)\u001b[0m",
      "\u001b[1;32m    890\u001b[0m \u001b[0;34m\u001b[0m\u001b[0m",
      "\u001b[1;32m    891\u001b[0m         \u001b[0;32mif\u001b[0m \u001b[0mplatform\u001b[0m \u001b[0;32mis\u001b[0m \u001b[0;32mNone\u001b[0m\u001b[0;34m:\u001b[0m\u001b[0;34m\u001b[0m\u001b[0m",
      "\u001b[0;32m--> 892\u001b[0;31m             \u001b[0mcontext\u001b[0m \u001b[0;34m=\u001b[0m \u001b[0mContext\u001b[0m\u001b[0;34m(\u001b[0m\u001b[0msystem\u001b[0m\u001b[0;34m,\u001b[0m \u001b[0mVerletIntegrator\u001b[0m\u001b[0;34m(\u001b[0m\u001b[0;36m0.0\u001b[0m\u001b[0;34m)\u001b[0m\u001b[0;34m)\u001b[0m\u001b[0;34m\u001b[0m\u001b[0m",
      "\u001b[0m\u001b[1;32m    893\u001b[0m         \u001b[0;32melse\u001b[0m\u001b[0;34m:\u001b[0m\u001b[0;34m\u001b[0m\u001b[0m",
      "\u001b[1;32m    894\u001b[0m             \u001b[0mcontext\u001b[0m \u001b[0;34m=\u001b[0m \u001b[0mContext\u001b[0m\u001b[0;34m(\u001b[0m\u001b[0msystem\u001b[0m\u001b[0;34m,\u001b[0m \u001b[0mVerletIntegrator\u001b[0m\u001b[0;34m(\u001b[0m\u001b[0;36m0.0\u001b[0m\u001b[0;34m)\u001b[0m\u001b[0;34m,\u001b[0m \u001b[0mplatform\u001b[0m\u001b[0;34m)\u001b[0m\u001b[0;34m\u001b[0m\u001b[0m",
      "\u001b[0;32m~/Myopt/Miniconda/miniconda3/envs/pynterpred/lib/python3.6/site-packages/simtk/openmm/openmm.py\u001b[0m in \u001b[0;36m__init__\u001b[0;34m(self, *args)\u001b[0m",
      "\u001b[1;32m  11934\u001b[0m             \u001b[0ma\u001b[0m \u001b[0mset\u001b[0m \u001b[0mof\u001b[0m \u001b[0mvalues\u001b[0m \u001b[0;32mfor\u001b[0m \u001b[0mplatform\u001b[0m\u001b[0;34m-\u001b[0m\u001b[0mspecific\u001b[0m \u001b[0mproperties\u001b[0m\u001b[0;34m.\u001b[0m \u001b[0mKeys\u001b[0m \u001b[0mare\u001b[0m \u001b[0mthe\u001b[0m \u001b[0mproperty\u001b[0m \u001b[0mnames\u001b[0m\u001b[0;34m.\u001b[0m\u001b[0;34m\u001b[0m\u001b[0m",
      "\u001b[1;32m  11935\u001b[0m         \"\"\"",
      "\u001b[0;32m> 11936\u001b[0;31m         \u001b[0mthis\u001b[0m \u001b[0;34m=\u001b[0m \u001b[0m_openmm\u001b[0m\u001b[0;34m.\u001b[0m\u001b[0mnew_Context\u001b[0m\u001b[0;34m(\u001b[0m\u001b[0;34m*\u001b[0m\u001b[0margs\u001b[0m\u001b[0;34m)\u001b[0m\u001b[0;34m\u001b[0m\u001b[0m",
      "\u001b[0m\u001b[1;32m  11937\u001b[0m         \u001b[0;32mtry\u001b[0m\u001b[0;34m:\u001b[0m\u001b[0;34m\u001b[0m\u001b[0m",
      "\u001b[1;32m  11938\u001b[0m             \u001b[0mself\u001b[0m\u001b[0;34m.\u001b[0m\u001b[0mthis\u001b[0m\u001b[0;34m.\u001b[0m\u001b[0mappend\u001b[0m\u001b[0;34m(\u001b[0m\u001b[0mthis\u001b[0m\u001b[0;34m)\u001b[0m\u001b[0;34m\u001b[0m\u001b[0m",
      "\u001b[0;31mException\u001b[0m: Error uploading array periodicTorsionParams: clEnqueueWriteBuffer (-4)",
      "",
      "[9:execute]: ",
      "\u001b[0;31m---------------------------------------------------------------------------\u001b[0m\u001b[0;31mException\u001b[0m                                 Traceback (most recent call last)\u001b[0;32m<ipython-input-60-69bd3b53d512>\u001b[0m in \u001b[0;36m<module>\u001b[0;34m()\u001b[0m",
      "\u001b[1;32m      1\u001b[0m \u001b[0mreceptor\u001b[0m \u001b[0;34m=\u001b[0m \u001b[0mpnt\u001b[0m\u001b[0;34m.\u001b[0m\u001b[0mReceptor\u001b[0m\u001b[0;34m(\u001b[0m\u001b[0;34m'../testsystems/Barnase-Barstar/pdbs/Barnase.pdb'\u001b[0m\u001b[0;34m,\u001b[0m\u001b[0;34m'amber14-all.xml'\u001b[0m\u001b[0;34m,\u001b[0m\u001b[0mpH\u001b[0m\u001b[0;34m=\u001b[0m\u001b[0;36m7.0\u001b[0m\u001b[0;34m)\u001b[0m\u001b[0;34m\u001b[0m\u001b[0m",
      "\u001b[0;32m----> 2\u001b[0;31m \u001b[0mligand\u001b[0m   \u001b[0;34m=\u001b[0m \u001b[0mpnt\u001b[0m\u001b[0;34m.\u001b[0m\u001b[0mLigand\u001b[0m\u001b[0;34m(\u001b[0m\u001b[0;34m'../testsystems/Barnase-Barstar/pdbs/Barstar.pdb'\u001b[0m\u001b[0;34m,\u001b[0m\u001b[0;34m'amber14-all.xml'\u001b[0m\u001b[0;34m,\u001b[0m\u001b[0mpH\u001b[0m\u001b[0;34m=\u001b[0m\u001b[0;36m7.0\u001b[0m\u001b[0;34m)\u001b[0m\u001b[0;34m\u001b[0m\u001b[0m",
      "\u001b[0m\u001b[1;32m      3\u001b[0m \u001b[0mcontext\u001b[0m  \u001b[0;34m=\u001b[0m \u001b[0mpnt\u001b[0m\u001b[0;34m.\u001b[0m\u001b[0mMMContext\u001b[0m\u001b[0;34m(\u001b[0m\u001b[0mreceptor\u001b[0m\u001b[0;34m,\u001b[0m\u001b[0mligand\u001b[0m\u001b[0;34m)\u001b[0m\u001b[0;34m\u001b[0m\u001b[0m",
      "\u001b[1;32m      4\u001b[0m \u001b[0mregion\u001b[0m   \u001b[0;34m=\u001b[0m \u001b[0mpnt\u001b[0m\u001b[0;34m.\u001b[0m\u001b[0mRegion\u001b[0m\u001b[0;34m(\u001b[0m\u001b[0mreceptor\u001b[0m\u001b[0;34m,\u001b[0m \u001b[0mligand\u001b[0m\u001b[0;34m,\u001b[0m \u001b[0mdelta_x\u001b[0m\u001b[0;34m=\u001b[0m\u001b[0;36m0.6\u001b[0m\u001b[0;34m,\u001b[0m \u001b[0mnside\u001b[0m\u001b[0;34m=\u001b[0m\u001b[0;36m2\u001b[0m\u001b[0;34m)\u001b[0m\u001b[0;34m\u001b[0m\u001b[0m",
      "\u001b[0;32m~/Trabajo/Proyectos/Pynterpred_devel/pynterpred/main.py\u001b[0m in \u001b[0;36m__init__\u001b[0;34m(self, pdb_file, forcefield, pH, addHs, center)\u001b[0m",
      "\u001b[1;32m     52\u001b[0m             \u001b[0mself\u001b[0m\u001b[0;34m.\u001b[0m\u001b[0mpH\u001b[0m         \u001b[0;34m=\u001b[0m \u001b[0mpH\u001b[0m\u001b[0;34m\u001b[0m\u001b[0m",
      "\u001b[1;32m     53\u001b[0m             \u001b[0;32mif\u001b[0m \u001b[0maddHs\u001b[0m\u001b[0;34m:\u001b[0m\u001b[0;34m\u001b[0m\u001b[0m",
      "\u001b[0;32m---> 54\u001b[0;31m                 \u001b[0mself\u001b[0m\u001b[0;34m.\u001b[0m\u001b[0m__addHs_log\u001b[0m \u001b[0;34m=\u001b[0m \u001b[0mself\u001b[0m\u001b[0;34m.\u001b[0m\u001b[0mmodeller\u001b[0m\u001b[0;34m.\u001b[0m\u001b[0maddHydrogens\u001b[0m\u001b[0;34m(\u001b[0m\u001b[0mself\u001b[0m\u001b[0;34m.\u001b[0m\u001b[0mforcefield\u001b[0m\u001b[0;34m,\u001b[0m \u001b[0mpH\u001b[0m\u001b[0;34m=\u001b[0m\u001b[0mself\u001b[0m\u001b[0;34m.\u001b[0m\u001b[0mpH\u001b[0m\u001b[0;34m)\u001b[0m\u001b[0;34m\u001b[0m\u001b[0m",
      "\u001b[0m\u001b[1;32m     55\u001b[0m             \u001b[0mself\u001b[0m\u001b[0;34m.\u001b[0m\u001b[0mtopology\u001b[0m  \u001b[0;34m=\u001b[0m \u001b[0mself\u001b[0m\u001b[0;34m.\u001b[0m\u001b[0mmodeller\u001b[0m\u001b[0;34m.\u001b[0m\u001b[0mgetTopology\u001b[0m\u001b[0;34m(\u001b[0m\u001b[0;34m)\u001b[0m\u001b[0;34m\u001b[0m\u001b[0m",
      "\u001b[1;32m     56\u001b[0m             \u001b[0mself\u001b[0m\u001b[0;34m.\u001b[0m\u001b[0mpositions\u001b[0m \u001b[0;34m=\u001b[0m \u001b[0mself\u001b[0m\u001b[0;34m.\u001b[0m\u001b[0mmodeller\u001b[0m\u001b[0;34m.\u001b[0m\u001b[0mgetPositions\u001b[0m\u001b[0;34m(\u001b[0m\u001b[0;34m)\u001b[0m\u001b[0;34m\u001b[0m\u001b[0m",
      "\u001b[0;32m~/Myopt/Miniconda/miniconda3/envs/pynterpred/lib/python3.6/site-packages/simtk/openmm/app/modeller.py\u001b[0m in \u001b[0;36maddHydrogens\u001b[0;34m(self, forcefield, pH, variants, platform)\u001b[0m",
      "\u001b[1;32m    890\u001b[0m \u001b[0;34m\u001b[0m\u001b[0m",
      "\u001b[1;32m    891\u001b[0m         \u001b[0;32mif\u001b[0m \u001b[0mplatform\u001b[0m \u001b[0;32mis\u001b[0m \u001b[0;32mNone\u001b[0m\u001b[0;34m:\u001b[0m\u001b[0;34m\u001b[0m\u001b[0m",
      "\u001b[0;32m--> 892\u001b[0;31m             \u001b[0mcontext\u001b[0m \u001b[0;34m=\u001b[0m \u001b[0mContext\u001b[0m\u001b[0;34m(\u001b[0m\u001b[0msystem\u001b[0m\u001b[0;34m,\u001b[0m \u001b[0mVerletIntegrator\u001b[0m\u001b[0;34m(\u001b[0m\u001b[0;36m0.0\u001b[0m\u001b[0;34m)\u001b[0m\u001b[0;34m)\u001b[0m\u001b[0;34m\u001b[0m\u001b[0m",
      "\u001b[0m\u001b[1;32m    893\u001b[0m         \u001b[0;32melse\u001b[0m\u001b[0;34m:\u001b[0m\u001b[0;34m\u001b[0m\u001b[0m",
      "\u001b[1;32m    894\u001b[0m             \u001b[0mcontext\u001b[0m \u001b[0;34m=\u001b[0m \u001b[0mContext\u001b[0m\u001b[0;34m(\u001b[0m\u001b[0msystem\u001b[0m\u001b[0;34m,\u001b[0m \u001b[0mVerletIntegrator\u001b[0m\u001b[0;34m(\u001b[0m\u001b[0;36m0.0\u001b[0m\u001b[0;34m)\u001b[0m\u001b[0;34m,\u001b[0m \u001b[0mplatform\u001b[0m\u001b[0;34m)\u001b[0m\u001b[0;34m\u001b[0m\u001b[0m",
      "\u001b[0;32m~/Myopt/Miniconda/miniconda3/envs/pynterpred/lib/python3.6/site-packages/simtk/openmm/openmm.py\u001b[0m in \u001b[0;36m__init__\u001b[0;34m(self, *args)\u001b[0m",
      "\u001b[1;32m  11934\u001b[0m             \u001b[0ma\u001b[0m \u001b[0mset\u001b[0m \u001b[0mof\u001b[0m \u001b[0mvalues\u001b[0m \u001b[0;32mfor\u001b[0m \u001b[0mplatform\u001b[0m\u001b[0;34m-\u001b[0m\u001b[0mspecific\u001b[0m \u001b[0mproperties\u001b[0m\u001b[0;34m.\u001b[0m \u001b[0mKeys\u001b[0m \u001b[0mare\u001b[0m \u001b[0mthe\u001b[0m \u001b[0mproperty\u001b[0m \u001b[0mnames\u001b[0m\u001b[0;34m.\u001b[0m\u001b[0;34m\u001b[0m\u001b[0m",
      "\u001b[1;32m  11935\u001b[0m         \"\"\"",
      "\u001b[0;32m> 11936\u001b[0;31m         \u001b[0mthis\u001b[0m \u001b[0;34m=\u001b[0m \u001b[0m_openmm\u001b[0m\u001b[0;34m.\u001b[0m\u001b[0mnew_Context\u001b[0m\u001b[0;34m(\u001b[0m\u001b[0;34m*\u001b[0m\u001b[0margs\u001b[0m\u001b[0;34m)\u001b[0m\u001b[0;34m\u001b[0m\u001b[0m",
      "\u001b[0m\u001b[1;32m  11937\u001b[0m         \u001b[0;32mtry\u001b[0m\u001b[0;34m:\u001b[0m\u001b[0;34m\u001b[0m\u001b[0m",
      "\u001b[1;32m  11938\u001b[0m             \u001b[0mself\u001b[0m\u001b[0;34m.\u001b[0m\u001b[0mthis\u001b[0m\u001b[0;34m.\u001b[0m\u001b[0mappend\u001b[0m\u001b[0;34m(\u001b[0m\u001b[0mthis\u001b[0m\u001b[0;34m)\u001b[0m\u001b[0;34m\u001b[0m\u001b[0m",
      "\u001b[0;31mException\u001b[0m: Error compiling kernel: ",
      ""
     ]
    }
   ],
   "source": [
    "receptor = pnt.Receptor('../testsystems/Barnase-Barstar/pdbs/Barnase.pdb','amber14-all.xml',pH=7.0)\n",
    "ligand   = pnt.Ligand('../testsystems/Barnase-Barstar/pdbs/Barstar.pdb','amber14-all.xml',pH=7.0)\n",
    "context  = pnt.MMContext(receptor,ligand)\n",
    "region   = pnt.Region(receptor, ligand, delta_x=0.6, nside=2)"
   ]
  },
  {
   "cell_type": "code",
   "execution_count": null,
   "metadata": {},
   "outputs": [],
   "source": [
    "regions_list=region.split_in_subregions(20)"
   ]
  },
  {
   "cell_type": "code",
   "execution_count": null,
   "metadata": {},
   "outputs": [],
   "source": [
    "my_region=regions_list[comm.Get_rank()]"
   ]
  },
  {
   "cell_type": "code",
   "execution_count": null,
   "metadata": {},
   "outputs": [],
   "source": [
    "aa=pnt.docking(context,my_region)"
   ]
  },
  {
   "cell_type": "code",
   "execution_count": null,
   "metadata": {},
   "outputs": [],
   "source": [
    "print(aa)"
   ]
  },
  {
   "cell_type": "code",
   "execution_count": null,
   "metadata": {},
   "outputs": [],
   "source": []
  },
  {
   "cell_type": "code",
   "execution_count": null,
   "metadata": {},
   "outputs": [],
   "source": []
  },
  {
   "cell_type": "code",
   "execution_count": null,
   "metadata": {},
   "outputs": [],
   "source": []
  },
  {
   "cell_type": "code",
   "execution_count": null,
   "metadata": {},
   "outputs": [],
   "source": []
  },
  {
   "cell_type": "code",
   "execution_count": null,
   "metadata": {},
   "outputs": [],
   "source": []
  },
  {
   "cell_type": "code",
   "execution_count": null,
   "metadata": {},
   "outputs": [],
   "source": []
  },
  {
   "cell_type": "code",
   "execution_count": null,
   "metadata": {},
   "outputs": [],
   "source": []
  },
  {
   "cell_type": "code",
   "execution_count": null,
   "metadata": {},
   "outputs": [],
   "source": []
  },
  {
   "cell_type": "code",
   "execution_count": null,
   "metadata": {},
   "outputs": [],
   "source": []
  },
  {
   "cell_type": "code",
   "execution_count": null,
   "metadata": {},
   "outputs": [],
   "source": []
  },
  {
   "cell_type": "code",
   "execution_count": null,
   "metadata": {},
   "outputs": [],
   "source": []
  },
  {
   "cell_type": "code",
   "execution_count": null,
   "metadata": {},
   "outputs": [],
   "source": []
  },
  {
   "cell_type": "code",
   "execution_count": null,
   "metadata": {},
   "outputs": [],
   "source": []
  },
  {
   "cell_type": "code",
   "execution_count": null,
   "metadata": {},
   "outputs": [],
   "source": []
  },
  {
   "cell_type": "code",
   "execution_count": null,
   "metadata": {},
   "outputs": [],
   "source": []
  },
  {
   "cell_type": "code",
   "execution_count": null,
   "metadata": {},
   "outputs": [],
   "source": [
    "\n",
    "\n"
   ]
  },
  {
   "cell_type": "code",
   "execution_count": null,
   "metadata": {},
   "outputs": [],
   "source": []
  },
  {
   "cell_type": "code",
   "execution_count": null,
   "metadata": {},
   "outputs": [],
   "source": []
  },
  {
   "cell_type": "code",
   "execution_count": null,
   "metadata": {},
   "outputs": [],
   "source": []
  },
  {
   "cell_type": "code",
   "execution_count": null,
   "metadata": {},
   "outputs": [],
   "source": []
  },
  {
   "cell_type": "code",
   "execution_count": null,
   "metadata": {},
   "outputs": [],
   "source": []
  }
 ],
 "metadata": {
  "kernelspec": {
   "display_name": "Python 3",
   "language": "python",
   "name": "python3"
  },
  "language_info": {
   "codemirror_mode": {
    "name": "ipython",
    "version": 3
   },
   "file_extension": ".py",
   "mimetype": "text/x-python",
   "name": "python",
   "nbconvert_exporter": "python",
   "pygments_lexer": "ipython3",
   "version": "3.6.5"
  }
 },
 "nbformat": 4,
 "nbformat_minor": 2
}
