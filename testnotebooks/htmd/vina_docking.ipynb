{
 "cells": [
  {
   "cell_type": "code",
   "execution_count": 1,
   "metadata": {},
   "outputs": [],
   "source": [
    "%load_ext autoreload\n",
    "%autoreload 2"
   ]
  },
  {
   "cell_type": "code",
   "execution_count": 2,
   "metadata": {},
   "outputs": [],
   "source": [
    "from simtk import openmm, unit\n",
    "from simtk.openmm import app\n",
    "import numpy as np\n",
    "\n",
    "import sys\n",
    "sys.path.append('/home/diego/Trabajo/Proyectos/Pynterpred_devel/')\n",
    "import Pynterpred as pnt"
   ]
  },
  {
   "cell_type": "code",
   "execution_count": 3,
   "metadata": {},
   "outputs": [],
   "source": [
    "pdbs_dir='../../testsystems/Barnase-Barstar/pdbs/'"
   ]
  },
  {
   "cell_type": "code",
   "execution_count": 4,
   "metadata": {},
   "outputs": [],
   "source": [
    "receptor = pnt.receptor(pdbs_dir+'Barnase.pdb','amber14-all.xml',pH=7.0)"
   ]
  },
  {
   "cell_type": "code",
   "execution_count": 5,
   "metadata": {},
   "outputs": [],
   "source": [
    "ligand = pnt.ligand(pdbs_dir+'Barstar.pdb','amber14-all.xml',pH=7.0)"
   ]
  },
  {
   "cell_type": "code",
   "execution_count": 6,
   "metadata": {},
   "outputs": [],
   "source": [
    "molcomplex = pnt.complex(receptor,ligand)"
   ]
  },
  {
   "cell_type": "code",
   "execution_count": null,
   "metadata": {},
   "outputs": [
    {
     "name": "stdout",
     "output_type": "stream",
     "text": [
      "receptor pdb: /tmp/tmp4elys_do.pdb\n",
      "ligand pdb: /tmp/tmpcg2t47jm.pdb\n",
      "[ 2.81417143  4.69566357  1.56966639] [ 4.92162681  4.25419402  5.15304136]\n",
      "/home/diego/Myopt/Miniconda/miniconda3/envs/pynterpred/bin/obabel -i pdb /tmp/tmp4elys_do.pdb -o pdbqt -O /tmp/tmpern0ev7z.pdbqt -xr\n",
      "/home/diego/Myopt/Miniconda/miniconda3/envs/pynterpred/bin/obabel -i pdb /tmp/tmpcg2t47jm.pdb -o pdbqt -O /tmp/tmpvac3c20g.pdbqt -xnh\n",
      "/home/diego/Myopt/Miniconda/miniconda3/envs/pynterpred/bin/Linux-vina --receptor /tmp/tmpern0ev7z.pdbqt --ligand /tmp/tmpvac3c20g.pdbqt --out /tmp/tmpzt_caa37.pdbqt --center_x 28.1417143345 --center_y 46.9566357136 --center_z 15.6966638565 --size_x 49.2162680626 --size_y 42.5419402122 --size_z 51.5304136276 --num_modes 20\n",
      "Charges detected in ligand and will be used for docking.\n"
     ]
    }
   ],
   "source": [
    "pnt.docker.vina(receptor,ligand)"
   ]
  },
  {
   "cell_type": "code",
   "execution_count": null,
   "metadata": {},
   "outputs": [],
   "source": []
  },
  {
   "cell_type": "code",
   "execution_count": null,
   "metadata": {},
   "outputs": [],
   "source": []
  },
  {
   "cell_type": "code",
   "execution_count": null,
   "metadata": {},
   "outputs": [],
   "source": []
  }
 ],
 "metadata": {
  "kernelspec": {
   "display_name": "Python 3",
   "language": "python",
   "name": "python3"
  },
  "language_info": {
   "codemirror_mode": {
    "name": "ipython",
    "version": 3
   },
   "file_extension": ".py",
   "mimetype": "text/x-python",
   "name": "python",
   "nbconvert_exporter": "python",
   "pygments_lexer": "ipython3",
   "version": "3.6.5"
  }
 },
 "nbformat": 4,
 "nbformat_minor": 2
}
