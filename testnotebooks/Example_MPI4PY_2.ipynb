{
 "cells": [
  {
   "cell_type": "code",
   "execution_count": 1,
   "metadata": {},
   "outputs": [],
   "source": [
    "#> conda install ipyparallel\n",
    "#> ipcluster start -n 4 --engines=MPIEngineSetLauncher\n",
    "\n",
    "# %%px indica que la celda debe correr en paralelo"
   ]
  },
  {
   "cell_type": "code",
   "execution_count": 2,
   "metadata": {},
   "outputs": [],
   "source": [
    "import ipyparallel as ipp"
   ]
  },
  {
   "cell_type": "code",
   "execution_count": 3,
   "metadata": {},
   "outputs": [
    {
     "name": "stderr",
     "output_type": "stream",
     "text": [
      "/home/diego/Myopt/Miniconda/miniconda3/envs/pynterpred/lib/python3.6/site-packages/ipyparallel/client/client.py:458: RuntimeWarning: \n",
      "            Controller appears to be listening on localhost, but not on this machine.\n",
      "            If this is true, you should specify Client(...,sshserver='you@nauta')\n",
      "            or instruct your controller to listen on an external IP.\n",
      "  RuntimeWarning)\n"
     ]
    }
   ],
   "source": [
    "c = ipp.Client(profile=\"default\")"
   ]
  },
  {
   "cell_type": "code",
   "execution_count": 4,
   "metadata": {},
   "outputs": [
    {
     "name": "stdout",
     "output_type": "stream",
     "text": [
      "%autopx enabled\n"
     ]
    }
   ],
   "source": [
    "%autopx"
   ]
  },
  {
   "cell_type": "code",
   "execution_count": 5,
   "metadata": {},
   "outputs": [
    {
     "name": "stdout",
     "output_type": "stream",
     "text": [
      "[stdout:0] My rank is  0 of 20\n",
      "[stdout:1] My rank is  1 of 20\n",
      "[stdout:2] My rank is  2 of 20\n",
      "[stdout:3] My rank is  3 of 20\n",
      "[stdout:4] My rank is  4 of 20\n",
      "[stdout:5] My rank is  5 of 20\n",
      "[stdout:6] My rank is  6 of 20\n",
      "[stdout:7] My rank is  7 of 20\n",
      "[stdout:8] My rank is  8 of 20\n",
      "[stdout:9] My rank is  9 of 20\n",
      "[stdout:10] My rank is  10 of 20\n",
      "[stdout:11] My rank is  11 of 20\n",
      "[stdout:12] My rank is  12 of 20\n",
      "[stdout:13] My rank is  13 of 20\n",
      "[stdout:14] My rank is  14 of 20\n",
      "[stdout:15] My rank is  15 of 20\n",
      "[stdout:16] My rank is  16 of 20\n",
      "[stdout:17] My rank is  17 of 20\n",
      "[stdout:18] My rank is  18 of 20\n",
      "[stdout:19] My rank is  19 of 20\n"
     ]
    }
   ],
   "source": [
    "from mpi4py import MPI\n",
    "\n",
    "comm = MPI.COMM_WORLD\n",
    "rank = comm.Get_rank()\n",
    "size = comm.Get_size()\n",
    "print('My rank is ',rank,'of',size)"
   ]
  },
  {
   "cell_type": "code",
   "execution_count": null,
   "metadata": {},
   "outputs": [],
   "source": []
  },
  {
   "cell_type": "code",
   "execution_count": null,
   "metadata": {},
   "outputs": [],
   "source": []
  },
  {
   "cell_type": "code",
   "execution_count": null,
   "metadata": {},
   "outputs": [],
   "source": []
  },
  {
   "cell_type": "code",
   "execution_count": null,
   "metadata": {},
   "outputs": [],
   "source": []
  }
 ],
 "metadata": {
  "kernelspec": {
   "display_name": "Python 3",
   "language": "python",
   "name": "python3"
  },
  "language_info": {
   "codemirror_mode": {
    "name": "ipython",
    "version": 3
   },
   "file_extension": ".py",
   "mimetype": "text/x-python",
   "name": "python",
   "nbconvert_exporter": "python",
   "pygments_lexer": "ipython3",
   "version": "3.6.5"
  }
 },
 "nbformat": 4,
 "nbformat_minor": 2
}
