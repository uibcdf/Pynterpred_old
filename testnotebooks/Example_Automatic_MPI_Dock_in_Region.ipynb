{
 "cells": [
  {
   "cell_type": "code",
   "execution_count": null,
   "metadata": {},
   "outputs": [],
   "source": [
    "# ipcluster start -n 8 --engines=MPIEngineSetLauncher"
   ]
  },
  {
   "cell_type": "code",
   "execution_count": 1,
   "metadata": {},
   "outputs": [
    {
     "name": "stdout",
     "output_type": "stream",
     "text": [
      "%autopx enabled\n"
     ]
    },
    {
     "name": "stderr",
     "output_type": "stream",
     "text": [
      "/home/diego/Myopt/Miniconda/miniconda3/envs/UIBCDFLab_dev/lib/python3.6/site-packages/ipyparallel/client/client.py:459: RuntimeWarning: \n",
      "            Controller appears to be listening on localhost, but not on this machine.\n",
      "            If this is true, you should specify Client(...,sshserver='you@nauta')\n",
      "            or instruct your controller to listen on an external IP.\n",
      "  RuntimeWarning)\n"
     ]
    }
   ],
   "source": [
    "import ipyparallel as ipp\n",
    "client = ipp.Client(profile=\"default\")\n",
    "%autopx"
   ]
  },
  {
   "cell_type": "code",
   "execution_count": 2,
   "metadata": {},
   "outputs": [
    {
     "name": "stdout",
     "output_type": "stream",
     "text": [
      "[stdout:0] \n",
      "The autoreload extension is already loaded. To reload it, use:\n",
      "  %reload_ext autoreload\n",
      "[stdout:1] \n",
      "The autoreload extension is already loaded. To reload it, use:\n",
      "  %reload_ext autoreload\n",
      "[stdout:2] \n",
      "The autoreload extension is already loaded. To reload it, use:\n",
      "  %reload_ext autoreload\n",
      "[stdout:3] \n",
      "The autoreload extension is already loaded. To reload it, use:\n",
      "  %reload_ext autoreload\n",
      "[stdout:4] \n",
      "The autoreload extension is already loaded. To reload it, use:\n",
      "  %reload_ext autoreload\n",
      "[stdout:5] \n",
      "The autoreload extension is already loaded. To reload it, use:\n",
      "  %reload_ext autoreload\n",
      "[stdout:6] \n",
      "The autoreload extension is already loaded. To reload it, use:\n",
      "  %reload_ext autoreload\n",
      "[stdout:7] \n",
      "The autoreload extension is already loaded. To reload it, use:\n",
      "  %reload_ext autoreload\n"
     ]
    }
   ],
   "source": [
    "%load_ext autoreload\n",
    "%autoreload 2\n",
    "%matplotlib notebook"
   ]
  },
  {
   "cell_type": "code",
   "execution_count": 3,
   "metadata": {},
   "outputs": [],
   "source": [
    "from mpi4py import MPI\n",
    "comm = MPI.COMM_WORLD"
   ]
  },
  {
   "cell_type": "code",
   "execution_count": 4,
   "metadata": {},
   "outputs": [],
   "source": [
    "import sys\n",
    "working_dir='/home/diego/Projects/Pynterpred_devel/'\n",
    "sys.path.append(working_dir)\n",
    "import pynterpred as pnt"
   ]
  },
  {
   "cell_type": "code",
   "execution_count": 5,
   "metadata": {},
   "outputs": [],
   "source": [
    "receptor = pnt.Receptor(working_dir+'pynterpred/testsystems/Barnase-Barstar/pdbs/Barnase.pdb', \n",
    "                        'amber14-all.xml', pH=7.0, mpi_comm=comm)\n",
    "\n",
    "ligand   = pnt.Ligand(working_dir+'pynterpred/testsystems/Barnase-Barstar/pdbs/Barstar.pdb', \n",
    "                      'amber14-all.xml', pH=7.0, mpi_comm=comm)\n",
    "\n",
    "context  = pnt.MMContext(receptor,ligand)"
   ]
  },
  {
   "cell_type": "code",
   "execution_count": 14,
   "metadata": {},
   "outputs": [],
   "source": [
    "region   = pnt.Region(receptor, ligand, delta_x=0.8, nside=4)"
   ]
  },
  {
   "cell_type": "code",
   "execution_count": 15,
   "metadata": {},
   "outputs": [],
   "source": [
    "docker   = pnt.Docker(context,region,comm)"
   ]
  },
  {
   "cell_type": "code",
   "execution_count": 16,
   "metadata": {},
   "outputs": [
    {
     "name": "stdout",
     "output_type": "stream",
     "text": [
      "[stdout:0] \n",
      "In mpi rank 0 centers from 0 to 46 in 55.16471600532532 seconds ( 0.8338663430363603  its/sec)\n",
      "Time to collect potential energies: 0.003613710403442383\n",
      "[stdout:1] In mpi rank 1 centers from 47 to 93 in 55.2319495677948 seconds ( 0.8328512819113331  its/sec)\n",
      "[stdout:2] In mpi rank 2 centers from 94 to 140 in 55.02542996406555 seconds ( 0.8359771114926385  its/sec)\n",
      "[stdout:3] In mpi rank 3 centers from 141 to 187 in 55.17900037765503 seconds ( 0.8336504772679408  its/sec)\n",
      "[stdout:4] In mpi rank 4 centers from 188 to 234 in 55.067951679229736 seconds ( 0.8353315966417189  its/sec)\n",
      "[stdout:5] In mpi rank 5 centers from 235 to 281 in 54.452606201171875 seconds ( 0.8447713196693611  its/sec)\n",
      "[stdout:6] In mpi rank 6 centers from 282 to 328 in 54.781240940093994 seconds ( 0.8397035045318394  its/sec)\n",
      "[stdout:7] In mpi rank 7 centers from 329 to 375 in 55.21293830871582 seconds ( 0.8331380543958212  its/sec)\n"
     ]
    }
   ],
   "source": [
    "docker.evaluation(verbose=True)"
   ]
  },
  {
   "cell_type": "code",
   "execution_count": 17,
   "metadata": {},
   "outputs": [
    {
     "name": "stdout",
     "output_type": "stream",
     "text": [
      "[stdout:0] 72192\n"
     ]
    }
   ],
   "source": [
    "if docker.mpi_rank == 0:\n",
    "    print(len(docker.potential_energies))"
   ]
  },
  {
   "cell_type": "code",
   "execution_count": null,
   "metadata": {},
   "outputs": [],
   "source": []
  }
 ],
 "metadata": {
  "kernelspec": {
   "display_name": "Python 3",
   "language": "python",
   "name": "python3"
  },
  "language_info": {
   "codemirror_mode": {
    "name": "ipython",
    "version": 3
   },
   "file_extension": ".py",
   "mimetype": "text/x-python",
   "name": "python",
   "nbconvert_exporter": "python",
   "pygments_lexer": "ipython3",
   "version": "3.6.5"
  }
 },
 "nbformat": 4,
 "nbformat_minor": 2
}
