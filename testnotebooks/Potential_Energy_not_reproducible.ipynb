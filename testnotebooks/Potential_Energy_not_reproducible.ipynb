{
 "cells": [
  {
   "cell_type": "code",
   "execution_count": 1,
   "metadata": {},
   "outputs": [],
   "source": [
    "%load_ext autoreload\n",
    "%autoreload 2\n",
    "%matplotlib notebook"
   ]
  },
  {
   "cell_type": "code",
   "execution_count": 2,
   "metadata": {},
   "outputs": [],
   "source": [
    "import sys\n",
    "sys.path.append('/home/diego/Projects/Pynterpred_devel/')\n",
    "import pynterpred as pnt"
   ]
  },
  {
   "cell_type": "code",
   "execution_count": 6,
   "metadata": {},
   "outputs": [],
   "source": [
    "receptor = pnt.Receptor('../testsystems/Barnase-Barstar/pdbs/Barnase.pdb','amber14-all.xml',pH=7.0)\n",
    "ligand   = pnt.Ligand('../testsystems/Barnase-Barstar/pdbs/Barstar.pdb','amber14-all.xml',pH=7.0)\n",
    "#context  = pnt.MMContext(receptor,ligand)"
   ]
  },
  {
   "cell_type": "code",
   "execution_count": 7,
   "metadata": {},
   "outputs": [
    {
     "data": {
      "text/plain": [
       "Quantity(value=array([[ 1.04726488,  0.6379855 ,  0.82427395],\n",
       "       [ 1.14571364,  0.61483601,  0.8288641 ],\n",
       "       [ 1.0304497 ,  0.69770078,  0.74374587],\n",
       "       ...,\n",
       "       [ 1.19107754, -0.00497981, -0.55893826],\n",
       "       [ 0.97716505, -0.14461442, -0.97002607],\n",
       "       [ 1.17866499, -0.17351433, -0.89822608]]), unit=nanometer)"
      ]
     },
     "execution_count": 7,
     "metadata": {},
     "output_type": "execute_result"
    }
   ],
   "source": [
    "ligand.positions"
   ]
  },
  {
   "cell_type": "code",
   "execution_count": 5,
   "metadata": {},
   "outputs": [
    {
     "data": {
      "text/plain": [
       "Quantity(value=array([[ 1.04713954,  0.63771573,  0.82425318],\n",
       "       [ 1.14354743,  0.61447754,  0.84391044],\n",
       "       [ 1.0132698 ,  0.69815484,  0.89822594],\n",
       "       ...,\n",
       "       [ 1.19301977, -0.01266727, -0.56293779],\n",
       "       [ 0.97703971, -0.1448842 , -0.97004684],\n",
       "       [ 1.17853965, -0.17378411, -0.89824685]]), unit=nanometer)"
      ]
     },
     "execution_count": 5,
     "metadata": {},
     "output_type": "execute_result"
    }
   ],
   "source": [
    "ligand.positions"
   ]
  },
  {
   "cell_type": "code",
   "execution_count": 17,
   "metadata": {},
   "outputs": [
    {
     "data": {
      "text/plain": [
       "<Atom 3 (H3) of chain 0 residue 0 (LYS)>"
      ]
     },
     "execution_count": 17,
     "metadata": {},
     "output_type": "execute_result"
    }
   ],
   "source": [
    "list(ligand.topology.atoms())[3]"
   ]
  },
  {
   "cell_type": "code",
   "execution_count": null,
   "metadata": {},
   "outputs": [],
   "source": []
  },
  {
   "cell_type": "code",
   "execution_count": null,
   "metadata": {},
   "outputs": [],
   "source": []
  }
 ],
 "metadata": {
  "kernelspec": {
   "display_name": "Python 3",
   "language": "python",
   "name": "python3"
  },
  "language_info": {
   "codemirror_mode": {
    "name": "ipython",
    "version": 3
   },
   "file_extension": ".py",
   "mimetype": "text/x-python",
   "name": "python",
   "nbconvert_exporter": "python",
   "pygments_lexer": "ipython3",
   "version": "3.6.5"
  }
 },
 "nbformat": 4,
 "nbformat_minor": 2
}
