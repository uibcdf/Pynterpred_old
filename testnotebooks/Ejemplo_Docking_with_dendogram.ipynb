{
 "cells": [
  {
   "cell_type": "code",
   "execution_count": 1,
   "metadata": {},
   "outputs": [],
   "source": [
    "%load_ext autoreload\n",
    "%autoreload 2\n",
    "%matplotlib notebook"
   ]
  },
  {
   "cell_type": "code",
   "execution_count": 2,
   "metadata": {},
   "outputs": [],
   "source": [
    "import sys\n",
    "#sys.path.append('/home/diego/Trabajo/Proyectos/Pynterpred_devel/')\n",
    "sys.path.append('/home/diego/Projects/Pynterpred_devel/')\n",
    "import pynterpred as pnt\n",
    "import numpy as np"
   ]
  },
  {
   "cell_type": "code",
   "execution_count": null,
   "metadata": {},
   "outputs": [],
   "source": [
    "receptor = pnt.Receptor('../testsystems/Barnase-Barstar/pdbs/Barnase.pdb','amber14-all.xml',pH=7.0)\n",
    "ligand   = pnt.Ligand('../testsystems/Barnase-Barstar/pdbs/Barstar.pdb','amber14-all.xml',pH=7.0)"
   ]
  },
  {
   "cell_type": "code",
   "execution_count": null,
   "metadata": {},
   "outputs": [],
   "source": [
    "context  = pnt.MMContext(receptor,ligand)"
   ]
  },
  {
   "cell_type": "code",
   "execution_count": null,
   "metadata": {},
   "outputs": [],
   "source": [
    "region   = pnt.Region(receptor, ligand, delta_x=1.0, nside=2)"
   ]
  },
  {
   "cell_type": "code",
   "execution_count": null,
   "metadata": {},
   "outputs": [],
   "source": [
    "docking  = pnt.Docker(context,region)"
   ]
  },
  {
   "cell_type": "code",
   "execution_count": null,
   "metadata": {},
   "outputs": [],
   "source": [
    "docking.evaluation()"
   ]
  },
  {
   "cell_type": "code",
   "execution_count": null,
   "metadata": {},
   "outputs": [],
   "source": [
    "docking.region.net.number_of_nodes()"
   ]
  },
  {
   "cell_type": "code",
   "execution_count": null,
   "metadata": {},
   "outputs": [],
   "source": [
    "#aux_array=np.array(docking.potential_energies)\n",
    "#np.save('pes_0.4_5.npy', aux_array)\n",
    "#docking.potential_energies=list(np.load('pes_0.4_5.npy'))"
   ]
  },
  {
   "cell_type": "code",
   "execution_count": null,
   "metadata": {},
   "outputs": [],
   "source": [
    "import matplotlib.pyplot as plt\n",
    "from simtk import unit\n",
    "context.center_ligand(center=[100000.0,0.0,0.0]*unit.nanometer)\n",
    "energy_inf=context.get_potential_energy()._value"
   ]
  },
  {
   "cell_type": "code",
   "execution_count": null,
   "metadata": {},
   "outputs": [],
   "source": [
    "energy_min=np.array(docking.potential_energies).min()"
   ]
  },
  {
   "cell_type": "code",
   "execution_count": null,
   "metadata": {},
   "outputs": [],
   "source": [
    "print(energy_min,energy_inf)"
   ]
  },
  {
   "cell_type": "code",
   "execution_count": null,
   "metadata": {},
   "outputs": [],
   "source": [
    "mask=np.array(docking.potential_energies)<energy_inf"
   ]
  },
  {
   "cell_type": "code",
   "execution_count": null,
   "metadata": {},
   "outputs": [],
   "source": [
    "np.sum(mask)"
   ]
  },
  {
   "cell_type": "code",
   "execution_count": null,
   "metadata": {},
   "outputs": [],
   "source": [
    "num_divs=5000\n",
    "delta_pe=(energy_inf-energy_min)/num_divs\n",
    "num_nodes_below_threshold=[]\n",
    "threshold_pes=[]\n",
    "\n",
    "for ii in range(num_divs):\n",
    "    energy_blade=energy_min+(ii+1)*delta_pe\n",
    "    threshold_pes.append(energy_blade)\n",
    "    num_nodes_below_threshold.append(np.sum(np.array(docking.potential_energies)<energy_blade))    "
   ]
  },
  {
   "cell_type": "code",
   "execution_count": null,
   "metadata": {},
   "outputs": [],
   "source": [
    "plt.figure()\n",
    "plt.plot(num_nodes_below_threshold,threshold_pes)"
   ]
  },
  {
   "cell_type": "code",
   "execution_count": null,
   "metadata": {},
   "outputs": [],
   "source": [
    "import networkx as nx\n",
    "import tqdm\n",
    "\n",
    "tmp_graph=docking.region.net.copy()\n",
    "\n",
    "num_divs=400\n",
    "delta_pe=(energy_inf-energy_min)/num_divs\n",
    "num_components_threshold=[]\n",
    "threshold_pes=[]\n",
    "\n",
    "for ii in tqdm.tqdm(range(num_divs)):\n",
    "    energy_blade=energy_inf-ii*delta_pe\n",
    "    threshold_pes.append(energy_blade)\n",
    "    tmp_pes=nx.get_node_attributes(tmp_graph,'Potential_Energy')\n",
    "    nodes_out=[node_id for node_id, pe in tmp_pes.items() if pe>energy_blade]\n",
    "    tmp_graph.remove_nodes_from(nodes_out)\n",
    "    num_components_threshold.append(nx.number_connected_components(tmp_graph))    "
   ]
  },
  {
   "cell_type": "code",
   "execution_count": null,
   "metadata": {},
   "outputs": [],
   "source": [
    "plt.figure()\n",
    "plt.plot(num_components_threshold,threshold_pes)"
   ]
  },
  {
   "cell_type": "code",
   "execution_count": null,
   "metadata": {},
   "outputs": [],
   "source": [
    "energy_blade=6200.0\n",
    "tmp_pes=nx.get_node_attributes(docking.region.net,'Potential_Energy')\n",
    "nodes_in=[node_id for node_id, pe in tmp_pes.items() if pe<energy_blade]\n",
    "net=region.net.subgraph(nodes_in)"
   ]
  },
  {
   "cell_type": "code",
   "execution_count": null,
   "metadata": {},
   "outputs": [],
   "source": [
    "plt.figure()\n",
    "nx.draw_networkx(net)"
   ]
  },
  {
   "cell_type": "code",
   "execution_count": null,
   "metadata": {},
   "outputs": [],
   "source": []
  }
 ],
 "metadata": {
  "kernelspec": {
   "display_name": "Python 3",
   "language": "python",
   "name": "python3"
  },
  "language_info": {
   "codemirror_mode": {
    "name": "ipython",
    "version": 3
   },
   "file_extension": ".py",
   "mimetype": "text/x-python",
   "name": "python",
   "nbconvert_exporter": "python",
   "pygments_lexer": "ipython3",
   "version": "3.6.5"
  }
 },
 "nbformat": 4,
 "nbformat_minor": 2
}
