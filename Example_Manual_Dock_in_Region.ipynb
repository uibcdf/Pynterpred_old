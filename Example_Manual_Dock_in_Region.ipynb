{
 "cells": [
  {
   "cell_type": "code",
   "execution_count": 1,
   "metadata": {},
   "outputs": [],
   "source": [
    "%load_ext autoreload\n",
    "%autoreload 2\n",
    "%matplotlib notebook"
   ]
  },
  {
   "cell_type": "code",
   "execution_count": 2,
   "metadata": {},
   "outputs": [],
   "source": [
    "import sys\n",
    "sys.path.append('/home/diego/Trabajo/Proyectos/Pynterpred_devel/')\n",
    "import numpy as np\n",
    "import mdtraj\n",
    "import pynterpred as pnt\n",
    "import nglview\n",
    "import tqdm\n",
    "import matplotlib.pyplot as plt\n",
    "\n",
    "from simtk import openmm, unit\n",
    "from simtk.openmm import app"
   ]
  },
  {
   "cell_type": "code",
   "execution_count": 3,
   "metadata": {},
   "outputs": [
    {
     "ename": "FileNotFoundError",
     "evalue": "[Errno 2] No such file or directory: 'testsystems/Barnase-Barstar/pdbs/Barnase.pdb'",
     "output_type": "error",
     "traceback": [
      "\u001b[0;31m---------------------------------------------------------------------------\u001b[0m",
      "\u001b[0;31mFileNotFoundError\u001b[0m                         Traceback (most recent call last)",
      "\u001b[0;32m<ipython-input-3-838797f157a6>\u001b[0m in \u001b[0;36m<module>\u001b[0;34m()\u001b[0m\n\u001b[0;32m----> 1\u001b[0;31m \u001b[0mreceptor\u001b[0m \u001b[0;34m=\u001b[0m \u001b[0mpnt\u001b[0m\u001b[0;34m.\u001b[0m\u001b[0mReceptor\u001b[0m\u001b[0;34m(\u001b[0m\u001b[0;34m'testsystems/Barnase-Barstar/pdbs/Barnase.pdb'\u001b[0m\u001b[0;34m,\u001b[0m\u001b[0;34m'amber14-all.xml'\u001b[0m\u001b[0;34m,\u001b[0m\u001b[0mpH\u001b[0m\u001b[0;34m=\u001b[0m\u001b[0;36m7.0\u001b[0m\u001b[0;34m)\u001b[0m\u001b[0;34m\u001b[0m\u001b[0m\n\u001b[0m\u001b[1;32m      2\u001b[0m \u001b[0mligand\u001b[0m   \u001b[0;34m=\u001b[0m \u001b[0mpnt\u001b[0m\u001b[0;34m.\u001b[0m\u001b[0mLigand\u001b[0m\u001b[0;34m(\u001b[0m\u001b[0;34m'testsystems/Barnase-Barstar/pdbs/Barstar.pdb'\u001b[0m\u001b[0;34m,\u001b[0m\u001b[0;34m'amber14-all.xml'\u001b[0m\u001b[0;34m,\u001b[0m\u001b[0mpH\u001b[0m\u001b[0;34m=\u001b[0m\u001b[0;36m7.0\u001b[0m\u001b[0;34m)\u001b[0m\u001b[0;34m\u001b[0m\u001b[0m\n",
      "\u001b[0;32m~/Trabajo/Proyectos/Pynterpred_devel/pynterpred/main.py\u001b[0m in \u001b[0;36m__init__\u001b[0;34m(self, pdb_file, forcefield, pH, addHs, center)\u001b[0m\n\u001b[1;32m     47\u001b[0m \u001b[0;34m\u001b[0m\u001b[0m\n\u001b[1;32m     48\u001b[0m         \u001b[0;32mif\u001b[0m \u001b[0mpdb_file\u001b[0m\u001b[0;34m:\u001b[0m\u001b[0;34m\u001b[0m\u001b[0m\n\u001b[0;32m---> 49\u001b[0;31m             \u001b[0mpdb_aux\u001b[0m  \u001b[0;34m=\u001b[0m \u001b[0mapp\u001b[0m\u001b[0;34m.\u001b[0m\u001b[0mPDBFile\u001b[0m\u001b[0;34m(\u001b[0m\u001b[0mpdb_file\u001b[0m\u001b[0;34m)\u001b[0m\u001b[0;34m\u001b[0m\u001b[0m\n\u001b[0m\u001b[1;32m     50\u001b[0m             \u001b[0mself\u001b[0m\u001b[0;34m.\u001b[0m\u001b[0mmodeller\u001b[0m \u001b[0;34m=\u001b[0m \u001b[0mapp\u001b[0m\u001b[0;34m.\u001b[0m\u001b[0mModeller\u001b[0m\u001b[0;34m(\u001b[0m\u001b[0mpdb_aux\u001b[0m\u001b[0;34m.\u001b[0m\u001b[0mtopology\u001b[0m\u001b[0;34m,\u001b[0m \u001b[0mpdb_aux\u001b[0m\u001b[0;34m.\u001b[0m\u001b[0mpositions\u001b[0m\u001b[0;34m)\u001b[0m\u001b[0;34m\u001b[0m\u001b[0m\n\u001b[1;32m     51\u001b[0m             \u001b[0mself\u001b[0m\u001b[0;34m.\u001b[0m\u001b[0mforcefield\u001b[0m \u001b[0;34m=\u001b[0m \u001b[0mapp\u001b[0m\u001b[0;34m.\u001b[0m\u001b[0mForceField\u001b[0m\u001b[0;34m(\u001b[0m\u001b[0mforcefield\u001b[0m\u001b[0;34m)\u001b[0m\u001b[0;34m\u001b[0m\u001b[0m\n",
      "\u001b[0;32m~/Myusr/opt/miniconda3/envs/pynterpred/lib/python3.6/site-packages/simtk/openmm/app/pdbfile.py\u001b[0m in \u001b[0;36m__init__\u001b[0;34m(self, file, extraParticleIdentifier)\u001b[0m\n\u001b[1;32m     91\u001b[0m             \u001b[0mown_handle\u001b[0m \u001b[0;34m=\u001b[0m \u001b[0;32mFalse\u001b[0m\u001b[0;34m\u001b[0m\u001b[0m\n\u001b[1;32m     92\u001b[0m             \u001b[0;32mif\u001b[0m \u001b[0misinstance\u001b[0m\u001b[0;34m(\u001b[0m\u001b[0mfile\u001b[0m\u001b[0;34m,\u001b[0m \u001b[0mstr\u001b[0m\u001b[0;34m)\u001b[0m\u001b[0;34m:\u001b[0m\u001b[0;34m\u001b[0m\u001b[0m\n\u001b[0;32m---> 93\u001b[0;31m                 \u001b[0minputfile\u001b[0m \u001b[0;34m=\u001b[0m \u001b[0mopen\u001b[0m\u001b[0;34m(\u001b[0m\u001b[0mfile\u001b[0m\u001b[0;34m)\u001b[0m\u001b[0;34m\u001b[0m\u001b[0m\n\u001b[0m\u001b[1;32m     94\u001b[0m                 \u001b[0mown_handle\u001b[0m \u001b[0;34m=\u001b[0m \u001b[0;32mTrue\u001b[0m\u001b[0;34m\u001b[0m\u001b[0m\n\u001b[1;32m     95\u001b[0m             \u001b[0mpdb\u001b[0m \u001b[0;34m=\u001b[0m \u001b[0mPdbStructure\u001b[0m\u001b[0;34m(\u001b[0m\u001b[0minputfile\u001b[0m\u001b[0;34m,\u001b[0m \u001b[0mload_all_models\u001b[0m\u001b[0;34m=\u001b[0m\u001b[0;32mTrue\u001b[0m\u001b[0;34m,\u001b[0m \u001b[0mextraParticleIdentifier\u001b[0m\u001b[0;34m=\u001b[0m\u001b[0mextraParticleIdentifier\u001b[0m\u001b[0;34m)\u001b[0m\u001b[0;34m\u001b[0m\u001b[0m\n",
      "\u001b[0;31mFileNotFoundError\u001b[0m: [Errno 2] No such file or directory: 'testsystems/Barnase-Barstar/pdbs/Barnase.pdb'"
     ]
    }
   ],
   "source": [
    "receptor = pnt.Receptor('testsystems/Barnase-Barstar/pdbs/Barnase.pdb','amber14-all.xml',pH=7.0)\n",
    "ligand   = pnt.Ligand('testsystems/Barnase-Barstar/pdbs/Barstar.pdb','amber14-all.xml',pH=7.0)"
   ]
  },
  {
   "cell_type": "code",
   "execution_count": null,
   "metadata": {},
   "outputs": [],
   "source": [
    "context=pnt.MMContext(receptor,ligand)"
   ]
  },
  {
   "cell_type": "code",
   "execution_count": null,
   "metadata": {},
   "outputs": [],
   "source": [
    "context.center_ligand([10000.0,0,0]*unit.nanometers)\n",
    "energy_far=context.get_potential_energy()\n",
    "print(energy_far)"
   ]
  },
  {
   "cell_type": "code",
   "execution_count": null,
   "metadata": {},
   "outputs": [],
   "source": [
    "region = pnt.Region()"
   ]
  },
  {
   "cell_type": "code",
   "execution_count": null,
   "metadata": {},
   "outputs": [],
   "source": [
    "region.centers_in_layer(\"regular_cartesian\",receptor,ligand,delta_x=0.25) #delta_x=0.25"
   ]
  },
  {
   "cell_type": "code",
   "execution_count": null,
   "metadata": {},
   "outputs": [],
   "source": [
    "region.rotators_in_quaternions_region(nside=8) #nside=8"
   ]
  },
  {
   "cell_type": "code",
   "execution_count": null,
   "metadata": {},
   "outputs": [],
   "source": []
  },
  {
   "cell_type": "code",
   "execution_count": null,
   "metadata": {},
   "outputs": [],
   "source": [
    "#for qrotor in tqdm(region.qrotors):\n",
    "#    for center in tqdm(region.centers):\n",
    "#        context.make_conformation(center*unit.nanometer,qrotor)\n",
    "#        context.get_potential_energy()\n",
    "\n",
    "energies_centers=[]\n",
    "qrotor=region.qrotors[0]\n",
    "for center in tqdm.tqdm_notebook(region.centers):\n",
    "    context.make_conformation(center*unit.nanometer,qrotor)\n",
    "    energies_centers.append(context.get_potential_energy()._value)\n",
    "    "
   ]
  },
  {
   "cell_type": "code",
   "execution_count": null,
   "metadata": {},
   "outputs": [],
   "source": []
  },
  {
   "cell_type": "code",
   "execution_count": null,
   "metadata": {},
   "outputs": [],
   "source": [
    "energies_centers=np.array(energies_centers)\n",
    "mask = energies_centers < energy_far._value\n",
    "view_centers=region.centers[mask]\n",
    "view_distance_centers=np.linalg.norm(view_centers,axis=1)\n",
    "view_energies_centers=energies_centers[mask]\n",
    "\n",
    "plt.scatter(view_distance_centers,view_energies_centers)"
   ]
  },
  {
   "cell_type": "code",
   "execution_count": null,
   "metadata": {},
   "outputs": [],
   "source": [
    "topol=mdtraj.Topology.from_openmm(receptor.topology)\n",
    "chain=topol.add_chain()\n",
    "for ii in range(len(view_centers)):\n",
    "    residue=topol.add_residue('XXX',chain)\n",
    "    atom=topol.add_atom('C',mdtraj.element.Element,residue)\n",
    "    atom.element.symbol='C'\n",
    "    atom.element.radius=0.5\n",
    "\n",
    "posit = np.vstack((receptor.positions._value,view_centers))\n",
    "\n",
    "aux_traj=mdtraj.Trajectory(posit, topol)\n",
    "\n",
    "colors=pnt.utils.colorscale2hex(view_energies_centers)\n",
    "\n",
    "view=nglview.show_mdtraj(aux_traj)\n",
    "view.clear()\n",
    "view.add_ball_and_stick('XXX')\n",
    "view.add_cartoon('protein',color='purple')\n",
    "view.add_surface('protein',color='orange',opacity=0.1)\n",
    "view._set_color_by_residue(colors,component_index=0)\n",
    "view"
   ]
  },
  {
   "cell_type": "code",
   "execution_count": null,
   "metadata": {},
   "outputs": [],
   "source": []
  },
  {
   "cell_type": "code",
   "execution_count": null,
   "metadata": {},
   "outputs": [],
   "source": [
    "\n",
    "\n"
   ]
  },
  {
   "cell_type": "code",
   "execution_count": null,
   "metadata": {},
   "outputs": [],
   "source": [
    "mask = np.array(energies_centers) < 6200.0\n",
    "view_centers=region.centers[mask]\n",
    "view_distance_centers=np.linalg.norm(view_centers,axis=1)\n",
    "view_energies_centers=energies_centers[mask]\n",
    "\n",
    "topol=mdtraj.Topology.from_openmm(receptor.topology)\n",
    "chain=topol.add_chain()\n",
    "for ii in range(len(view_centers)):\n",
    "    residue=topol.add_residue('XXX',chain)\n",
    "    atom=topol.add_atom('C',mdtraj.element.Element,residue)\n",
    "    atom.element.symbol='C'\n",
    "    atom.element.radius=0.5\n",
    "\n",
    "posit = np.vstack((receptor.positions._value,view_centers))\n",
    "\n",
    "aux_traj=mdtraj.Trajectory(posit, topol)\n",
    "\n",
    "colors=pnt.utils.colorscale2hex(view_energies_centers)\n",
    "\n",
    "view=nglview.show_mdtraj(aux_traj)\n",
    "view.clear()\n",
    "view.add_ball_and_stick('XXX')\n",
    "view.add_cartoon('protein',color='purple')\n",
    "view.add_surface('protein',color='orange',opacity=0.1)\n",
    "view._set_color_by_residue(colors,component_index=0)\n",
    "view"
   ]
  },
  {
   "cell_type": "code",
   "execution_count": null,
   "metadata": {},
   "outputs": [],
   "source": []
  },
  {
   "cell_type": "code",
   "execution_count": null,
   "metadata": {},
   "outputs": [],
   "source": []
  },
  {
   "cell_type": "code",
   "execution_count": null,
   "metadata": {},
   "outputs": [],
   "source": []
  },
  {
   "cell_type": "code",
   "execution_count": null,
   "metadata": {},
   "outputs": [],
   "source": []
  }
 ],
 "metadata": {
  "kernelspec": {
   "display_name": "Python 3",
   "language": "python",
   "name": "python3"
  },
  "language_info": {
   "codemirror_mode": {
    "name": "ipython",
    "version": 3
   },
   "file_extension": ".py",
   "mimetype": "text/x-python",
   "name": "python",
   "nbconvert_exporter": "python",
   "pygments_lexer": "ipython3",
   "version": "3.6.5"
  }
 },
 "nbformat": 4,
 "nbformat_minor": 2
}
