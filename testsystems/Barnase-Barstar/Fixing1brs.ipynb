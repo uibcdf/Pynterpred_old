{
 "cells": [
  {
   "cell_type": "code",
   "execution_count": 1,
   "metadata": {},
   "outputs": [],
   "source": [
    "from pdbfixer import PDBFixer\n",
    "from simtk.openmm.app import PDBFile\n",
    "from copy import deepcopy"
   ]
  },
  {
   "cell_type": "code",
   "execution_count": 2,
   "metadata": {},
   "outputs": [],
   "source": [
    "fix_1brs=PDBFixer(\"1brs.pdb\")"
   ]
  },
  {
   "cell_type": "code",
   "execution_count": 3,
   "metadata": {},
   "outputs": [],
   "source": [
    "chains = list(fix_1brs.topology.chains())\n",
    "num_chains = len(chains)"
   ]
  },
  {
   "cell_type": "code",
   "execution_count": 4,
   "metadata": {},
   "outputs": [
    {
     "name": "stdout",
     "output_type": "stream",
     "text": [
      "Chain index A with pdb id 0\n",
      "Chain index B with pdb id 1\n",
      "Chain index C with pdb id 2\n",
      "Chain index D with pdb id 3\n",
      "Chain index E with pdb id 4\n",
      "Chain index F with pdb id 5\n",
      "Chain index A with pdb id 6\n",
      "Chain index B with pdb id 7\n",
      "Chain index C with pdb id 8\n",
      "Chain index D with pdb id 9\n",
      "Chain index E with pdb id 10\n",
      "Chain index F with pdb id 11\n"
     ]
    }
   ],
   "source": [
    "for chain in chains:\n",
    "    print(\"Chain index {} with pdb id {}\".format(chain.id,chain.index))"
   ]
  },
  {
   "cell_type": "code",
   "execution_count": 5,
   "metadata": {},
   "outputs": [],
   "source": [
    "fix_1brs.removeChains([6,7,8,9,10,11])\n",
    "chains = list(fix_1brs.topology.chains())\n",
    "num_chains = len(chains)"
   ]
  },
  {
   "cell_type": "code",
   "execution_count": 6,
   "metadata": {},
   "outputs": [],
   "source": [
    "fix_1brs.findMissingResidues()\n",
    "fix_1brs.findNonstandardResidues()\n",
    "fix_1brs.findMissingAtoms()"
   ]
  },
  {
   "cell_type": "code",
   "execution_count": 10,
   "metadata": {},
   "outputs": [],
   "source": [
    "#print(fix_1brs.missingResidues)\n",
    "#print(fix_1brs.nonstandardResidues)\n",
    "#print(fix_1brs.missingAtoms)"
   ]
  },
  {
   "cell_type": "code",
   "execution_count": 11,
   "metadata": {},
   "outputs": [],
   "source": [
    "fix_1brs.addMissingAtoms()"
   ]
  },
  {
   "cell_type": "code",
   "execution_count": 12,
   "metadata": {},
   "outputs": [],
   "source": [
    "aux_dict={}\n",
    "aux_dict[\"Barnase_A\"]=0\n",
    "aux_dict[\"Barnase_B\"]=1\n",
    "aux_dict[\"Barnase_C\"]=2\n",
    "aux_dict[\"Barstar_D\"]=3\n",
    "aux_dict[\"Barstar_E\"]=4\n",
    "aux_dict[\"Barstar_F\"]=5"
   ]
  },
  {
   "cell_type": "code",
   "execution_count": 24,
   "metadata": {},
   "outputs": [],
   "source": [
    "for clave in aux_dict.keys():\n",
    "    chain_in=aux_dict[clave]\n",
    "    chains_out=list(range(num_chains))\n",
    "    chains_out.remove(chain_in)\n",
    "    aux_1brs=deepcopy(fix_1brs)\n",
    "    aux_1brs.removeChains(chains_out)\n",
    "    pdbfilename = '1brs_'+clave+'_fixed.pdb'\n",
    "    outfile = open(pdbfilename, 'w')\n",
    "    PDBFile.writeFile(aux_1brs.topology, aux_1brs.positions, outfile)\n",
    "    outfile.close()\n",
    "    del(aux_1brs,chain_in,chains_out,outfile)"
   ]
  },
  {
   "cell_type": "code",
   "execution_count": null,
   "metadata": {},
   "outputs": [],
   "source": [
    "for protein in aux_dict.keys():\n",
    "    chain_in=aux_dict[protein]\n",
    "    chains_out=list(range(num_chains))\n",
    "    chains_out.remove(chain_in)\n",
    "    aux_1brs=deepcopy(fix_1brs)\n",
    "    aux_1brs.removeChains(chains_out)\n",
    "    pdbfilename = '1brs_'+protein+'_fixed.pdb'\n",
    "    outfile = open(pdbfilename, 'w')\n",
    "    PDBFile.writeFile(aux_1brs.topology, aux_1brs.positions, outfile)\n",
    "    outfile.close()\n",
    "    del(aux_1brs,chain_in,chains_out,outfile)"
   ]
  },
  {
   "cell_type": "code",
   "execution_count": null,
   "metadata": {},
   "outputs": [],
   "source": [
    "del(fix_1brs)"
   ]
  },
  {
   "cell_type": "markdown",
   "metadata": {},
   "source": [
    "## Selecting chains"
   ]
  },
  {
   "cell_type": "code",
   "execution_count": null,
   "metadata": {},
   "outputs": [],
   "source": []
  },
  {
   "cell_type": "code",
   "execution_count": null,
   "metadata": {},
   "outputs": [],
   "source": []
  }
 ],
 "metadata": {
  "kernelspec": {
   "display_name": "Python 3",
   "language": "python",
   "name": "python3"
  },
  "language_info": {
   "codemirror_mode": {
    "name": "ipython",
    "version": 3
   },
   "file_extension": ".py",
   "mimetype": "text/x-python",
   "name": "python",
   "nbconvert_exporter": "python",
   "pygments_lexer": "ipython3",
   "version": "3.6.5"
  }
 },
 "nbformat": 4,
 "nbformat_minor": 2
}
