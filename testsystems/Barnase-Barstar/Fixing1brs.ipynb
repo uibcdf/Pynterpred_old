{
 "cells": [
  {
   "cell_type": "code",
   "execution_count": 6,
   "metadata": {},
   "outputs": [],
   "source": [
    "import sys\n",
    "sys.path.append('/home/diego/Myusr/src/UIBCDFGitHub/LabTools')\n",
    "\n",
    "import MolLabTools as MolLab\n",
    "\n",
    "from copy import deepcopy\n",
    "import numpy as np\n",
    "from pdbfixer import PDBFixer\n",
    "from simtk import openmm, unit\n",
    "from simtk.openmm import app\n",
    "import mdtraj\n",
    "import nglview"
   ]
  },
  {
   "cell_type": "markdown",
   "metadata": {},
   "source": [
    "## Extracting molecules from 1brs.pdb"
   ]
  },
  {
   "cell_type": "code",
   "execution_count": null,
   "metadata": {},
   "outputs": [],
   "source": []
  },
  {
   "cell_type": "code",
   "execution_count": 7,
   "metadata": {},
   "outputs": [],
   "source": [
    "pdbs_dir=\"pdbs/\""
   ]
  },
  {
   "cell_type": "code",
   "execution_count": 8,
   "metadata": {},
   "outputs": [],
   "source": [
    "MolLab.Tools.get_pdb_file('1brs',destination=pdbs_dir)"
   ]
  },
  {
   "cell_type": "code",
   "execution_count": 9,
   "metadata": {},
   "outputs": [],
   "source": [
    "fix_1brs=PDBFixer(pdbs_dir+\"1brs.pdb\")"
   ]
  },
  {
   "cell_type": "code",
   "execution_count": 10,
   "metadata": {},
   "outputs": [
    {
     "name": "stdout",
     "output_type": "stream",
     "text": [
      "Chain index A with pdb id 0\n",
      "Chain index B with pdb id 1\n",
      "Chain index C with pdb id 2\n",
      "Chain index D with pdb id 3\n",
      "Chain index E with pdb id 4\n",
      "Chain index F with pdb id 5\n",
      "Chain index A with pdb id 6\n",
      "Chain index B with pdb id 7\n",
      "Chain index C with pdb id 8\n",
      "Chain index D with pdb id 9\n",
      "Chain index E with pdb id 10\n",
      "Chain index F with pdb id 11\n"
     ]
    }
   ],
   "source": [
    "for chain in fix_1brs.topology.chains():\n",
    "    print(\"Chain index {} with pdb id {}\".format(chain.id,chain.index))"
   ]
  },
  {
   "cell_type": "code",
   "execution_count": 11,
   "metadata": {},
   "outputs": [],
   "source": [
    "fix_1brs.removeChains([6,7,8,9,10,11])\n",
    "chains = list(fix_1brs.topology.chains())\n",
    "num_chains = len(chains)"
   ]
  },
  {
   "cell_type": "code",
   "execution_count": 12,
   "metadata": {},
   "outputs": [],
   "source": [
    "fix_1brs.findMissingResidues()\n",
    "fix_1brs.findNonstandardResidues()\n",
    "fix_1brs.findMissingAtoms()"
   ]
  },
  {
   "cell_type": "code",
   "execution_count": 13,
   "metadata": {},
   "outputs": [],
   "source": [
    "#print(fix_1brs.missingResidues)\n",
    "#print(fix_1brs.nonstandardResidues)\n",
    "#print(fix_1brs.missingAtoms)"
   ]
  },
  {
   "cell_type": "code",
   "execution_count": 14,
   "metadata": {},
   "outputs": [],
   "source": [
    "fix_1brs.addMissingAtoms()"
   ]
  },
  {
   "cell_type": "code",
   "execution_count": 15,
   "metadata": {},
   "outputs": [],
   "source": [
    "aux_dict={}\n",
    "aux_dict[\"Barnase_A\"]=0\n",
    "aux_dict[\"Barnase_B\"]=1\n",
    "aux_dict[\"Barnase_C\"]=2\n",
    "aux_dict[\"Barstar_D\"]=3\n",
    "aux_dict[\"Barstar_E\"]=4\n",
    "aux_dict[\"Barstar_F\"]=5"
   ]
  },
  {
   "cell_type": "code",
   "execution_count": 16,
   "metadata": {},
   "outputs": [],
   "source": [
    "for molecule_name in aux_dict.keys():\n",
    "    chain_in=aux_dict[molecule_name]\n",
    "    chains_out=list(range(num_chains))\n",
    "    chains_out.remove(chain_in)\n",
    "    globals()[molecule_name]= deepcopy(fix_1brs)\n",
    "    aux_1brs=globals()[molecule_name]\n",
    "    aux_1brs.removeChains(chains_out)\n",
    "    pdbfilename = '1brs_'+molecule_name+'_fixed.pdb'\n",
    "    outfile = open(pdbs_dir+pdbfilename, 'w')\n",
    "    app.PDBFile.writeFile(aux_1brs.topology, aux_1brs.positions, outfile)\n",
    "    outfile.close()\n",
    "    del(aux_1brs,chain_in,chains_out,outfile)"
   ]
  },
  {
   "cell_type": "code",
   "execution_count": 17,
   "metadata": {},
   "outputs": [],
   "source": [
    "del(fix_1brs)"
   ]
  },
  {
   "cell_type": "code",
   "execution_count": null,
   "metadata": {},
   "outputs": [],
   "source": []
  },
  {
   "cell_type": "markdown",
   "metadata": {},
   "source": [
    "### Viewing structures coming from 1brs.pdb"
   ]
  },
  {
   "cell_type": "code",
   "execution_count": 18,
   "metadata": {},
   "outputs": [],
   "source": [
    "# With this cell the molecular systems already written in pdbs can be loaded (there is no need to execute previous block).\n",
    "# Nothing will happen in case the notebook was run from the beginning.\n",
    "\n",
    "pdbs_dir=\"pdbs/\"\n",
    "molecule_names=[\"Barnase_A\",\"Barnase_B\",\"Barnase_C\",\"Barstar_D\",\"Barstar_E\",\"Barstar_F\"]\n",
    "\n",
    "for molecule_name in molecule_names:\n",
    "    if molecule_name not in globals():\n",
    "        pdbfilename = '1brs_'+molecule_name+'_fixed.pdb'\n",
    "        globals()[molecule_name]=app.PDBFile(pdbs_dir+pdbfilename)"
   ]
  },
  {
   "cell_type": "markdown",
   "metadata": {},
   "source": []
  },
  {
   "cell_type": "code",
   "execution_count": 19,
   "metadata": {},
   "outputs": [],
   "source": [
    "def make_view(mol_system=None,positions=None):\n",
    "    topology=mol_system.getTopology()\n",
    "    if not positions:\n",
    "        positions=mol_system.getPositions()\n",
    "    mdtraj_aux_topology = mdtraj.Topology.from_openmm(topology)\n",
    "    traj_aux = mdtraj.Trajectory(positions/unit.nanometers, mdtraj_aux_topology)\n",
    "    view = nglview.show_mdtraj(traj_aux)\n",
    "    view.center()\n",
    "    return view"
   ]
  },
  {
   "cell_type": "code",
   "execution_count": 20,
   "metadata": {},
   "outputs": [
    {
     "data": {
      "application/vnd.jupyter.widget-view+json": {
       "model_id": "0ab13bf85b7842bcb10029e16554310e",
       "version_major": 2,
       "version_minor": 0
      },
      "text/plain": [
       "NGLWidget()"
      ]
     },
     "metadata": {},
     "output_type": "display_data"
    }
   ],
   "source": [
    "receptor = Barnase_A\n",
    "ligand   = Barstar_D\n",
    "heterodimer_AD=app.Modeller(receptor.topology, receptor.positions)\n",
    "heterodimer_AD.add(ligand.topology, ligand.positions)\n",
    "\n",
    "view_AD=make_view(heterodimer_AD)\n",
    "view_AD.clear()\n",
    "view_AD.add_cartoon(selection=\":A\", color='green')\n",
    "view_AD.add_surface(selection=\":A\", opacity=0.1)\n",
    "view_AD.add_cartoon(selection=\":B\", color='orange')\n",
    "view_AD.add_surface(selection=\":B\", opacity=0.1)\n",
    "\n",
    "view_AD"
   ]
  },
  {
   "cell_type": "code",
   "execution_count": 21,
   "metadata": {},
   "outputs": [
    {
     "data": {
      "application/vnd.jupyter.widget-view+json": {
       "model_id": "af1281eb63e74c278ac74c4cdb75eb6e",
       "version_major": 2,
       "version_minor": 0
      },
      "text/plain": [
       "NGLWidget()"
      ]
     },
     "metadata": {},
     "output_type": "display_data"
    }
   ],
   "source": [
    "receptor = Barnase_B\n",
    "ligand   = Barstar_E\n",
    "heterodimer_BE=app.Modeller(receptor.topology, receptor.positions)\n",
    "heterodimer_BE.add(ligand.topology, ligand.positions)\n",
    "\n",
    "view_BE=make_view(heterodimer_BE)\n",
    "view_BE.clear()\n",
    "view_BE.add_cartoon(selection=\":A\", color='purple')\n",
    "view_BE.add_surface(selection=\":A\", opacity=0.1)\n",
    "view_BE.add_cartoon(selection=\":B\", color='blue')\n",
    "view_BE.add_surface(selection=\":B\", opacity=0.1)\n",
    "\n",
    "view_BE"
   ]
  },
  {
   "cell_type": "code",
   "execution_count": 22,
   "metadata": {},
   "outputs": [
    {
     "data": {
      "application/vnd.jupyter.widget-view+json": {
       "model_id": "98655969c5d649d08a67c31165382f2e",
       "version_major": 2,
       "version_minor": 0
      },
      "text/plain": [
       "NGLWidget()"
      ]
     },
     "metadata": {},
     "output_type": "display_data"
    }
   ],
   "source": [
    "receptor = Barnase_C\n",
    "ligand   = Barstar_F\n",
    "heterodimer_CF=app.Modeller(receptor.topology, receptor.positions)\n",
    "heterodimer_CF.add(ligand.topology, ligand.positions)\n",
    "\n",
    "view_CF=make_view(heterodimer_CF)\n",
    "view_CF.clear()\n",
    "view_CF.add_cartoon(selection=\":A\", color='red')\n",
    "view_CF.add_surface(selection=\":A\", opacity=0.1)\n",
    "view_CF.add_cartoon(selection=\":B\", color='yellow')\n",
    "view_CF.add_surface(selection=\":B\", opacity=0.1)\n",
    "\n",
    "view_CF"
   ]
  },
  {
   "cell_type": "code",
   "execution_count": 23,
   "metadata": {},
   "outputs": [
    {
     "data": {
      "application/vnd.jupyter.widget-view+json": {
       "model_id": "9414cc3913944d8cb5a2f0557c3307b7",
       "version_major": 2,
       "version_minor": 0
      },
      "text/plain": [
       "NGLWidget()"
      ]
     },
     "metadata": {},
     "output_type": "display_data"
    }
   ],
   "source": [
    "tri_heterodimer_pdb=app.Modeller(Barnase_A.topology,Barnase_A.positions)\n",
    "tri_heterodimer_pdb.add(Barnase_B.topology, Barnase_B.positions)\n",
    "tri_heterodimer_pdb.add(Barnase_C.topology, Barnase_C.positions)\n",
    "tri_heterodimer_pdb.add(Barstar_D.topology, Barstar_D.positions)\n",
    "tri_heterodimer_pdb.add(Barstar_E.topology, Barstar_E.positions)\n",
    "tri_heterodimer_pdb.add(Barstar_F.topology, Barstar_F.positions)\n",
    "\n",
    "\n",
    "view_tri=make_view(tri_heterodimer_pdb)\n",
    "view_tri.clear()\n",
    "view_tri.add_cartoon(selection=\":A\", color='green')\n",
    "view_tri.add_surface(selection=\":A\", opacity=0.1)\n",
    "view_tri.add_cartoon(selection=\":B\", color='purple')\n",
    "view_tri.add_surface(selection=\":B\", opacity=0.1)\n",
    "view_tri.add_cartoon(selection=\":C\", color='red')\n",
    "view_tri.add_surface(selection=\":C\", opacity=0.1)\n",
    "view_tri.add_cartoon(selection=\":D\", color='orange')\n",
    "view_tri.add_surface(selection=\":D\", opacity=0.1)\n",
    "view_tri.add_cartoon(selection=\":E\", color='blue')\n",
    "view_tri.add_surface(selection=\":E\", opacity=0.1)\n",
    "view_tri.add_cartoon(selection=\":F\", color='yellow')\n",
    "view_tri.add_surface(selection=\":F\", opacity=0.1)\n",
    "\n",
    "view_tri"
   ]
  },
  {
   "cell_type": "markdown",
   "metadata": {},
   "source": [
    "### Selecting Barnase and Barstar chains to work with"
   ]
  },
  {
   "cell_type": "code",
   "execution_count": null,
   "metadata": {},
   "outputs": [],
   "source": [
    "# With this cell the molecular systems already written in pdbs can be loaded (there is no need to execute previous block).\n",
    "# Nothing will happen in case the notebook was run from the beginning.\n",
    "\n",
    "pdbs_dir=\"pdbs/\"\n",
    "molecule_names=[\"Barnase_A\",\"Barnase_B\",\"Barnase_C\",\"Barstar_D\",\"Barstar_E\",\"Barstar_F\"]\n",
    "\n",
    "for molecule_name in molecule_names:\n",
    "    if molecule_name not in globals():\n",
    "        pdbfilename = '1brs_'+molecule_name+'_fixed.pdb'\n",
    "        globals()[molecule_name]=app.PDBFile(pdbs_dir+pdbfilename)"
   ]
  },
  {
   "cell_type": "code",
   "execution_count": null,
   "metadata": {},
   "outputs": [],
   "source": []
  },
  {
   "cell_type": "code",
   "execution_count": null,
   "metadata": {},
   "outputs": [],
   "source": []
  }
 ],
 "metadata": {
  "kernelspec": {
   "display_name": "Python 3",
   "language": "python",
   "name": "python3"
  },
  "language_info": {
   "codemirror_mode": {
    "name": "ipython",
    "version": 3
   },
   "file_extension": ".py",
   "mimetype": "text/x-python",
   "name": "python",
   "nbconvert_exporter": "python",
   "pygments_lexer": "ipython3",
   "version": "3.6.5"
  }
 },
 "nbformat": 4,
 "nbformat_minor": 2
}
