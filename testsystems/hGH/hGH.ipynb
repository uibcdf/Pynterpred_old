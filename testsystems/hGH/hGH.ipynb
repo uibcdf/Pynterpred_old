{
 "cells": [
  {
   "cell_type": "code",
   "execution_count": 1,
   "metadata": {},
   "outputs": [
    {
     "name": "stderr",
     "output_type": "stream",
     "text": [
      "/home/diego/Myusr/opt/miniconda3/envs/UIBCDFLab_dev/lib/python3.6/site-packages/MDAnalysis/due.py:88: UserWarning: No module named 'mock'\n",
      "  warnings.warn(str(err))\n"
     ]
    }
   ],
   "source": [
    "import molsysmt as msmt"
   ]
  },
  {
   "cell_type": "code",
   "execution_count": 2,
   "metadata": {},
   "outputs": [],
   "source": [
    "hGH_complex_pdbfixer = msmt.load('PDB:1a22','pdbfixer.PDBFixer')"
   ]
  },
  {
   "cell_type": "code",
   "execution_count": 3,
   "metadata": {},
   "outputs": [],
   "source": [
    "hGH_complex_pdbfixer.findMissingResidues()\n",
    "hGH_complex_pdbfixer.findNonstandardResidues()"
   ]
  },
  {
   "cell_type": "code",
   "execution_count": 4,
   "metadata": {},
   "outputs": [
    {
     "name": "stdout",
     "output_type": "stream",
     "text": [
      "{(0, 129): ['ASP', 'GLY', 'SER', 'PRO', 'ARG', 'THR'], (0, 142): ['ASN', 'SER', 'HIS', 'ASN', 'ASP'], (1, 0): ['PHE', 'SER', 'GLY', 'SER', 'GLU', 'ALA', 'THR', 'ALA', 'ALA', 'ILE', 'LEU', 'SER', 'ARG', 'ALA', 'PRO', 'TRP', 'SER', 'LEU', 'GLN', 'SER', 'VAL', 'ASN', 'PRO', 'GLY', 'LEU', 'LYS', 'THR', 'ASN', 'SER', 'SER', 'LYS', 'GLU'], (1, 19): ['ASP', 'GLU', 'VAL', 'HIS', 'HIS', 'GLY', 'THR', 'LYS', 'ASN'], (1, 102): ['VAL', 'SER', 'LEU', 'THR'], (1, 192): ['GLN']}\n",
      "[]\n"
     ]
    }
   ],
   "source": [
    "print(hGH_complex_pdbfixer.missingResidues)\n",
    "print(hGH_complex_pdbfixer.nonstandardResidues)"
   ]
  },
  {
   "cell_type": "code",
   "execution_count": 5,
   "metadata": {},
   "outputs": [],
   "source": [
    "del(hGH_complex_pdbfixer.missingResidues[(1,0)])"
   ]
  },
  {
   "cell_type": "code",
   "execution_count": 6,
   "metadata": {},
   "outputs": [],
   "source": [
    "hGH_complex_pdbfixer.findMissingAtoms()"
   ]
  },
  {
   "cell_type": "code",
   "execution_count": 7,
   "metadata": {},
   "outputs": [],
   "source": [
    "hGH_complex_pdbfixer.addMissingAtoms()\n",
    "hGH_complex_pdbfixer.addMissingHydrogens(pH=7.0)"
   ]
  },
  {
   "cell_type": "code",
   "execution_count": 8,
   "metadata": {},
   "outputs": [],
   "source": [
    "hGH_complex = msmt.convert(hGH_complex_pdbfixer)"
   ]
  },
  {
   "cell_type": "code",
   "execution_count": 9,
   "metadata": {},
   "outputs": [
    {
     "data": {
      "application/vnd.jupyter.widget-view+json": {
       "model_id": "812e96769bef4c388b8372451cffa0c8",
       "version_major": 2,
       "version_minor": 0
      },
      "text/plain": [
       "NGLWidget()"
      ]
     },
     "metadata": {},
     "output_type": "display_data"
    }
   ],
   "source": [
    "hGH_complex.view()"
   ]
  },
  {
   "cell_type": "code",
   "execution_count": 10,
   "metadata": {},
   "outputs": [],
   "source": [
    "hGH_complex.write('hGH_complex.pdb')"
   ]
  },
  {
   "cell_type": "code",
   "execution_count": 11,
   "metadata": {},
   "outputs": [],
   "source": [
    "hGH_A, hGH_B = hGH_complex.get_proteins()"
   ]
  },
  {
   "cell_type": "code",
   "execution_count": 12,
   "metadata": {},
   "outputs": [],
   "source": [
    "hGH_A.write('hGH_A.pdb')\n",
    "hGH_B.write('hGH_B.pdb')"
   ]
  }
 ],
 "metadata": {
  "kernelspec": {
   "display_name": "Python 3",
   "language": "python",
   "name": "python3"
  },
  "language_info": {
   "codemirror_mode": {
    "name": "ipython",
    "version": 3
   },
   "file_extension": ".py",
   "mimetype": "text/x-python",
   "name": "python",
   "nbconvert_exporter": "python",
   "pygments_lexer": "ipython3",
   "version": "3.6.5"
  }
 },
 "nbformat": 4,
 "nbformat_minor": 2
}
