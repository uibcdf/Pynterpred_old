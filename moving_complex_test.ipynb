{
 "cells": [
  {
   "cell_type": "code",
   "execution_count": 1,
   "metadata": {},
   "outputs": [],
   "source": [
    "from simtk import openmm, unit\n",
    "from simtk.openmm import app\n",
    "import numpy as np\n",
    "\n",
    "from copy import deepcopy\n",
    "from tqdm import tqdm\n",
    "\n",
    "import mdtraj\n",
    "import nglview"
   ]
  },
  {
   "cell_type": "code",
   "execution_count": 2,
   "metadata": {},
   "outputs": [],
   "source": [
    "def compute_potential(system, positions=None):\n",
    "    \"\"\"Print the potential energy given a System and positions.\"\"\"\n",
    "    integrator = openmm.VerletIntegrator(1.0 * unit.femtoseconds)\n",
    "    context = openmm.Context(system, integrator)\n",
    "    context.setPositions(positions)\n",
    "    #print('Potential energy: %s' % context.getState(getEnergy=True).getPotentialEnergy())\n",
    "    #context.getState(getEnergy=True).getPotentialEnergy()\n",
    "    del context, integrator\n",
    "    \n",
    "def write_pdb(topology, positions, filename):\n",
    "    with open(filename, 'w') as outfile:\n",
    "        app.PDBFile.writeFile(topology, positions, outfile)\n",
    "        \n",
    "def make_view(topology, positions):\n",
    "    mdtraj_aux_topology = mdtraj.Topology.from_openmm(topology)\n",
    "    traj_aux = mdtraj.Trajectory(positions/unit.nanometers, mdtraj_aux_topology)\n",
    "    view = nglview.show_mdtraj(traj_aux)\n",
    "    view.clear()\n",
    "    view.add_ball_and_stick('all')\n",
    "    view.center()\n",
    "    return view"
   ]
  },
  {
   "cell_type": "code",
   "execution_count": 3,
   "metadata": {},
   "outputs": [],
   "source": [
    "pH=7.0\n",
    "forcefield = app.ForceField('amber14-all.xml')"
   ]
  },
  {
   "cell_type": "code",
   "execution_count": 4,
   "metadata": {},
   "outputs": [],
   "source": [
    "receptor_pdb       = app.PDBFile('testsystems/E9034A_ETEC/longus_E9034A_ETEC.pdb')\n",
    "\n",
    "receptor_modeller  = app.Modeller(receptor_pdb.topology, receptor_pdb.positions)\n",
    "addHs_receptor_out = receptor_modeller.addHydrogens(forcefield, pH=pH)\n",
    "\n",
    "receptor_topology  = receptor_modeller.getTopology()\n",
    "receptor_positions = receptor_modeller.getPositions()\n",
    "\n",
    "write_pdb(receptor_topology,receptor_positions,'receptor_init.pdb')"
   ]
  },
  {
   "cell_type": "code",
   "execution_count": 5,
   "metadata": {},
   "outputs": [
    {
     "data": {
      "application/vnd.jupyter.widget-view+json": {
       "model_id": "dc63f0abb4974d52b907d990a8be22ad",
       "version_major": 2,
       "version_minor": 0
      },
      "text/plain": [
       "NGLWidget()"
      ]
     },
     "metadata": {},
     "output_type": "display_data"
    }
   ],
   "source": [
    "view_receptor=make_view(receptor_topology,receptor_positions)\n",
    "view_receptor"
   ]
  },
  {
   "cell_type": "code",
   "execution_count": 6,
   "metadata": {},
   "outputs": [],
   "source": [
    "ligand_pdb      = app.PDBFile('testsystems/E9034A_ETEC/longus_E9034A_ETEC.pdb')\n",
    "\n",
    "ligand_modeller = app.Modeller(ligand_pdb.topology, ligand_pdb.positions)\n",
    "addHs_ligand_out= ligand_modeller.addHydrogens(forcefield, pH=pH)\n",
    "\n",
    "ligand_topology  = ligand_modeller.getTopology()\n",
    "ligand_positions = ligand_modeller.getPositions()\n",
    "\n",
    "ligand_positions_0 = deepcopy(ligand_positions)\n",
    "\n",
    "write_pdb(ligand_topology,ligand_positions,'ligand_init.pdb')"
   ]
  },
  {
   "cell_type": "code",
   "execution_count": 7,
   "metadata": {},
   "outputs": [
    {
     "data": {
      "application/vnd.jupyter.widget-view+json": {
       "model_id": "723de1890d59446d9c5d93b83807f7d5",
       "version_major": 2,
       "version_minor": 0
      },
      "text/plain": [
       "NGLWidget()"
      ]
     },
     "metadata": {},
     "output_type": "display_data"
    }
   ],
   "source": [
    "view_ligand=make_view(receptor_topology,receptor_positions)\n",
    "view_ligand\n"
   ]
  },
  {
   "cell_type": "code",
   "execution_count": 8,
   "metadata": {},
   "outputs": [],
   "source": [
    "offset_init=[10.0,0.0,0.0]*unit.nanometers\n",
    "\n",
    "for ind_atom in range(len(ligand_positions)):\n",
    "    ligand_positions[ind_atom]=ligand_positions[ind_atom]+offset_init\n",
    "\n",
    "complex_modeller  = app.Modeller(receptor_topology, receptor_positions)\n",
    "complex_modeller.add(ligand_topology, ligand_positions)\n",
    "\n",
    "complex_topology  = complex_modeller.getTopology()\n",
    "complex_positions = complex_modeller.getPositions()\n",
    "\n",
    "write_pdb(complex_topology,complex_positions,'complex_init.pdb')"
   ]
  },
  {
   "cell_type": "code",
   "execution_count": 9,
   "metadata": {},
   "outputs": [
    {
     "data": {
      "application/vnd.jupyter.widget-view+json": {
       "model_id": "cc8771c050de495dbbde8997c5528ecd",
       "version_major": 2,
       "version_minor": 0
      },
      "text/plain": [
       "NGLWidget()"
      ]
     },
     "metadata": {},
     "output_type": "display_data"
    }
   ],
   "source": [
    "view_complex=make_view(complex_topology,complex_positions)\n",
    "view_complex"
   ]
  },
  {
   "cell_type": "code",
   "execution_count": 10,
   "metadata": {},
   "outputs": [],
   "source": [
    "system = forcefield.createSystem(complex_topology, nonbondedMethod=app.NoCutoff, \n",
    "                                 constraints=app.HBonds, implicitSolvent=app.OBC2)"
   ]
  },
  {
   "cell_type": "code",
   "execution_count": 11,
   "metadata": {},
   "outputs": [],
   "source": [
    "compute_potential(system,complex_positions)"
   ]
  },
  {
   "cell_type": "code",
   "execution_count": null,
   "metadata": {},
   "outputs": [],
   "source": []
  },
  {
   "cell_type": "code",
   "execution_count": 12,
   "metadata": {},
   "outputs": [
    {
     "data": {
      "text/plain": [
       "5230"
      ]
     },
     "execution_count": 12,
     "metadata": {},
     "output_type": "execute_result"
    }
   ],
   "source": [
    "len(complex_positions)"
   ]
  },
  {
   "cell_type": "code",
   "execution_count": 13,
   "metadata": {},
   "outputs": [
    {
     "name": "stderr",
     "output_type": "stream",
     "text": [
      "100%|██████████| 200/200 [02:26<00:00,  1.36it/s]\n"
     ]
    }
   ],
   "source": [
    "xx=np.linspace(0.2,10.0,200)\n",
    "\n",
    "for new_x in tqdm(xx):\n",
    "    offset_init=[new_x,0.0,0.0]*unit.nanometers\n",
    "    for ind_atom in range(len(ligand_positions)):\n",
    "        ligand_positions[ind_atom]=ligand_positions_0[ind_atom]+offset_init\n",
    "    complex_modeller  = app.Modeller(receptor_topology, receptor_positions)\n",
    "    complex_modeller.add(ligand_topology, ligand_positions)\n",
    "    complex_topology  = complex_modeller.getTopology()\n",
    "    complex_positions = complex_modeller.getPositions()\n",
    "    compute_potential(system,complex_positions)"
   ]
  },
  {
   "cell_type": "code",
   "execution_count": null,
   "metadata": {},
   "outputs": [],
   "source": []
  },
  {
   "cell_type": "code",
   "execution_count": null,
   "metadata": {},
   "outputs": [],
   "source": []
  },
  {
   "cell_type": "code",
   "execution_count": null,
   "metadata": {},
   "outputs": [],
   "source": []
  }
 ],
 "metadata": {
  "kernelspec": {
   "display_name": "Python 3",
   "language": "python",
   "name": "python3"
  },
  "language_info": {
   "codemirror_mode": {
    "name": "ipython",
    "version": 3
   },
   "file_extension": ".py",
   "mimetype": "text/x-python",
   "name": "python",
   "nbconvert_exporter": "python",
   "pygments_lexer": "ipython3",
   "version": "3.6.4"
  }
 },
 "nbformat": 4,
 "nbformat_minor": 2
}
