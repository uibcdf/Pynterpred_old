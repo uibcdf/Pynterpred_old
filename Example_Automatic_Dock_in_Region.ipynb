{
 "cells": [
  {
   "cell_type": "code",
   "execution_count": 1,
   "metadata": {},
   "outputs": [],
   "source": [
    "%load_ext autoreload\n",
    "%autoreload 2\n",
    "%matplotlib notebook"
   ]
  },
  {
   "cell_type": "code",
   "execution_count": 2,
   "metadata": {},
   "outputs": [],
   "source": [
    "import sys\n",
    "sys.path.append('/home/diego/Trabajo/Proyectos/Pynterpred_devel/')\n",
    "import numpy as np\n",
    "import mdtraj\n",
    "import pynterpred as pnt\n",
    "import nglview\n",
    "import tqdm\n",
    "import matplotlib.pyplot as plt\n",
    "\n",
    "from simtk import openmm, unit\n",
    "from simtk.openmm import app"
   ]
  },
  {
   "cell_type": "code",
   "execution_count": 3,
   "metadata": {},
   "outputs": [],
   "source": [
    "receptor = pnt.Receptor('testsystems/Barnase-Barstar/pdbs/Barnase.pdb','amber14-all.xml',pH=7.0)\n",
    "ligand   = pnt.Ligand('testsystems/Barnase-Barstar/pdbs/Barstar.pdb','amber14-all.xml',pH=7.0)"
   ]
  },
  {
   "cell_type": "code",
   "execution_count": 4,
   "metadata": {},
   "outputs": [],
   "source": [
    "context=pnt.MMContext(receptor,ligand)"
   ]
  },
  {
   "cell_type": "code",
   "execution_count": 8,
   "metadata": {},
   "outputs": [
    {
     "ename": "TypeError",
     "evalue": "unsupported operand type(s) for /: 'float' and 'NoneType'",
     "output_type": "error",
     "traceback": [
      "\u001b[0;31m---------------------------------------------------------------------------\u001b[0m",
      "\u001b[0;31mTypeError\u001b[0m                                 Traceback (most recent call last)",
      "\u001b[0;32m<ipython-input-8-70a9caa029b5>\u001b[0m in \u001b[0;36m<module>\u001b[0;34m()\u001b[0m\n\u001b[1;32m      1\u001b[0m \u001b[0mregion\u001b[0m \u001b[0;34m=\u001b[0m \u001b[0mpnt\u001b[0m\u001b[0;34m.\u001b[0m\u001b[0mRegion\u001b[0m\u001b[0;34m(\u001b[0m\u001b[0;34m)\u001b[0m\u001b[0;34m\u001b[0m\u001b[0m\n\u001b[0;32m----> 2\u001b[0;31m \u001b[0mregion\u001b[0m\u001b[0;34m.\u001b[0m\u001b[0mcenters_in_layer\u001b[0m\u001b[0;34m(\u001b[0m\u001b[0;34m\"regular_cartesian\"\u001b[0m\u001b[0;34m,\u001b[0m\u001b[0mreceptor\u001b[0m\u001b[0;34m,\u001b[0m\u001b[0mligand\u001b[0m\u001b[0;34m)\u001b[0m\u001b[0;34m\u001b[0m\u001b[0m\n\u001b[0m\u001b[1;32m      3\u001b[0m \u001b[0mregion\u001b[0m\u001b[0;34m.\u001b[0m\u001b[0mrotators_in_quaternions_region\u001b[0m\u001b[0;34m(\u001b[0m\u001b[0;34m)\u001b[0m\u001b[0;34m\u001b[0m\u001b[0m\n",
      "\u001b[0;32m~/Trabajo/Proyectos/Pynterpred_devel/pynterpred/region.py\u001b[0m in \u001b[0;36mcenters_in_layer\u001b[0;34m(self, distribution, receptor, ligand, delta_x)\u001b[0m\n\u001b[1;32m     70\u001b[0m \u001b[0;34m\u001b[0m\u001b[0m\n\u001b[1;32m     71\u001b[0m             \u001b[0mLbox\u001b[0m \u001b[0;34m=\u001b[0m \u001b[0;36m2\u001b[0m\u001b[0;34m*\u001b[0m\u001b[0md_max_rec\u001b[0m\u001b[0;34m+\u001b[0m\u001b[0;36m2\u001b[0m\u001b[0;34m*\u001b[0m\u001b[0md_max_lig\u001b[0m\u001b[0;34m+\u001b[0m\u001b[0mhbond_dist\u001b[0m \u001b[0;31m#añado hbond distance\u001b[0m\u001b[0;34m\u001b[0m\u001b[0m\n\u001b[0;32m---> 72\u001b[0;31m             \u001b[0mnx_2\u001b[0m       \u001b[0;34m=\u001b[0m \u001b[0mnp\u001b[0m\u001b[0;34m.\u001b[0m\u001b[0mint\u001b[0m\u001b[0;34m(\u001b[0m\u001b[0mnp\u001b[0m\u001b[0;34m.\u001b[0m\u001b[0mceil\u001b[0m\u001b[0;34m(\u001b[0m\u001b[0;34m(\u001b[0m\u001b[0mLbox\u001b[0m\u001b[0;34m/\u001b[0m\u001b[0;36m2.0\u001b[0m\u001b[0;34m)\u001b[0m\u001b[0;34m/\u001b[0m\u001b[0mdelta_x\u001b[0m\u001b[0;34m)\u001b[0m\u001b[0;34m)\u001b[0m\u001b[0;34m\u001b[0m\u001b[0m\n\u001b[0m\u001b[1;32m     73\u001b[0m             \u001b[0mnx\u001b[0m         \u001b[0;34m=\u001b[0m\u001b[0;36m2\u001b[0m\u001b[0;34m*\u001b[0m\u001b[0mnx_2\u001b[0m\u001b[0;34m+\u001b[0m\u001b[0;36m1\u001b[0m\u001b[0;34m\u001b[0m\u001b[0m\n\u001b[1;32m     74\u001b[0m             \u001b[0mprov_num_centers\u001b[0m \u001b[0;34m=\u001b[0m\u001b[0mnx\u001b[0m\u001b[0;34m*\u001b[0m\u001b[0mnx\u001b[0m\u001b[0;34m*\u001b[0m\u001b[0mnx\u001b[0m\u001b[0;34m\u001b[0m\u001b[0m\n",
      "\u001b[0;31mTypeError\u001b[0m: unsupported operand type(s) for /: 'float' and 'NoneType'"
     ]
    }
   ],
   "source": [
    "region = pnt.Region()\n",
    "region.centers_in_layer(\"regular_cartesian\",receptor,ligand)\n",
    "region.rotators_in_quaternions_region()"
   ]
  },
  {
   "cell_type": "code",
   "execution_count": null,
   "metadata": {},
   "outputs": [],
   "source": [
    "=pnt.docking(context,region.centers,region.qrotors)"
   ]
  },
  {
   "cell_type": "code",
   "execution_count": null,
   "metadata": {},
   "outputs": [],
   "source": [
    "=pnt.docking(context,region.centers,region.qrotors)"
   ]
  },
  {
   "cell_type": "code",
   "execution_count": null,
   "metadata": {},
   "outputs": [],
   "source": []
  },
  {
   "cell_type": "code",
   "execution_count": null,
   "metadata": {},
   "outputs": [],
   "source": []
  },
  {
   "cell_type": "code",
   "execution_count": null,
   "metadata": {},
   "outputs": [],
   "source": [
    "#for qrotor in tqdm(region.qrotors):\n",
    "#    for center in tqdm(region.centers):\n",
    "#        context.make_conformation(center*unit.nanometer,qrotor)\n",
    "#        context.get_potential_energy()\n",
    "\n",
    "energies_centers=[]\n",
    "qrotor=region.qrotors[0]\n",
    "for center in tqdm.tqdm_notebook(region.centers):\n",
    "    context.make_conformation(center*unit.nanometer,qrotor)\n",
    "    energies_centers.append(context.get_potential_energy()._value)\n",
    "    "
   ]
  },
  {
   "cell_type": "code",
   "execution_count": null,
   "metadata": {},
   "outputs": [],
   "source": []
  },
  {
   "cell_type": "code",
   "execution_count": null,
   "metadata": {},
   "outputs": [],
   "source": [
    "energies_centers=np.array(energies_centers)\n",
    "mask = energies_centers < energy_far._value\n",
    "view_centers=region.centers[mask]\n",
    "view_distance_centers=np.linalg.norm(view_centers,axis=1)\n",
    "view_energies_centers=energies_centers[mask]\n",
    "\n",
    "plt.scatter(view_distance_centers,view_energies_centers)"
   ]
  },
  {
   "cell_type": "code",
   "execution_count": null,
   "metadata": {},
   "outputs": [],
   "source": [
    "topol=mdtraj.Topology.from_openmm(receptor.topology)\n",
    "chain=topol.add_chain()\n",
    "for ii in range(len(view_centers)):\n",
    "    residue=topol.add_residue('XXX',chain)\n",
    "    atom=topol.add_atom('C',mdtraj.element.Element,residue)\n",
    "    atom.element.symbol='C'\n",
    "    atom.element.radius=0.5\n",
    "\n",
    "posit = np.vstack((receptor.positions._value,view_centers))\n",
    "\n",
    "aux_traj=mdtraj.Trajectory(posit, topol)\n",
    "\n",
    "colors=pnt.utils.colorscale2hex(view_energies_centers)\n",
    "\n",
    "view=nglview.show_mdtraj(aux_traj)\n",
    "view.clear()\n",
    "view.add_ball_and_stick('XXX')\n",
    "view.add_cartoon('protein',color='purple')\n",
    "view.add_surface('protein',color='orange',opacity=0.1)\n",
    "view._set_color_by_residue(colors,component_index=0)\n",
    "view"
   ]
  },
  {
   "cell_type": "code",
   "execution_count": null,
   "metadata": {},
   "outputs": [],
   "source": []
  },
  {
   "cell_type": "code",
   "execution_count": null,
   "metadata": {},
   "outputs": [],
   "source": [
    "\n",
    "\n"
   ]
  },
  {
   "cell_type": "code",
   "execution_count": null,
   "metadata": {},
   "outputs": [],
   "source": [
    "mask = np.array(energies_centers) < 6200.0\n",
    "view_centers=region.centers[mask]\n",
    "view_distance_centers=np.linalg.norm(view_centers,axis=1)\n",
    "view_energies_centers=energies_centers[mask]\n",
    "\n",
    "topol=mdtraj.Topology.from_openmm(receptor.topology)\n",
    "chain=topol.add_chain()\n",
    "for ii in range(len(view_centers)):\n",
    "    residue=topol.add_residue('XXX',chain)\n",
    "    atom=topol.add_atom('C',mdtraj.element.Element,residue)\n",
    "    atom.element.symbol='C'\n",
    "    atom.element.radius=0.5\n",
    "\n",
    "posit = np.vstack((receptor.positions._value,view_centers))\n",
    "\n",
    "aux_traj=mdtraj.Trajectory(posit, topol)\n",
    "\n",
    "colors=pnt.utils.colorscale2hex(view_energies_centers)\n",
    "\n",
    "view=nglview.show_mdtraj(aux_traj)\n",
    "view.clear()\n",
    "view.add_ball_and_stick('XXX')\n",
    "view.add_cartoon('protein',color='purple')\n",
    "view.add_surface('protein',color='orange',opacity=0.1)\n",
    "view._set_color_by_residue(colors,component_index=0)\n",
    "view"
   ]
  },
  {
   "cell_type": "code",
   "execution_count": null,
   "metadata": {},
   "outputs": [],
   "source": []
  },
  {
   "cell_type": "code",
   "execution_count": null,
   "metadata": {},
   "outputs": [],
   "source": []
  },
  {
   "cell_type": "code",
   "execution_count": null,
   "metadata": {},
   "outputs": [],
   "source": []
  },
  {
   "cell_type": "code",
   "execution_count": null,
   "metadata": {},
   "outputs": [],
   "source": []
  }
 ],
 "metadata": {
  "kernelspec": {
   "display_name": "Python 3",
   "language": "python",
   "name": "python3"
  },
  "language_info": {
   "codemirror_mode": {
    "name": "ipython",
    "version": 3
   },
   "file_extension": ".py",
   "mimetype": "text/x-python",
   "name": "python",
   "nbconvert_exporter": "python",
   "pygments_lexer": "ipython3",
   "version": "3.6.5"
  }
 },
 "nbformat": 4,
 "nbformat_minor": 2
}
